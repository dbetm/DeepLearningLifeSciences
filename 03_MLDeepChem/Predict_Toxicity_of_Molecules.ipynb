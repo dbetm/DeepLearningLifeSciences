{
  "nbformat": 4,
  "nbformat_minor": 0,
  "metadata": {
    "colab": {
      "name": "Predict Toxity of Molecules.ipynb",
      "provenance": [],
      "authorship_tag": "ABX9TyOjJOfaSto/EyHy7eAI4SmY",
      "include_colab_link": true
    },
    "kernelspec": {
      "name": "python3",
      "display_name": "Python 3"
    },
    "language_info": {
      "name": "python"
    },
    "accelerator": "GPU"
  },
  "cells": [
    {
      "cell_type": "markdown",
      "metadata": {
        "id": "view-in-github",
        "colab_type": "text"
      },
      "source": [
        "<a href=\"https://colab.research.google.com/github/dbetm/DeepLearningLifeSciences/blob/main/03_MLDeepChem/Predict_Toxicity_of_Molecules.ipynb\" target=\"_parent\"><img src=\"https://colab.research.google.com/assets/colab-badge.svg\" alt=\"Open In Colab\"/></a>"
      ]
    },
    {
      "cell_type": "code",
      "metadata": {
        "id": "CowkBXTNsWwt"
      },
      "source": [
        "!pip install --pre deepchem\n",
        "import deepchem\n",
        "deepchem.__version__ # 2.6.0.dev"
      ],
      "execution_count": null,
      "outputs": []
    },
    {
      "cell_type": "code",
      "metadata": {
        "id": "z4tZHfO1sEtt"
      },
      "source": [
        "import deepchem as dc\n",
        "import numpy as np"
      ],
      "execution_count": null,
      "outputs": []
    },
    {
      "cell_type": "markdown",
      "metadata": {
        "id": "zw0NxJj5tBOR"
      },
      "source": [
        "## Loading Tox21 toxicity dataset from MoleculeNet"
      ]
    },
    {
      "cell_type": "markdown",
      "metadata": {
        "id": "kH4R9ri_t8aS"
      },
      "source": [
        "\n",
        "\n",
        "*   **Tasks**: Enzymatic assay which measures whether the molecules in the dataset bind with the biological target in question.\n",
        "*   **Datasets**: multiple dc.data.Dataset objects, which are training, validation and test sets.\n",
        "*   **Transformers**: A transformer is an object that modifies a dataset in some way.\n",
        "\n",
        "\n",
        "\n"
      ]
    },
    {
      "cell_type": "code",
      "metadata": {
        "colab": {
          "base_uri": "https://localhost:8080/"
        },
        "id": "Vv68p0qLtIRI",
        "outputId": "42d58eae-42eb-480a-9211-b625d3894436"
      },
      "source": [
        "tox21_tasks, tox21_datasets, transformers = dc.molnet.load_tox21()\n",
        "# _tasks => 12 tasks here corresponds with a particular biological experiment.\n",
        "print(tox21_tasks)\n",
        "print(tox21_datasets)\n",
        "\n",
        "# Separate datasets\n",
        "train_dataset, valid_dataset, test_dataset = tox21_datasets"
      ],
      "execution_count": null,
      "outputs": [
        {
          "output_type": "stream",
          "text": [
            "['NR-AR', 'NR-AR-LBD', 'NR-AhR', 'NR-Aromatase', 'NR-ER', 'NR-ER-LBD', 'NR-PPAR-gamma', 'SR-ARE', 'SR-ATAD5', 'SR-HSE', 'SR-MMP', 'SR-p53']\n",
            "(<DiskDataset X.shape: (6264, 1024), y.shape: (6264, 12), w.shape: (6264, 12), task_names: ['NR-AR' 'NR-AR-LBD' 'NR-AhR' ... 'SR-HSE' 'SR-MMP' 'SR-p53']>, <DiskDataset X.shape: (783, 1024), y.shape: (783, 12), w.shape: (783, 12), ids: ['N#C[C@@H]1CC(F)(F)CN1C(=O)CNC1CC2CCC(C1)N2c1ncccn1'\n",
            " 'CN(C)C(=O)NC1(c2ccccc2)CCN(CCC[C@@]2(c3ccc(Cl)c(Cl)c3)CCCN(C(=O)c3ccccc3)C2)CC1'\n",
            " 'CSc1nnc(C(C)(C)C)c(=O)n1N' ...\n",
            " 'O=C(O[C@H]1CN2CCC1CC2)N1CCc2ccccc2[C@@H]1c1ccccc1'\n",
            " 'C#C[C@]1(O)CC[C@H]2[C@@H]3CCC4=CC(=O)CC[C@@H]4[C@H]3C(=C)C[C@@]21CC'\n",
            " 'NC(=O)C(c1ccccc1)(c1ccccc1)[C@@H]1CCN(CCc2ccc3c(c2)CCO3)C1'], task_names: ['NR-AR' 'NR-AR-LBD' 'NR-AhR' ... 'SR-HSE' 'SR-MMP' 'SR-p53']>, <DiskDataset X.shape: (784, 1024), y.shape: (784, 12), w.shape: (784, 12), ids: ['CC1(C)S[C@@H]2[C@H](NC(=O)Cc3ccccc3)C(=O)N2[C@H]1C(=O)O.CC1(C)S[C@@H]2[C@H](NC(=O)Cc3ccccc3)C(=O)N2[C@H]1C(=O)O.c1ccc(CNCCNCc2ccccc2)cc1'\n",
            " 'CC(C)(c1ccc(Oc2ccc3c(c2)C(=O)OC3=O)cc1)c1ccc(Oc2ccc3c(c2)C(=O)OC3=O)cc1'\n",
            " 'Cc1cc(C(C)(C)C)c(O)c(C)c1Cn1c(=O)n(Cc2c(C)cc(C(C)(C)C)c(O)c2C)c(=O)n(Cc2c(C)cc(C(C)(C)C)c(O)c2C)c1=O'\n",
            " ... 'CN[C@@H]1C[C@@H](c2ccc(Cl)c(Cl)c2)c2ccccc21'\n",
            " 'Cl/C=C\\\\C[N+]12CN3CN(CN(C3)C1)C2'\n",
            " 'NC(=O)c1ccc[n+]([C@@H]2O[C@H](COP(=O)([O-])OP(=O)(O)OC[C@H]3O[C@@H](n4cnc5c(N)ncnc54)[C@H](O)[C@@H]3O)[C@@H](O)[C@H]2O)c1'], task_names: ['NR-AR' 'NR-AR-LBD' 'NR-AhR' ... 'SR-HSE' 'SR-MMP' 'SR-p53']>)\n"
          ],
          "name": "stdout"
        }
      ]
    },
    {
      "cell_type": "markdown",
      "metadata": {
        "id": "_r0dwfKcwAJU"
      },
      "source": [
        "#### Exploring the shapes of dataset"
      ]
    },
    {
      "cell_type": "code",
      "metadata": {
        "colab": {
          "base_uri": "https://localhost:8080/"
        },
        "id": "mUPKKl79wJ78",
        "outputId": "19ccd809-d180-4d2c-d69f-98667e1ac9e6"
      },
      "source": [
        "print(train_dataset.X.shape)\n",
        "print(valid_dataset.X.shape)\n",
        "print(test_dataset.X.shape)"
      ],
      "execution_count": null,
      "outputs": [
        {
          "output_type": "stream",
          "text": [
            "(6264, 1024)\n",
            "(783, 1024)\n",
            "(784, 1024)\n"
          ],
          "name": "stdout"
        }
      ]
    },
    {
      "cell_type": "code",
      "metadata": {
        "colab": {
          "base_uri": "https://localhost:8080/"
        },
        "id": "lpkvXsLwwdQO",
        "outputId": "a5548e65-c98f-405c-d1ed-75ef1334ad9e"
      },
      "source": [
        "# There are 12 data points, labels, for each sample. These correspond to the 12 tasks.\n",
        "\n",
        "print(train_dataset.y.shape)\n",
        "print(valid_dataset.y.shape)\n",
        "print(test_dataset.y.shape)"
      ],
      "execution_count": null,
      "outputs": [
        {
          "output_type": "stream",
          "text": [
            "(6264, 12)\n",
            "(783, 12)\n",
            "(784, 12)\n"
          ],
          "name": "stdout"
        }
      ]
    },
    {
      "cell_type": "markdown",
      "metadata": {
        "id": "hvFP9X_lxIQX"
      },
      "source": [
        "**ISSUE:** The actual experimental dataset for Tox21 did not\n",
        "test every molecule in every biological experiment. That means that some of these labels are meaningless placeholders. We need to ignore those elements of the arrays when training and testing the model.\n",
        "\n",
        "If a label has a weight of 0, that label does not affect the loss and is ignored during training."
      ]
    },
    {
      "cell_type": "code",
      "metadata": {
        "colab": {
          "base_uri": "https://localhost:8080/"
        },
        "id": "TnK6i00jzGnM",
        "outputId": "7857062a-de60-4c6c-c723-0b3e82aa310f"
      },
      "source": [
        "# How many labels have actually been measured?\n",
        "\n",
        "print(\"Shape: {}, total: {}x{}={}\".format(\n",
        "    train_dataset.w.shape, \n",
        "    train_dataset.w.shape[0], \n",
        "    train_dataset.w.shape[1],\n",
        "    train_dataset.w.shape[0] * train_dataset.w.shape[1]\n",
        "))\n",
        "\n",
        "print(\"Measured: {}\".format(np.count_nonzero(train_dataset.w)))\n",
        "print(\"Missing labels: {}\".format(np.count_nonzero(train_dataset.w == 0)))"
      ],
      "execution_count": null,
      "outputs": [
        {
          "output_type": "stream",
          "text": [
            "Shape: (6264, 12), total: 6264x12=75168\n",
            "Measured: 63647\n",
            "Missing labels: 11521\n"
          ],
          "name": "stdout"
        }
      ]
    },
    {
      "cell_type": "markdown",
      "metadata": {
        "id": "Pu2uP9kE1Hir"
      },
      "source": [
        "### Which transformer are we using?\n",
        "\n",
        "BalancingTransformer in order to correct for unbalanced data. BalancingTransformer adjusts the weights for individual data points so that the total weight assigned to every class is the same. The loss can be only be decresed by learning to correctly distinguish between classes."
      ]
    },
    {
      "cell_type": "code",
      "metadata": {
        "colab": {
          "base_uri": "https://localhost:8080/"
        },
        "id": "MJzw5rKc1lPN",
        "outputId": "ed8f9c3b-308a-4c6a-f4d6-fbbab7e2ab5c"
      },
      "source": [
        "print(transformers)"
      ],
      "execution_count": null,
      "outputs": [
        {
          "output_type": "stream",
          "text": [
            "[<deepchem.trans.transformers.BalancingTransformer object at 0x7f0ac761ffd0>]\n"
          ],
          "name": "stdout"
        }
      ]
    },
    {
      "cell_type": "markdown",
      "metadata": {
        "id": "tWmBXoFt25k4"
      },
      "source": [
        "## Training an implemented fully connected network (MLP, Multilayer Perceptron)."
      ]
    },
    {
      "cell_type": "code",
      "metadata": {
        "id": "fsB2aZuc3F5f"
      },
      "source": [
        "# A neural network with a hidden layer and 1000 neurons.\n",
        "model = dc.models.MultitaskClassifier(n_tasks=12, n_features=1024, layer_sizes=[1000]) "
      ],
      "execution_count": null,
      "outputs": []
    },
    {
      "cell_type": "code",
      "metadata": {
        "id": "X2F1TrEQ36h8",
        "colab": {
          "base_uri": "https://localhost:8080/"
        },
        "outputId": "2c8650c7-e8f9-4690-afbe-ebb9954ebe0f"
      },
      "source": [
        "model.fit(train_dataset, nb_epoch=10)"
      ],
      "execution_count": null,
      "outputs": [
        {
          "output_type": "execute_result",
          "data": {
            "text/plain": [
              "0.49523932139078775"
            ]
          },
          "metadata": {
            "tags": []
          },
          "execution_count": 10
        }
      ]
    },
    {
      "cell_type": "markdown",
      "metadata": {
        "id": "m3DeRrw3s13E"
      },
      "source": [
        "## Evaluating the performance"
      ]
    },
    {
      "cell_type": "markdown",
      "metadata": {
        "id": "cabG30OJs77i"
      },
      "source": [
        "ROC AUC score is a useful metric, given that we have multiples tasks we need to compute the **mean ROC AUC** score across all tasks.\n",
        "\n",
        "**About ROC AUC**\n",
        "\n",
        "At this problem we have a trade-off: We want to classify molecules as toxic or nontoxic, but the model outputs continuous numbers, not discrete predictions. We use a threshold value...a low threshold will produce many false positives (predicting a safe molecule is actually toxic). A higher threshold will give fewer false positives but more false negatives (incorrectly predicting that a toxic molecule is safe).\n",
        "\n",
        "The ROC (Receiver Operating Characteristic) curve is a convenient way to visualize this trade-off.\n",
        "\n",
        "The ROC AUC is the total area under the ROC curve. AUC provides an indication of the model's ablity to distinguish different classes:\n",
        "- If there exists any threshold value for which every sample is classified correctly, the ROC AUC score is 1.\n",
        "- If the model outputs completely random values unrelated to the true classes, the ROC AUC score is 0.5.\n",
        "\n"
      ]
    },
    {
      "cell_type": "code",
      "metadata": {
        "colab": {
          "base_uri": "https://localhost:8080/"
        },
        "id": "UHoq24p9s6Vx",
        "outputId": "f4847aa9-674e-4231-d317-b3ba23693973"
      },
      "source": [
        "metric = dc.metrics.Metric(dc.metrics.roc_auc_score, np.mean)\n",
        "# We evaluate the perfomance of the model on a given dataset and using the above metric.\n",
        "train_scores = model.evaluate(train_dataset, [metric], transformers)\n",
        "test_scores = model.evaluate(test_dataset, [metric], transformers)\n",
        "\n",
        "print(\"Train scores: {}\".format(train_scores))\n",
        "print(\"Test scores: {}\".format(test_scores))"
      ],
      "execution_count": null,
      "outputs": [
        {
          "output_type": "stream",
          "text": [
            "Train scores: {'mean-roc_auc_score': 0.9590226869366867}\n",
            "Test scores: {'mean-roc_auc_score': 0.6851676730697361}\n"
          ],
          "name": "stdout"
        }
      ]
    },
    {
      "cell_type": "markdown",
      "metadata": {
        "id": "DVtLdbLP0d6i"
      },
      "source": [
        "*Note: The model has been overfit.*"
      ]
    },
    {
      "cell_type": "markdown",
      "metadata": {
        "id": "U15qJZ7h00Q4"
      },
      "source": [
        "![ROC curve.png](data:image/png;base64,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)"
      ]
    },
    {
      "cell_type": "markdown",
      "metadata": {
        "id": "H48S3Yz21Ij3"
      },
      "source": [
        "The ROC curve for one of the 12 tasks."
      ]
    }
  ]
}