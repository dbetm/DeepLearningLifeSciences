{
  "nbformat": 4,
  "nbformat_minor": 0,
  "metadata": {
    "colab": {
      "name": "Cell Counting.ipynb",
      "provenance": [],
      "collapsed_sections": [],
      "authorship_tag": "ABX9TyMYjxRuHEEW8Bx8YnTQ66aI",
      "include_colab_link": true
    },
    "kernelspec": {
      "name": "python3",
      "display_name": "Python 3"
    },
    "language_info": {
      "name": "python"
    },
    "accelerator": "GPU"
  },
  "cells": [
    {
      "cell_type": "markdown",
      "metadata": {
        "id": "view-in-github",
        "colab_type": "text"
      },
      "source": [
        "<a href=\"https://colab.research.google.com/github/dbetm/DeepLearningLifeSciences/blob/main/Cell_Counting.ipynb\" target=\"_parent\"><img src=\"https://colab.research.google.com/assets/colab-badge.svg\" alt=\"Open In Colab\"/></a>"
      ]
    },
    {
      "cell_type": "markdown",
      "metadata": {
        "id": "dJDsvNKWKt9x"
      },
      "source": [
        "**Problem:** Counting cells in microscopy images (regression).\n",
        "\n",
        "**Dataset:** [BBBC Datasets](https://bbbc.broadinstitute.org/) - The BBBC datasets contain a useful collection of annotated bioimage datasets from various cellular assays. Specifically, we are going to use [BBBC005](https://bbbc.broadinstitute.org/BBBC005) - Synthetic cells ( the ground truth consists of the number of cells in each image, as counted by one or more humans).\n",
        "\n",
        "\n",
        "**Why is this an interesting task?**\n",
        "For a number of biological experiments, it can be quite useful to track the number of cells that survive after a given intervention. For example, perhaps the cells are drawn from a cancer cell line, and the intervention is the application of an anticancer compound. A successful intervention would reduce the number of living cancer cells,"
      ]
    },
    {
      "cell_type": "markdown",
      "metadata": {
        "id": "Dm03X3HhMAAy"
      },
      "source": [
        "## Setup"
      ]
    },
    {
      "cell_type": "code",
      "metadata": {
        "id": "D5BFEMLqL-42"
      },
      "source": [
        "!curl -Lo conda_installer.py https://raw.githubusercontent.com/deepchem/deepchem/master/scripts/colab_install.py\n",
        "import conda_installer\n",
        "conda_installer.install()\n",
        "!/root/miniconda/bin/conda info -e\n",
        "!pip install --pre deepchem\n",
        "import deepchem as dc\n",
        "dc.__version__"
      ],
      "execution_count": null,
      "outputs": []
    },
    {
      "cell_type": "markdown",
      "metadata": {
        "id": "8lP2OAA-MpJa"
      },
      "source": [
        "## Loading dataset (BBBC005)"
      ]
    },
    {
      "cell_type": "code",
      "metadata": {
        "colab": {
          "base_uri": "https://localhost:8080/"
        },
        "id": "ofqiMk_NKpxh",
        "outputId": "b8948535-f568-4e26-f090-7b1152715ac1"
      },
      "source": [
        "# Downloading the dataset (about 2-5 minutes)\n",
        "!wget https://data.broadinstitute.org/bbbc/BBBC005/BBBC005_v1_images.zip"
      ],
      "execution_count": null,
      "outputs": [
        {
          "output_type": "stream",
          "text": [
            "--2021-07-14 03:59:51--  https://data.broadinstitute.org/bbbc/BBBC005/BBBC005_v1_images.zip\n",
            "Resolving data.broadinstitute.org (data.broadinstitute.org)... 69.173.92.29\n",
            "Connecting to data.broadinstitute.org (data.broadinstitute.org)|69.173.92.29|:443... connected.\n",
            "HTTP request sent, awaiting response... 200 OK\n",
            "Length: 1882973059 (1.8G) [application/zip]\n",
            "Saving to: ‘BBBC005_v1_images.zip’\n",
            "\n",
            "BBBC005_v1_images.z 100%[===================>]   1.75G   769KB/s    in 76m 34s \n",
            "\n",
            "2021-07-14 05:16:26 (400 KB/s) - ‘BBBC005_v1_images.zip’ saved [1882973059/1882973059]\n",
            "\n"
          ],
          "name": "stdout"
        }
      ]
    },
    {
      "cell_type": "code",
      "metadata": {
        "id": "9EY-YC-qNhqt"
      },
      "source": [
        "!unzip BBBC005_v1_images.zip"
      ],
      "execution_count": null,
      "outputs": []
    },
    {
      "cell_type": "markdown",
      "metadata": {
        "id": "n_CYu7znN-qj"
      },
      "source": [
        "### Loading the dataset into DeepChem"
      ]
    },
    {
      "cell_type": "code",
      "metadata": {
        "id": "vnUaCGndODRo"
      },
      "source": [
        "import os\n",
        "import re\n",
        "\n",
        "import numpy as np"
      ],
      "execution_count": null,
      "outputs": []
    },
    {
      "cell_type": "code",
      "metadata": {
        "id": "VUnY6E0lNtwl"
      },
      "source": [
        "image_dir = 'BBBC005_v1_images'\n",
        "files = []\n",
        "labels = []\n",
        "\n",
        "for f in os.listdir(image_dir):\n",
        "  if f.endswith('.TIF'):\n",
        "    files.append(os.path.join(image_dir, f))\n",
        "    # the label is explicit (# of cells) on name of image file\n",
        "    labels.append(int(re.findall('_C(.*?)_', f)[0]))\n",
        "\n",
        "dataset = dc.data.ImageDataset(files, np.array(labels))"
      ],
      "execution_count": null,
      "outputs": []
    },
    {
      "cell_type": "code",
      "metadata": {
        "id": "zcl74OZogxBQ"
      },
      "source": [
        "# Split the dataset\n",
        "splitter = dc.splits.RandomSplitter()\n",
        "\n",
        "train_dataset, valid_dataset, test_dataset = splitter.train_valid_test_split(\n",
        "  dataset, seed=123\n",
        ")"
      ],
      "execution_count": null,
      "outputs": []
    },
    {
      "cell_type": "code",
      "metadata": {
        "colab": {
          "base_uri": "https://localhost:8080/"
        },
        "id": "I78jXii8oDHw",
        "outputId": "a4a40f72-bb4a-44ef-a43b-feba199b147f"
      },
      "source": [
        "train_dataset.get_shape()"
      ],
      "execution_count": null,
      "outputs": [
        {
          "output_type": "execute_result",
          "data": {
            "text/plain": [
              "(array([15360,   520,   696]), (15360,), (15360,), (15360,))"
            ]
          },
          "metadata": {
            "tags": []
          },
          "execution_count": 7
        }
      ]
    },
    {
      "cell_type": "markdown",
      "metadata": {
        "id": "NXzEnJPEhgYn"
      },
      "source": [
        "## Creating the model (CNN)"
      ]
    },
    {
      "cell_type": "code",
      "metadata": {
        "id": "ZiqpIXSThjWm"
      },
      "source": [
        "import tensorflow as tf\n",
        "import tensorflow.keras.layers as layers"
      ],
      "execution_count": null,
      "outputs": []
    },
    {
      "cell_type": "code",
      "metadata": {
        "id": "8ya96spQjjyS"
      },
      "source": [
        "input_shape = (520, 696, 1)\n",
        "batch_size = 64\n",
        "\n",
        "optimizer = dc.models.optimizers.ExponentialDecay(initial_rate=0.001, decay_rate=0.9, decay_steps=250)"
      ],
      "execution_count": null,
      "outputs": []
    },
    {
      "cell_type": "code",
      "metadata": {
        "id": "K9ViPRSVja-y"
      },
      "source": [
        "input = tf.keras.Input(shape=input_shape)\n",
        "cnn = input\n",
        "\n",
        "for num_filters in [16, 32, 64, 128]:\n",
        "  cnn = layers.Conv2D(filters=num_filters, kernel_size=5, strides=2, activation='relu')(cnn)\n",
        "  cnn = layers.Dropout(rate=0.3)(cnn)\n",
        "\n",
        "cnn = layers.MaxPool2D(pool_size=(2, 2))(cnn)\n",
        "\n",
        "cnn = layers.Flatten()(cnn)\n",
        "output = layers.Dense(units=1)(cnn)\n",
        "\n",
        "keras_model = tf.keras.Model(inputs=input, outputs=output)\n",
        "\n",
        "loss = dc.models.losses.L2Loss()\n",
        "\n",
        "model = dc.models.KerasModel(\n",
        "    model=keras_model,\n",
        "    loss=loss,\n",
        "    learning_rate=optimizer,\n",
        "    batch_size=batch_size\n",
        ")"
      ],
      "execution_count": null,
      "outputs": []
    },
    {
      "cell_type": "markdown",
      "metadata": {
        "id": "50A4wKTgqDN9"
      },
      "source": [
        "## Training"
      ]
    },
    {
      "cell_type": "markdown",
      "metadata": {
        "id": "Zza19RnvhKlD"
      },
      "source": [
        "Note: If you don't want to train the model, you can get a pre-trained model [here](https://s3-us-west-1.amazonaws.com/deepchem.io/featurized_datasets/microscopy_models.zip), and then load with `model.restore()` (you need to specify model directory when you instance the model).\n",
        "\n",
        "You can use the next code in order to download the weights of the trained model:\n",
        "\n",
        "```\n",
        "mkdir models\n",
        "cd models\n",
        "wget https://s3-us-west-1.amazonaws.com/deepchem.io/featurized_datasets/microscopy_models.zip\n",
        "unzip microscopy_models.zip\n",
        "```\n",
        "\n"
      ]
    },
    {
      "cell_type": "code",
      "metadata": {
        "id": "nY1a5qShqGcN"
      },
      "source": [
        "from tqdm.notebook import tqdm"
      ],
      "execution_count": 1,
      "outputs": []
    },
    {
      "cell_type": "code",
      "metadata": {
        "id": "fBUkgdZSrhQS"
      },
      "source": [
        "pearsonr2 = dc.metrics.Metric(metric=dc.metrics.pearson_r2_score, mode='regression')\n",
        "num_epochs = 50"
      ],
      "execution_count": null,
      "outputs": []
    },
    {
      "cell_type": "code",
      "metadata": {
        "id": "g0M_slySryVM"
      },
      "source": [
        "train_pearsonr2 = []\n",
        "valid_pearsonr2 = []\n",
        "\n",
        "# Check performance using validation test every 10 epochs.\n",
        "\n",
        "for x in tqdm(range(num_epochs // 10)):\n",
        "  model.fit(train_dataset, nb_epoch=10)\n",
        "\n",
        "  train_score = model.evaluate(dataset=train_dataset, metrics=[pearsonr2])\n",
        "  valid_score = model.evaluate(dataset=valid_dataset, metrics=[pearsonr2])\n",
        "\n",
        "  train_pearsonr2.append(train_score['pearson_r2_score'])\n",
        "  valid_pearsonr2.append(valid_score['pearson_r2_score'])"
      ],
      "execution_count": null,
      "outputs": []
    },
    {
      "cell_type": "markdown",
      "metadata": {
        "id": "KVoZeNAtNd-I"
      },
      "source": [
        "## Results and testing"
      ]
    },
    {
      "cell_type": "code",
      "metadata": {
        "colab": {
          "base_uri": "https://localhost:8080/"
        },
        "id": "ZwEgnpJ0OPE1",
        "outputId": "ec7cef95-1619-403f-db6e-4856b2472e98"
      },
      "source": [
        "print('Training dataset - pearson r2 score: {}'.format(train_pearsonr2[-1]))\n",
        "print('Validation dataset - pearson r2 score: {}'.format(valid_pearsonr2[-1]))"
      ],
      "execution_count": null,
      "outputs": [
        {
          "output_type": "stream",
          "text": [
            "Training dataset - pearson r2 score: 0.958656439857493\n",
            "Validation dataset - pearson r2 score: 0.95421475262831\n"
          ],
          "name": "stdout"
        }
      ]
    },
    {
      "cell_type": "code",
      "metadata": {
        "id": "uT0eMC8ROByW"
      },
      "source": [
        "%matplotlib inline\n",
        "import matplotlib.pyplot as plt"
      ],
      "execution_count": null,
      "outputs": []
    },
    {
      "cell_type": "code",
      "metadata": {
        "colab": {
          "base_uri": "https://localhost:8080/",
          "height": 295
        },
        "id": "or7n0JDeODlv",
        "outputId": "16a745f7-904b-433c-c9c7-f999ca74ca97"
      },
      "source": [
        "x = np.linspace(0, num_epochs, num_epochs // 10)\n",
        "\n",
        "plt.title('Performance during training')\n",
        "plt.plot(x, train_pearsonr2, label='Training', color='purple')\n",
        "plt.plot(x, valid_pearsonr2, label='Validation', color='green')\n",
        "\n",
        "plt.xlabel('Epochs')\n",
        "plt.ylabel('r2')\n",
        "\n",
        "# plt.ylim(0.40, 1.0)\n",
        "\n",
        "plt.legend()\n",
        "plt.show()"
      ],
      "execution_count": null,
      "outputs": [
        {
          "output_type": "display_data",
          "data": {
            "image/png": "[encoded data removed]",
            "text/plain": [
              "<Figure size 432x288 with 1 Axes>"
            ]
          },
          "metadata": {
            "tags": [],
            "needs_background": "light"
          }
        }
      ]
    },
    {
      "cell_type": "code",
      "metadata": {
        "colab": {
          "base_uri": "https://localhost:8080/"
        },
        "id": "3ZLXDei9O2OJ",
        "outputId": "21ca055d-88c8-443e-a3ab-69bc5a2e9dbf"
      },
      "source": [
        "# test dataset\n",
        "test_score = model.evaluate(dataset=test_dataset, metrics=[pearsonr2])\n",
        "print('Test score: {}'.format(test_score))"
      ],
      "execution_count": null,
      "outputs": [
        {
          "output_type": "stream",
          "text": [
            "Test score: {'pearson_r2_score': 0.9586807299449425}\n"
          ],
          "name": "stdout"
        }
      ]
    },
    {
      "cell_type": "markdown",
      "metadata": {
        "id": "2CupQlRRv1q3"
      },
      "source": [
        "**Note**: It's a good result. Another aproach could be using a object detection model if we had the cell located and labeled on the images."
      ]
    }
  ]
}