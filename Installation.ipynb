{
  "nbformat": 4,
  "nbformat_minor": 0,
  "metadata": {
    "colab": {
      "name": "Installation.ipynb",
      "provenance": [],
      "collapsed_sections": [],
      "authorship_tag": "ABX9TyOIEFnqZPHKbtJugCUQfDJK",
      "include_colab_link": true
    },
    "kernelspec": {
      "name": "python3",
      "display_name": "Python 3"
    },
    "language_info": {
      "name": "python"
    }
  },
  "cells": [
    {
      "cell_type": "markdown",
      "metadata": {
        "id": "view-in-github",
        "colab_type": "text"
      },
      "source": [
        "<a href=\"https://colab.research.google.com/github/dbetm/DeepLearningLifeSciences/blob/main/Installation.ipynb\" target=\"_parent\"><img src=\"https://colab.research.google.com/assets/colab-badge.svg\" alt=\"Open In Colab\"/></a>"
      ]
    },
    {
      "cell_type": "code",
      "metadata": {
        "id": "IiDJGcVVnwlC"
      },
      "source": [
        "!curl -Lo conda_installer.py https://raw.githubusercontent.com/deepchem/deepchem/master/scripts/colab_install.py\n",
        "import conda_installer\n",
        "conda_installer.install()\n",
        "!/root/miniconda/bin/conda info -e\n",
        "!pip install --pre deepchem\n",
        "import deepchem\n",
        "deepchem.__version__"
      ],
      "execution_count": null,
      "outputs": []
    },
    {
      "cell_type": "markdown",
      "metadata": {
        "id": "McUK3c5opDjx"
      },
      "source": [
        "# DeepChem Datasets"
      ]
    },
    {
      "cell_type": "code",
      "metadata": {
        "id": "7oLPp4ippBkK"
      },
      "source": [
        "import deepchem as dc\n",
        "import numpy as np"
      ],
      "execution_count": 4,
      "outputs": []
    },
    {
      "cell_type": "code",
      "metadata": {
        "colab": {
          "base_uri": "https://localhost:8080/"
        },
        "id": "kY-NRXWMpaBy",
        "outputId": "d36620b3-749b-42a0-f805-771e793c2e70"
      },
      "source": [
        "# Wrap Numpy Arrays with NumpyDataset\n",
        "\n",
        "x = np.random.random((4, 5))\n",
        "y = np.random.random((4, 1))\n",
        "print(x)\n",
        "print(y)\n",
        "\n",
        "# wrapping\n",
        "dataset = dc.data.NumpyDataset(x, y)\n",
        "print(dataset.X)\n",
        "print(dataset.y)"
      ],
      "execution_count": 7,
      "outputs": [
        {
          "output_type": "stream",
          "text": [
            "[[0.92176724 0.89874566 0.65402688 0.47947964 0.95294077]\n",
            " [0.50496897 0.47911329 0.50389055 0.28578489 0.68156636]\n",
            " [0.51505825 0.8373001  0.91081071 0.64940008 0.6116178 ]\n",
            " [0.81516054 0.62830853 0.92330761 0.71554343 0.83682503]]\n",
            "[[0.20778774]\n",
            " [0.43257896]\n",
            " [0.78922786]\n",
            " [0.8425518 ]]\n",
            "[[0.92176724 0.89874566 0.65402688 0.47947964 0.95294077]\n",
            " [0.50496897 0.47911329 0.50389055 0.28578489 0.68156636]\n",
            " [0.51505825 0.8373001  0.91081071 0.64940008 0.6116178 ]\n",
            " [0.81516054 0.62830853 0.92330761 0.71554343 0.83682503]]\n",
            "[[0.20778774]\n",
            " [0.43257896]\n",
            " [0.78922786]\n",
            " [0.8425518 ]]\n"
          ],
          "name": "stdout"
        }
      ]
    },
    {
      "cell_type": "markdown",
      "metadata": {
        "id": "Gqn1p7lwqoU5"
      },
      "source": [
        "Note: There are other types of Datasets objects, for example, for large dataset that it can't be enterely stored in computer memory."
      ]
    }
  ]
}