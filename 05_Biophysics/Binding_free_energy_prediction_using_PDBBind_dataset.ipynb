{
  "nbformat": 4,
  "nbformat_minor": 0,
  "metadata": {
    "colab": {
      "name": "Binding free energy prediction using PDBBind dataset.ipynb",
      "provenance": [],
      "collapsed_sections": [],
      "authorship_tag": "ABX9TyOX1FxMfwwYwt5ZgWkApSb7",
      "include_colab_link": true
    },
    "kernelspec": {
      "name": "python3",
      "display_name": "Python 3"
    },
    "language_info": {
      "name": "python"
    },
    "accelerator": "GPU"
  },
  "cells": [
    {
      "cell_type": "markdown",
      "metadata": {
        "id": "view-in-github",
        "colab_type": "text"
      },
      "source": [
        "<a href=\"https://colab.research.google.com/github/dbetm/DeepLearningLifeSciences/blob/main/Binding_free_energy_prediction_using_PDBBind_dataset.ipynb\" target=\"_parent\"><img src=\"https://colab.research.google.com/assets/colab-badge.svg\" alt=\"Open In Colab\"/></a>"
      ]
    },
    {
      "cell_type": "markdown",
      "metadata": {
        "id": "30MBZQRROBBn"
      },
      "source": [
        "# Binding free energy prediction using PDBBind dataset\n",
        "\n",
        "PDB stands for [Protein Data Bank](https://www.rcsb.org/).\n",
        "\n",
        "**Problem**: Predicting the binding affinity of protein–ligand\n",
        "systems.\n",
        "\n",
        "The binding free energy is described as a sum of the intermolecular interactions between the ligand and the protein and the internal steric energy of the ligand."
      ]
    },
    {
      "cell_type": "code",
      "metadata": {
        "id": "qyO1AS3JBsU2"
      },
      "source": [
        ""
      ],
      "execution_count": null,
      "outputs": []
    },
    {
      "cell_type": "code",
      "metadata": {
        "id": "VR4lnOWV0VAF"
      },
      "source": [
        "!curl -Lo conda_installer.py https://raw.githubusercontent.com/deepchem/deepchem/master/scripts/colab_install.py\n",
        "import conda_installer\n",
        "conda_installer.install()\n",
        "!/root/miniconda/bin/conda info -e\n",
        "!pip install --pre deepchem\n",
        "import deepchem as dc\n",
        "dc.__version__"
      ],
      "execution_count": null,
      "outputs": []
    },
    {
      "cell_type": "markdown",
      "metadata": {
        "id": "zSTZGHO00yzB"
      },
      "source": [
        "## Featurizing the PDBBind Dataset"
      ]
    },
    {
      "cell_type": "markdown",
      "metadata": {
        "id": "D6I9jEB1P_7x"
      },
      "source": [
        "\n",
        "* **voxelization**, a voxel is the 3D analogue of a\n",
        "pixel.\n",
        "* **feature types**, sets the types of biophysical and chemical features that the RdkitGridFeaturizer will attempt to detect in input structure.\n",
        "*   **sanitize**, featurizer will try to clean up any structures (malformed).\n",
        "* **flatten**, output like one-dimensional feature vector.\n",
        "\n",
        "The RdkitGridFeaturizer converts a protein to a voxelized representation for use in extracting useful features (biophysical and fingerprints ECFP or SPLIF).\n",
        "\n",
        "Chemical fingerprints are vectors of 1s and 0s. Each element of the fingerprint vector indicates the presence or absence of a particular molecular feature, defined by some local arrangement of atoms.\n",
        "\n",
        "ECFP - Extended-connectivity fingerprints, take molecules of\n",
        "arbitrary size and convert them into fixed-length vectors. \n",
        "\n",
        "\n"
      ]
    },
    {
      "cell_type": "markdown",
      "metadata": {
        "id": "EtdIEDHxQP_w"
      },
      "source": [
        "Note: 1 angstrom is 10^−10 meters"
      ]
    },
    {
      "cell_type": "code",
      "metadata": {
        "id": "ZCZw0_by0ybL"
      },
      "source": [
        "grid_featurizer = dc.feat.RdkitGridFeaturizer(\n",
        "  voxel_width=2.0, # 2 angstroms\n",
        "  feature_types=['hbond', 'salt_bridge', 'pi_stack', 'cation_pi', 'ecfp', 'splif'],\n",
        "  sanitize=True,\n",
        "  flatten=True\n",
        ")"
      ],
      "execution_count": 2,
      "outputs": []
    },
    {
      "cell_type": "markdown",
      "metadata": {
        "id": "52fkK-T4SNJd"
      },
      "source": [
        "## Loding PDBBind dataset"
      ]
    },
    {
      "cell_type": "markdown",
      "metadata": {
        "id": "IXw2Xlj2TVWD"
      },
      "source": [
        "The PDBBind dataset includes experimental binding affinity data and structures for 4852 protein-ligand complexes from the \"refined set\" and 12800 complexes from the \"general set\" in PDBBind v2019 and 193 complexes from the \"core set\" in PDBBind v2013."
      ]
    },
    {
      "cell_type": "markdown",
      "metadata": {
        "id": "2wl2uxeDV-yd"
      },
      "source": [
        "**Note: It's necessary to use a GPU. If you are using Google Colab, please change runtime type to GPU.**"
      ]
    },
    {
      "cell_type": "code",
      "metadata": {
        "id": "utfCIhQBSbuu"
      },
      "source": [
        "# This will take about 12 minutes\n",
        "tasks, datasets, transformers = dc.molnet.load_pdbbind(\n",
        "  featurizer=grid_featurizer,\n",
        "  splitter='random',\n",
        "  set_name='core'\n",
        ")\n",
        "train_dataset, valid_dataset, test_dataset = datasets"
      ],
      "execution_count": null,
      "outputs": []
    },
    {
      "cell_type": "markdown",
      "metadata": {
        "id": "cT1XiMeJWvtn"
      },
      "source": [
        "## Building a machine learning model ([random forest](https://scikit-learn.org/stable/modules/generated/sklearn.ensemble.RandomForestClassifier.html)) in order to predict.\n",
        "\n",
        "Random Forest (rf) is used like baseline to compare with a deep model (later we will construc it)."
      ]
    },
    {
      "cell_type": "code",
      "metadata": {
        "id": "ZyLgbAPfXGCD"
      },
      "source": [
        "from sklearn.ensemble import RandomForestRegressor"
      ],
      "execution_count": 4,
      "outputs": []
    },
    {
      "cell_type": "code",
      "metadata": {
        "id": "PTSONnEyXQa_"
      },
      "source": [
        "rf_sklearn_model = RandomForestRegressor(n_estimators=100)\n",
        "rf_model = dc.models.SklearnModel(rf_sklearn_model)"
      ],
      "execution_count": 5,
      "outputs": []
    },
    {
      "cell_type": "markdown",
      "metadata": {
        "id": "KuUmty0UaBZl"
      },
      "source": [
        "### Training"
      ]
    },
    {
      "cell_type": "code",
      "metadata": {
        "id": "lS30BULJaAv4"
      },
      "source": [
        "rf_model.fit(train_dataset)"
      ],
      "execution_count": 6,
      "outputs": []
    },
    {
      "cell_type": "markdown",
      "metadata": {
        "id": "yODet5blajEp"
      },
      "source": [
        "## Building a deep learning model (neural network) in order to predict"
      ]
    },
    {
      "cell_type": "markdown",
      "metadata": {
        "id": "ViTl5LWE5dlr"
      },
      "source": [
        "Neural network with three hidden layers, 2048, 1024 and 500 units respectively."
      ]
    },
    {
      "cell_type": "code",
      "metadata": {
        "id": "6_7AmFNqasFs"
      },
      "source": [
        "n_features = train_dataset.X.shape[1]\n",
        "nn_model = dc.models.MultitaskRegressor(\n",
        "  n_tasks=len(tasks),\n",
        "  n_features=n_features,\n",
        "  layer_sizes=[2048, 1024, 500],\n",
        "  dropout=0.2,\n",
        "  learning_rate=0.0001\n",
        ")"
      ],
      "execution_count": 23,
      "outputs": []
    },
    {
      "cell_type": "markdown",
      "metadata": {
        "id": "RE7q_d5Q5spG"
      },
      "source": [
        "### Training"
      ]
    },
    {
      "cell_type": "code",
      "metadata": {
        "colab": {
          "base_uri": "https://localhost:8080/"
        },
        "id": "ye83DHNL5sUD",
        "outputId": "a8e8786d-0bf6-449a-cfc5-b3ede57e308c"
      },
      "source": [
        "nn_model.fit(train_dataset, nb_epoch=500)"
      ],
      "execution_count": 24,
      "outputs": [
        {
          "output_type": "execute_result",
          "data": {
            "text/plain": [
              "0.10815295219421386"
            ]
          },
          "metadata": {
            "tags": []
          },
          "execution_count": 24
        }
      ]
    },
    {
      "cell_type": "markdown",
      "metadata": {
        "id": "50NewmLW5_ts"
      },
      "source": [
        "## Checking accuracy of the models"
      ]
    },
    {
      "cell_type": "code",
      "metadata": {
        "id": "uxPhxUH_6LNT"
      },
      "source": [
        "metric = dc.metrics.Metric(dc.metrics.pearson_r2_score)"
      ],
      "execution_count": 25,
      "outputs": []
    },
    {
      "cell_type": "code",
      "metadata": {
        "colab": {
          "base_uri": "https://localhost:8080/"
        },
        "id": "BT2H23oJ6RT5",
        "outputId": "589994d3-fb61-44dd-e119-aed4745ddcf4"
      },
      "source": [
        "print(\"Evaluating trained random forest model\")\n",
        "rf_train_scores = rf_model.evaluate(train_dataset, [metric], transformers)\n",
        "rf_test_scores = rf_model.evaluate(test_dataset, [metric], transformers)\n",
        "print(\"Train score: {}\".format(rf_train_scores))\n",
        "print(\"Test score: {}\".format(rf_test_scores))\n",
        "print(\"\\n\")\n",
        "print(\"Evaluating trained neural network model\")\n",
        "nn_train_scores = nn_model.evaluate(train_dataset, [metric], transformers)\n",
        "nn_test_scores = nn_model.evaluate(test_dataset, [metric], transformers)\n",
        "print(\"Train score: {}\".format(nn_train_scores))\n",
        "print(\"Test score: {}\".format(nn_test_scores))"
      ],
      "execution_count": 26,
      "outputs": [
        {
          "output_type": "stream",
          "text": [
            "Evaluating trained random forest model\n",
            "Train score: {'pearson_r2_score': 0.8720843042880477}\n",
            "Test score: {'pearson_r2_score': 0.07945779563998752}\n",
            "\n",
            "\n",
            "Evaluating trained neural network model\n",
            "Train score: {'pearson_r2_score': 0.8946227809735714}\n",
            "Test score: {'pearson_r2_score': 0.2990106345324788}\n"
          ],
          "name": "stdout"
        }
      ]
    },
    {
      "cell_type": "markdown",
      "metadata": {
        "id": "S6-ZKQ3o-fHt"
      },
      "source": [
        "Note: The performance in test dataset is badly poor, so it's is necessary tunnin in order to improve it."
      ]
    }
  ]
}