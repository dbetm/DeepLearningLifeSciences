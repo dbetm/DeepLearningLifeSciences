{
  "nbformat": 4,
  "nbformat_minor": 0,
  "metadata": {
    "colab": {
      "name": "RNA Interference.ipynb",
      "provenance": [],
      "collapsed_sections": [],
      "authorship_tag": "ABX9TyNzI7J1iFN+fMKlAfZ6kI6i",
      "include_colab_link": true
    },
    "kernelspec": {
      "name": "python3",
      "display_name": "Python 3"
    },
    "language_info": {
      "name": "python"
    },
    "accelerator": "GPU",
    "widgets": {
      "application/vnd.jupyter.widget-state+json": {
        "9eeca48cb72e41cfa2e5328e09731206": {
          "model_module": "@jupyter-widgets/controls",
          "model_name": "HBoxModel",
          "state": {
            "_view_name": "HBoxView",
            "_dom_classes": [],
            "_model_name": "HBoxModel",
            "_view_module": "@jupyter-widgets/controls",
            "_model_module_version": "1.5.0",
            "_view_count": null,
            "_view_module_version": "1.5.0",
            "box_style": "",
            "layout": "IPY_MODEL_64cddb650c7041688ed4d194d6476fd3",
            "_model_module": "@jupyter-widgets/controls",
            "children": [
              "IPY_MODEL_6c2298a21a6f4525be1e068d4d2a783c",
              "IPY_MODEL_1af04ed45f5740bc9640a004b02afbdc"
            ]
          }
        },
        "64cddb650c7041688ed4d194d6476fd3": {
          "model_module": "@jupyter-widgets/base",
          "model_name": "LayoutModel",
          "state": {
            "_view_name": "LayoutView",
            "grid_template_rows": null,
            "right": null,
            "justify_content": null,
            "_view_module": "@jupyter-widgets/base",
            "overflow": null,
            "_model_module_version": "1.2.0",
            "_view_count": null,
            "flex_flow": null,
            "width": null,
            "min_width": null,
            "border": null,
            "align_items": null,
            "bottom": null,
            "_model_module": "@jupyter-widgets/base",
            "top": null,
            "grid_column": null,
            "overflow_y": null,
            "overflow_x": null,
            "grid_auto_flow": null,
            "grid_area": null,
            "grid_template_columns": null,
            "flex": null,
            "_model_name": "LayoutModel",
            "justify_items": null,
            "grid_row": null,
            "max_height": null,
            "align_content": null,
            "visibility": null,
            "align_self": null,
            "height": null,
            "min_height": null,
            "padding": null,
            "grid_auto_rows": null,
            "grid_gap": null,
            "max_width": null,
            "order": null,
            "_view_module_version": "1.2.0",
            "grid_template_areas": null,
            "object_position": null,
            "object_fit": null,
            "grid_auto_columns": null,
            "margin": null,
            "display": null,
            "left": null
          }
        },
        "6c2298a21a6f4525be1e068d4d2a783c": {
          "model_module": "@jupyter-widgets/controls",
          "model_name": "FloatProgressModel",
          "state": {
            "_view_name": "ProgressView",
            "style": "IPY_MODEL_230459150aed419a97b8925ea9c6fe21",
            "_dom_classes": [],
            "description": "100%",
            "_model_name": "FloatProgressModel",
            "bar_style": "success",
            "max": 20,
            "_view_module": "@jupyter-widgets/controls",
            "_model_module_version": "1.5.0",
            "value": 20,
            "_view_count": null,
            "_view_module_version": "1.5.0",
            "orientation": "horizontal",
            "min": 0,
            "description_tooltip": null,
            "_model_module": "@jupyter-widgets/controls",
            "layout": "IPY_MODEL_3e386b8b9e4a4215919c4882f93656c5"
          }
        },
        "1af04ed45f5740bc9640a004b02afbdc": {
          "model_module": "@jupyter-widgets/controls",
          "model_name": "HTMLModel",
          "state": {
            "_view_name": "HTMLView",
            "style": "IPY_MODEL_db295acde24e4178a99791b05e30f792",
            "_dom_classes": [],
            "description": "",
            "_model_name": "HTMLModel",
            "placeholder": "​",
            "_view_module": "@jupyter-widgets/controls",
            "_model_module_version": "1.5.0",
            "value": " 20/20 [00:04&lt;00:00,  4.02it/s]",
            "_view_count": null,
            "_view_module_version": "1.5.0",
            "description_tooltip": null,
            "_model_module": "@jupyter-widgets/controls",
            "layout": "IPY_MODEL_60f206577d014bb697650ff388cf8473"
          }
        },
        "230459150aed419a97b8925ea9c6fe21": {
          "model_module": "@jupyter-widgets/controls",
          "model_name": "ProgressStyleModel",
          "state": {
            "_view_name": "StyleView",
            "_model_name": "ProgressStyleModel",
            "description_width": "initial",
            "_view_module": "@jupyter-widgets/base",
            "_model_module_version": "1.5.0",
            "_view_count": null,
            "_view_module_version": "1.2.0",
            "bar_color": null,
            "_model_module": "@jupyter-widgets/controls"
          }
        },
        "3e386b8b9e4a4215919c4882f93656c5": {
          "model_module": "@jupyter-widgets/base",
          "model_name": "LayoutModel",
          "state": {
            "_view_name": "LayoutView",
            "grid_template_rows": null,
            "right": null,
            "justify_content": null,
            "_view_module": "@jupyter-widgets/base",
            "overflow": null,
            "_model_module_version": "1.2.0",
            "_view_count": null,
            "flex_flow": null,
            "width": null,
            "min_width": null,
            "border": null,
            "align_items": null,
            "bottom": null,
            "_model_module": "@jupyter-widgets/base",
            "top": null,
            "grid_column": null,
            "overflow_y": null,
            "overflow_x": null,
            "grid_auto_flow": null,
            "grid_area": null,
            "grid_template_columns": null,
            "flex": null,
            "_model_name": "LayoutModel",
            "justify_items": null,
            "grid_row": null,
            "max_height": null,
            "align_content": null,
            "visibility": null,
            "align_self": null,
            "height": null,
            "min_height": null,
            "padding": null,
            "grid_auto_rows": null,
            "grid_gap": null,
            "max_width": null,
            "order": null,
            "_view_module_version": "1.2.0",
            "grid_template_areas": null,
            "object_position": null,
            "object_fit": null,
            "grid_auto_columns": null,
            "margin": null,
            "display": null,
            "left": null
          }
        },
        "db295acde24e4178a99791b05e30f792": {
          "model_module": "@jupyter-widgets/controls",
          "model_name": "DescriptionStyleModel",
          "state": {
            "_view_name": "StyleView",
            "_model_name": "DescriptionStyleModel",
            "description_width": "",
            "_view_module": "@jupyter-widgets/base",
            "_model_module_version": "1.5.0",
            "_view_count": null,
            "_view_module_version": "1.2.0",
            "_model_module": "@jupyter-widgets/controls"
          }
        },
        "60f206577d014bb697650ff388cf8473": {
          "model_module": "@jupyter-widgets/base",
          "model_name": "LayoutModel",
          "state": {
            "_view_name": "LayoutView",
            "grid_template_rows": null,
            "right": null,
            "justify_content": null,
            "_view_module": "@jupyter-widgets/base",
            "overflow": null,
            "_model_module_version": "1.2.0",
            "_view_count": null,
            "flex_flow": null,
            "width": null,
            "min_width": null,
            "border": null,
            "align_items": null,
            "bottom": null,
            "_model_module": "@jupyter-widgets/base",
            "top": null,
            "grid_column": null,
            "overflow_y": null,
            "overflow_x": null,
            "grid_auto_flow": null,
            "grid_area": null,
            "grid_template_columns": null,
            "flex": null,
            "_model_name": "LayoutModel",
            "justify_items": null,
            "grid_row": null,
            "max_height": null,
            "align_content": null,
            "visibility": null,
            "align_self": null,
            "height": null,
            "min_height": null,
            "padding": null,
            "grid_auto_rows": null,
            "grid_gap": null,
            "max_width": null,
            "order": null,
            "_view_module_version": "1.2.0",
            "grid_template_areas": null,
            "object_position": null,
            "object_fit": null,
            "grid_auto_columns": null,
            "margin": null,
            "display": null,
            "left": null
          }
        }
      }
    }
  },
  "cells": [
    {
      "cell_type": "markdown",
      "metadata": {
        "id": "view-in-github",
        "colab_type": "text"
      },
      "source": [
        "<a href=\"https://colab.research.google.com/github/dbetm/DeepLearningLifeSciences/blob/main/RNA_Interference.ipynb\" target=\"_parent\"><img src=\"https://colab.research.google.com/assets/colab-badge.svg\" alt=\"Open In Colab\"/></a>"
      ]
    },
    {
      "cell_type": "markdown",
      "metadata": {
        "id": "oYTVu_OFZG9J"
      },
      "source": [
        "**What is RNA interference?** (simple intuition)\n",
        "\n",
        "A short piece of RNA whose sequence is complementary to part of a messenger RNA can bind to that mRNA. When this happens, it “silences” the mRNA and prevents it from being\n",
        "ranslated into a protein. The molecule that does the silencing is called a short interfering RNA (siRNA).\n",
        "\n",
        "RNA interference is a complex biological mechanism. This serves both as a mechanism for regulating gene expression and as a defense against viruses.\n",
        "\n",
        "**Importance**\n",
        "\n",
        "It is a powerful tool for biology and medicine. It lets you temporarily “turn off ” any gene you want. You can use it to treat a disease, or to study what happens when a gene is disabled.\n",
        "\n",
        "**Problem and tentative solution**\n",
        "\n",
        "Some siRNA sequences work better than others, and if you want to use RNA interference as a tool, you need to know how to select a good one!\n",
        "\n",
        "- Nature of problem: Regression.\n",
        "- Model: 1-D Convolutional neural network\n",
        "- Data: 2431 siRNA molecules, each 21 bases long ([related article](https://www.nature.com/articles/nbt1118)).\n",
        "- Every molecule has been tested experimentally and labeled with a valued betweeen 0 and 1. How effective it is at silencing its target gene? Well, lower values are ineffective molecules, and values near to 1 indicate more effective ones. "
      ]
    },
    {
      "cell_type": "markdown",
      "metadata": {
        "id": "EWt1YQTddu33"
      },
      "source": [
        "## Setup"
      ]
    },
    {
      "cell_type": "code",
      "metadata": {
        "id": "6Hv-lsA3Y8XC"
      },
      "source": [
        "!curl -Lo conda_installer.py https://raw.githubusercontent.com/deepchem/deepchem/master/scripts/colab_install.py\n",
        "import conda_installer\n",
        "conda_installer.install()\n",
        "!/root/miniconda/bin/conda info -e\n",
        "!pip install --pre deepchem\n",
        "import deepchem as dc\n",
        "dc.__version__"
      ],
      "execution_count": null,
      "outputs": []
    },
    {
      "cell_type": "markdown",
      "metadata": {
        "id": "fOkzGb1Ad2Fl"
      },
      "source": [
        "## Dataset"
      ]
    },
    {
      "cell_type": "code",
      "metadata": {
        "colab": {
          "base_uri": "https://localhost:8080/"
        },
        "id": "VihyXuM4fLJz",
        "outputId": "472c528c-52ce-4875-9d2e-3a87208f8dc5"
      },
      "source": [
        "# Create directories to load datasets (after run, please check 'folder' on the left side)\n",
        "!mkdir 'rnai'\n",
        "%cd 'rnai/'\n",
        "!mkdir 'train_siRNA'\n",
        "!mkdir 'valid_siRNA'"
      ],
      "execution_count": 2,
      "outputs": [
        {
          "output_type": "stream",
          "text": [
            "/content/rnai\n"
          ],
          "name": "stdout"
        }
      ]
    },
    {
      "cell_type": "markdown",
      "metadata": {
        "id": "wxQSYqb2fsUp"
      },
      "source": [
        "**IMPORTANT TO DO**:\n",
        "\n",
        "1.   [Download train_siRNA.](https://downgit.github.io/#/home?url=https://github.com/deepchem/DeepLearningLifeSciences/tree/master/Chapter06/train_siRNA)\n",
        "2.   [Download valid_siRNA.](https://downgit.github.io/#/home?url=https://github.com/deepchem/DeepLearningLifeSciences/tree/master/Chapter06/valid_siRNA)\n",
        "3. Upload files into rnai/ into corresponding dataset folder.\n",
        "4. Wait until all files are loaded."
      ]
    },
    {
      "cell_type": "code",
      "metadata": {
        "id": "mN75RxLTfqtg"
      },
      "source": [
        "# Instance DiskDataset objects\n",
        "train = dc.data.DiskDataset('train_siRNA')\n",
        "valid = dc.data.DiskDataset('valid_siRNA')"
      ],
      "execution_count": 3,
      "outputs": []
    },
    {
      "cell_type": "markdown",
      "metadata": {
        "id": "N5xIk5_8BaD_"
      },
      "source": [
        "## Model designing"
      ]
    },
    {
      "cell_type": "code",
      "metadata": {
        "id": "cldmtreBEzWp"
      },
      "source": [
        "import tensorflow as tf\n",
        "import tensorflow.keras.layers as layers"
      ],
      "execution_count": 4,
      "outputs": []
    },
    {
      "cell_type": "code",
      "metadata": {
        "id": "AOF_JL1NFQGG"
      },
      "source": [
        "input_shape = (21, 4) # vector of 21 bases, one-hot vector (4 bases)\n",
        "batch_size = 1000"
      ],
      "execution_count": 7,
      "outputs": []
    },
    {
      "cell_type": "code",
      "metadata": {
        "id": "eZM-fsnJB5_g"
      },
      "source": [
        "input = tf.keras.Input(shape=input_shape)\n",
        "cnn = input\n",
        "\n",
        "for _ in range(2):\n",
        "  cnn = layers.Conv1D(filters=15, kernel_size=5, activation='relu', padding='same')(cnn)\n",
        "  cnn = layers.Dropout(rate=0.3)(cnn) # regularization technique\n",
        "\n",
        "cnn = layers.Flatten()(cnn)\n",
        "output = layers.Dense(units=1, activation='relu')(cnn)\n",
        "keras_model = tf.keras.Model(inputs=input, outputs=output)\n",
        "\n",
        "loss = dc.models.losses.L2Loss() # it'll try to minimize the mean squared difference.\n",
        "\n",
        "model = dc.models.KerasModel(\n",
        "    model=keras_model,\n",
        "    loss=loss,\n",
        "    batch_size=batch_size,\n",
        "    learning_rate=0.001\n",
        ")"
      ],
      "execution_count": 58,
      "outputs": []
    },
    {
      "cell_type": "markdown",
      "metadata": {
        "id": "e9DrE0zhJ7k6"
      },
      "source": [
        "## Training"
      ]
    },
    {
      "cell_type": "code",
      "metadata": {
        "id": "ciNHndY4PnLF"
      },
      "source": [
        "from tqdm.notebook import tqdm"
      ],
      "execution_count": 37,
      "outputs": []
    },
    {
      "cell_type": "markdown",
      "metadata": {
        "id": "NrtE4TJzKmKg"
      },
      "source": [
        "**Pearson correlation coefficient (r)**: Measures the strength and direction of a linear relationship. For example, a perfectly linear relationship with a positive/negative trend has r=1/r=-1, while no linear relationship has r=0."
      ]
    },
    {
      "cell_type": "code",
      "metadata": {
        "id": "E0kgPSs2J-Ri"
      },
      "source": [
        "pearsonr = dc.metrics.Metric(dc.metrics.pearsonr, mode='regression')\n",
        "epochs = 20"
      ],
      "execution_count": 59,
      "outputs": []
    },
    {
      "cell_type": "code",
      "metadata": {
        "colab": {
          "base_uri": "https://localhost:8080/",
          "height": 67,
          "referenced_widgets": [
            "9eeca48cb72e41cfa2e5328e09731206",
            "64cddb650c7041688ed4d194d6476fd3",
            "6c2298a21a6f4525be1e068d4d2a783c",
            "1af04ed45f5740bc9640a004b02afbdc",
            "230459150aed419a97b8925ea9c6fe21",
            "3e386b8b9e4a4215919c4882f93656c5",
            "db295acde24e4178a99791b05e30f792",
            "60f206577d014bb697650ff388cf8473"
          ]
        },
        "id": "qudWQymuKs6M",
        "outputId": "7489b61c-d3b3-43b9-ba16-4b49a6e1603f"
      },
      "source": [
        "# Test performance in training and validation dataset\n",
        "train_pearsonr = []\n",
        "valid_pearsonr = []\n",
        "\n",
        "for x in tqdm(range(20)):\n",
        "  model.fit(dataset=train, nb_epoch=epochs)\n",
        "\n",
        "  # print(\"Epoch {}/{}\".format((x + 1) * epochs, 20 * epochs))\n",
        "\n",
        "  train_score = model.evaluate(dataset=train, metrics=[pearsonr])\n",
        "  # print('\\nTRAINING correlation: ', train_score)\n",
        "  valid_score = model.evaluate(dataset=valid, metrics=[pearsonr])\n",
        "  #print('\\nVALIDATION correlation: ', valid_score)\n",
        "\n",
        "  train_pearsonr.append(train_score['pearsonr'])\n",
        "  valid_pearsonr.append(valid_score['pearsonr'])"
      ],
      "execution_count": 60,
      "outputs": [
        {
          "output_type": "display_data",
          "data": {
            "application/vnd.jupyter.widget-view+json": {
              "model_id": "9eeca48cb72e41cfa2e5328e09731206",
              "version_minor": 0,
              "version_major": 2
            },
            "text/plain": [
              "HBox(children=(FloatProgress(value=0.0, max=20.0), HTML(value='')))"
            ]
          },
          "metadata": {
            "tags": []
          }
        },
        {
          "output_type": "stream",
          "text": [
            "\n"
          ],
          "name": "stdout"
        }
      ]
    },
    {
      "cell_type": "code",
      "metadata": {
        "colab": {
          "base_uri": "https://localhost:8080/"
        },
        "id": "ExxSG5h8O50X",
        "outputId": "40336ebf-be6c-4391-d42c-0bf8fa7b1bce"
      },
      "source": [
        "print('Final training correlation: {}'.format(train_pearsonr[-1]))\n",
        "print('Final validation correlation: {}'.format(valid_pearsonr[-1]))"
      ],
      "execution_count": 61,
      "outputs": [
        {
          "output_type": "stream",
          "text": [
            "Final training correlation: 0.7290857327009186\n",
            "Final validation correlation: 0.6214137099663454\n"
          ],
          "name": "stdout"
        }
      ]
    },
    {
      "cell_type": "markdown",
      "metadata": {
        "id": "hFYB7loKM2hw"
      },
      "source": [
        "## Testing"
      ]
    },
    {
      "cell_type": "code",
      "metadata": {
        "id": "Q5zm5BacNpeA"
      },
      "source": [
        "import numpy as np\n",
        "\n",
        "%matplotlib inline\n",
        "import matplotlib.pyplot as plt"
      ],
      "execution_count": 62,
      "outputs": []
    },
    {
      "cell_type": "code",
      "metadata": {
        "colab": {
          "base_uri": "https://localhost:8080/",
          "height": 295
        },
        "id": "9u6mhRI1M4aU",
        "outputId": "cc47181d-94d1-40dc-cd95-10da33de62c0"
      },
      "source": [
        "x = np.linspace(0, epochs * 20, 20)\n",
        "\n",
        "plt.title('Performance during training')\n",
        "plt.plot(x, train_pearsonr, label='Training', color='yellow')\n",
        "plt.plot(x, valid_pearsonr, label='Validation', color='green')\n",
        "\n",
        "plt.xlabel('Epochs')\n",
        "plt.ylabel('r')\n",
        "\n",
        "plt.ylim(0.40, 1.0)\n",
        "\n",
        "plt.legend()\n",
        "plt.show()"
      ],
      "execution_count": 63,
      "outputs": [
        {
          "output_type": "display_data",
          "data": {
            "image/png": "[encoded data removed]",
            "text/plain": [
              "<Figure size 432x288 with 1 Axes>"
            ]
          },
          "metadata": {
            "tags": [],
            "needs_background": "light"
          }
        }
      ]
    }
  ]
}