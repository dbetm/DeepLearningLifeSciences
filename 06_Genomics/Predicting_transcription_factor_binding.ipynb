{
  "nbformat": 4,
  "nbformat_minor": 0,
  "metadata": {
    "colab": {
      "name": "Predicting transcription factor binding.ipynb",
      "provenance": [],
      "collapsed_sections": [],
      "authorship_tag": "ABX9TyNrytMdbXWbXZAz0iLe4Sbe",
      "include_colab_link": true
    },
    "kernelspec": {
      "name": "python3",
      "display_name": "Python 3"
    },
    "language_info": {
      "name": "python"
    }
  },
  "cells": [
    {
      "cell_type": "markdown",
      "metadata": {
        "id": "view-in-github",
        "colab_type": "text"
      },
      "source": [
        "<a href=\"https://colab.research.google.com/github/dbetm/DeepLearningLifeSciences/blob/main/06_Genomics/Predicting_transcription_factor_binding.ipynb\" target=\"_parent\"><img src=\"https://colab.research.google.com/assets/colab-badge.svg\" alt=\"Open In Colab\"/></a>"
      ]
    },
    {
      "cell_type": "markdown",
      "metadata": {
        "id": "oSYPvUtxhaM5"
      },
      "source": [
        "**Problem - Prediction transcription factor (FT) binding:** TFs are proteins that bind to DNA. When they bind, they influence the probability of nearby genes being transcribed into RNA.\n",
        "\n",
        "*But how does a TF know where to bind?*\n",
        "\n",
        "**Aproach in this project - A convolutional model for TF binding:** \n",
        "- Using experimental data on a particular TF called JUND.\n",
        "- Particular kind of cell called HepG2.\n",
        "- To keep things manageable, we only include data from chromosome 22 (50 million bases long).\n",
        "- The full chromosome has been split up into short segments (101 bases long) and each segment has been labeled to indicate whether it does or does not include a site where JUND binds,\n",
        "- we will try to train a model that predicts those labels based on the sequence of each segment."
      ]
    },
    {
      "cell_type": "markdown",
      "metadata": {
        "id": "K8t5FwpGnkLj"
      },
      "source": [
        "Note: If you want to train the model, you should enable GPU."
      ]
    },
    {
      "cell_type": "markdown",
      "metadata": {
        "id": "qJOuzWRLjyfH"
      },
      "source": [
        "## Set up"
      ]
    },
    {
      "cell_type": "code",
      "metadata": {
        "id": "AbUHmTNGfxXn"
      },
      "source": [
        "!pip install --pre deepchem\n",
        "import deepchem as dc\n",
        "dc.__version__"
      ],
      "execution_count": null,
      "outputs": []
    },
    {
      "cell_type": "markdown",
      "metadata": {
        "id": "eGVv38j7kd9i"
      },
      "source": [
        "## Dataset"
      ]
    },
    {
      "cell_type": "markdown",
      "metadata": {
        "id": "VOmw_FivLg3Z"
      },
      "source": [
        "Create directories to load datasets"
      ]
    },
    {
      "cell_type": "code",
      "metadata": {
        "id": "l4DThY1ELtKb",
        "colab": {
          "base_uri": "https://localhost:8080/"
        },
        "outputId": "3e14fdbe-dd98-43ca-fb8e-2a8f251fd878"
      },
      "source": [
        "!mkdir 'tfbinding'\n",
        "%cd 'tfbinding/'\n",
        "!mkdir 'train_dataset'\n",
        "!mkdir 'valid_dataset'"
      ],
      "execution_count": null,
      "outputs": [
        {
          "output_type": "stream",
          "text": [
            "/content/tfbinding\n"
          ],
          "name": "stdout"
        }
      ]
    },
    {
      "cell_type": "markdown",
      "metadata": {
        "id": "orRbadPCP8po"
      },
      "source": [
        "IMPORTANT TO DO:\n",
        "\n",
        "\n",
        "1.   Download [train_set](https://downgit.github.io/#/home?url=https://github.com/deepchem/DeepLearningLifeSciences/tree/master/Chapter06/train_dataset)\n",
        "2.   Download [valid_set](https://downgit.github.io/#/home?url=https://github.com/deepchem/DeepLearningLifeSciences/tree/master/Chapter06/valid_dataset)\n",
        "3.   Upload files into `tfbinding/` into corresponding dataset.\n",
        "4. Wait until all files are loaded.\n",
        "\n"
      ]
    },
    {
      "cell_type": "code",
      "metadata": {
        "id": "UCnWpBvdkdoN"
      },
      "source": [
        "# Load data using DiskDataset\n",
        "train = dc.data.DiskDataset('train_dataset')\n",
        "valid = dc.data.DiskDataset('valid_dataset')"
      ],
      "execution_count": null,
      "outputs": []
    },
    {
      "cell_type": "code",
      "metadata": {
        "colab": {
          "base_uri": "https://localhost:8080/"
        },
        "id": "-HCGpz-rpA3u",
        "outputId": "91cd0ebf-62fc-47bb-b933-825abc362fb5"
      },
      "source": [
        "print('Train shape: {}'.format(train.get_data_shape))\n",
        "print('Valid shape: {}'.format(valid.get_data_shape))"
      ],
      "execution_count": null,
      "outputs": [
        {
          "output_type": "stream",
          "text": [
            "Train shape: <bound method DiskDataset.get_data_shape of <DiskDataset X.shape: (276216, 101, 4), y.shape: (276216, 1), w.shape: (276216, 1), task_names: [0]>>\n",
            "Valid shape: <bound method DiskDataset.get_data_shape of <DiskDataset X.shape: (34527, 101, 4), y.shape: (34527, 1), w.shape: (34527, 1), task_names: [0]>>\n"
          ],
          "name": "stdout"
        }
      ]
    },
    {
      "cell_type": "markdown",
      "metadata": {
        "id": "XIMoWlbPpnms"
      },
      "source": [
        "## Creating the model (Convolutional Neural Network - 1D)"
      ]
    },
    {
      "cell_type": "code",
      "metadata": {
        "id": "xpjcwI4Ps4EJ"
      },
      "source": [
        "import tensorflow as tf\n",
        "import tensorflow.keras.layers as layers"
      ],
      "execution_count": null,
      "outputs": []
    },
    {
      "cell_type": "code",
      "metadata": {
        "id": "DC_l4X9IsvPt"
      },
      "source": [
        "segment_len = 101\n",
        "num_bases = 4\n",
        "batch_size = 1000\n",
        "\n",
        "input_shape = (segment_len, num_bases)"
      ],
      "execution_count": null,
      "outputs": []
    },
    {
      "cell_type": "code",
      "metadata": {
        "colab": {
          "base_uri": "https://localhost:8080/"
        },
        "id": "Bjl7p00Cpt0w",
        "outputId": "9ab80781-90c1-4755-be6e-e8e4cfbad21a"
      },
      "source": [
        "# Creating Keras model\n",
        "\n",
        "input = tf.keras.Input(shape=input_shape)\n",
        "cnn = input\n",
        "\n",
        "for _ in range(3):\n",
        "  cnn = layers.Conv1D(filters=15, kernel_size=10, activation='relu', padding='same')(cnn)\n",
        "  cnn = layers.Dropout(rate=0.5)(cnn)\n",
        "\n",
        "cnn = layers.Flatten()(cnn)\n",
        "logits = layers.Dense(units=1)(cnn)\n",
        "output = layers.Activation('sigmoid')(logits)\n",
        "\n",
        "keras_model = tf.keras.Model(inputs=input, outputs=[output, logits])\n",
        "\n",
        "keras_model.summary()\n",
        "print(type(keras_model).__name__)"
      ],
      "execution_count": null,
      "outputs": [
        {
          "output_type": "stream",
          "text": [
            "Model: \"model\"\n",
            "_________________________________________________________________\n",
            "Layer (type)                 Output Shape              Param #   \n",
            "=================================================================\n",
            "input_1 (InputLayer)         [(None, 101, 4)]          0         \n",
            "_________________________________________________________________\n",
            "conv1d (Conv1D)              (None, 101, 15)           615       \n",
            "_________________________________________________________________\n",
            "dropout (Dropout)            (None, 101, 15)           0         \n",
            "_________________________________________________________________\n",
            "conv1d_1 (Conv1D)            (None, 101, 15)           2265      \n",
            "_________________________________________________________________\n",
            "dropout_1 (Dropout)          (None, 101, 15)           0         \n",
            "_________________________________________________________________\n",
            "conv1d_2 (Conv1D)            (None, 101, 15)           2265      \n",
            "_________________________________________________________________\n",
            "dropout_2 (Dropout)          (None, 101, 15)           0         \n",
            "_________________________________________________________________\n",
            "flatten (Flatten)            (None, 1515)              0         \n",
            "_________________________________________________________________\n",
            "dense (Dense)                (None, 1)                 1516      \n",
            "_________________________________________________________________\n",
            "activation (Activation)      (None, 1)                 0         \n",
            "=================================================================\n",
            "Total params: 6,661\n",
            "Trainable params: 6,661\n",
            "Non-trainable params: 0\n",
            "_________________________________________________________________\n",
            "Functional\n"
          ],
          "name": "stdout"
        }
      ]
    },
    {
      "cell_type": "code",
      "metadata": {
        "id": "Hx1Po6bwzp_B"
      },
      "source": [
        "# Creating Deep Chem model\n",
        "model = dc.models.KerasModel(\n",
        "  model=keras_model, \n",
        "  loss=dc.models.losses.SigmoidCrossEntropy(),\n",
        "  output_types=['prediction', 'loss'],\n",
        "  batch_size=batch_size\n",
        ")"
      ],
      "execution_count": null,
      "outputs": []
    },
    {
      "cell_type": "markdown",
      "metadata": {
        "id": "G-25VKAo0cLd"
      },
      "source": [
        "## Training"
      ]
    },
    {
      "cell_type": "code",
      "metadata": {
        "id": "3q9BCryw1Ltg"
      },
      "source": [
        "from tqdm import tqdm"
      ],
      "execution_count": null,
      "outputs": []
    },
    {
      "cell_type": "code",
      "metadata": {
        "id": "azwuCnxa0dVx"
      },
      "source": [
        "metric = dc.metrics.Metric(dc.metrics.roc_auc_score)\n",
        "num_epochs = 6\n",
        "\n",
        "# Test performance in training and validation dataset\n",
        "train_roc_auc_scores = []\n",
        "valid_roc_auc_scores = []\n",
        "\n",
        "# 60 epochs in total\n",
        "\n",
        "for _ in tqdm(range(10)):\n",
        "  model.fit(train, nb_epoch=num_epochs)\n",
        "  train_score = model.evaluate(train, [metric])\n",
        "  print('\\n', train_score)\n",
        "  valid_score = model.evaluate(valid, [metric])\n",
        "  # print('\\n', valid_score)\n",
        "\n",
        "  train_roc_auc_scores.append(train_score['roc_auc_score'])\n",
        "  valid_roc_auc_scores.append(valid_score['roc_auc_score'])"
      ],
      "execution_count": null,
      "outputs": []
    },
    {
      "cell_type": "code",
      "metadata": {
        "colab": {
          "base_uri": "https://localhost:8080/"
        },
        "id": "1cOfQK9HrOds",
        "outputId": "748578d3-44b5-4f90-b486-cde296a1ca8e"
      },
      "source": [
        "print(train_roc_auc_scores[-1])\n",
        "print(valid_roc_auc_scores[-1])"
      ],
      "execution_count": null,
      "outputs": [
        {
          "output_type": "stream",
          "text": [
            "0.8216506583981555\n",
            "0.7319686765508029\n"
          ],
          "name": "stdout"
        }
      ]
    },
    {
      "cell_type": "markdown",
      "metadata": {
        "id": "I4O3KACL8CbR"
      },
      "source": [
        "## Graphing the performance"
      ]
    },
    {
      "cell_type": "code",
      "metadata": {
        "id": "0IbMHY5h8aLe"
      },
      "source": [
        "%matplotlib inline\n",
        "import matplotlib.pyplot as plt\n",
        "import numpy as np"
      ],
      "execution_count": null,
      "outputs": []
    },
    {
      "cell_type": "code",
      "metadata": {
        "id": "ySVOoPkJ8s4K",
        "colab": {
          "base_uri": "https://localhost:8080/",
          "height": 295
        },
        "outputId": "ce14d441-a825-419b-fd76-0f6498f2b45d"
      },
      "source": [
        "x = np.linspace(0, 60, 10)\n",
        "\n",
        "plt.title('Performance during training')\n",
        "plt.plot(x, train_roc_auc_scores, label='Training')\n",
        "plt.plot(x, valid_roc_auc_scores, label='Validation')\n",
        "\n",
        "plt.xlabel('Epochs')\n",
        "plt.ylabel('ROC-AUC')\n",
        "\n",
        "plt.legend()\n",
        "plt.show()"
      ],
      "execution_count": null,
      "outputs": [
        {
          "output_type": "display_data",
          "data": {
            "image/png": "[encoded data removed]",
            "text/plain": [
              "<Figure size 432x288 with 1 Axes>"
            ]
          },
          "metadata": {
            "tags": [],
            "needs_background": "light"
          }
        }
      ]
    },
    {
      "cell_type": "markdown",
      "metadata": {
        "id": "Y-RqZ068Vc4n"
      },
      "source": [
        "**Important to know**: There are fundamental limits to how well this model can ever work.\n",
        "The only input it looks at is the DNA sequence, and TF binding also depends on lots\n",
        "of other factors: accessibility, methylation, shape, the presence of other molecules, etc.\n",
        "Any model that ignores those factors will be limited in how accurate its predictions\n",
        "can ever be."
      ]
    }
  ]
}