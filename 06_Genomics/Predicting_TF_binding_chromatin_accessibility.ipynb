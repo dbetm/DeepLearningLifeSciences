{
  "nbformat": 4,
  "nbformat_minor": 0,
  "metadata": {
    "colab": {
      "name": "Predicting_TF_binding_chromatin_accessibility.ipynb",
      "provenance": [],
      "collapsed_sections": [],
      "authorship_tag": "ABX9TyPSAISN2UPtWhoIQ+5vnIcB",
      "include_colab_link": true
    },
    "kernelspec": {
      "name": "python3",
      "display_name": "Python 3"
    },
    "language_info": {
      "name": "python"
    }
  },
  "cells": [
    {
      "cell_type": "markdown",
      "metadata": {
        "id": "view-in-github",
        "colab_type": "text"
      },
      "source": [
        "<a href=\"https://colab.research.google.com/github/dbetm/DeepLearningLifeSciences/blob/main/06_Genomics/Predicting_TF_binding_chromatin_accessibility.ipynb\" target=\"_parent\"><img src=\"https://colab.research.google.com/assets/colab-badge.svg\" alt=\"Open In Colab\"/></a>"
      ]
    },
    {
      "cell_type": "markdown",
      "metadata": {
        "id": "o_rc7ksaV7Nj"
      },
      "source": [
        "**Problem - Prediction transcription factor (TF) binding**: TFs are proteins that bind to DNA. When they bind, they influence the probability of nearby genes being transcribed into RNA.\n",
        "\n",
        "But how does a TF know where to bind?\n",
        "\n",
        "**Aproach in this project - A convolutional model**:\n",
        "* Particular TF JUND.\n",
        "* Particular kind of cell called HepG2.\n",
        "* Only data from chromosome 22 (50 million bases long).\n",
        "* The full chromosome has been split up into short segments (101 bases long) and each segment has been labeled to indicate whether it does or does not include a site where JUND binds.\n",
        "\n",
        "The only input it looks at is the DNA sequence, and TF binding also depends on lots of other factors: accessibility, methylation, shape, the presence of other molecules, etc. So, in this model we also feed it with data chromatin accessibility.\n",
        "\n",
        "The name chromatin refers to everything that makes up a chromosome: DNA, histones, and various other proteins and RNA molecules. *Chromatin accessibility* refers to how accessible each part of the chromosome is to outside molecules.\n",
        "\n",
        "Instead of thinking of accessibility as a binary choice (accessible or inaccessible), it is better to think of it as a continuous variable (what fraction of the time each region is accessible)."
      ]
    },
    {
      "cell_type": "markdown",
      "metadata": {
        "id": "p1hl-K8BXPMJ"
      },
      "source": [
        "Note: If you want to train the model, you should enable GPU. Also, if you want to train the model several times, it's better to move the data to your Google Drive and load from it."
      ]
    },
    {
      "cell_type": "markdown",
      "metadata": {
        "id": "3Q3zzHTmyRXY"
      },
      "source": [
        "## Setup"
      ]
    },
    {
      "cell_type": "code",
      "metadata": {
        "id": "jFh-XyUvyTQp"
      },
      "source": [
        "!pip install --pre deepchem\n",
        "import deepchem as dc\n",
        "dc.__version__"
      ],
      "execution_count": null,
      "outputs": []
    },
    {
      "cell_type": "markdown",
      "metadata": {
        "id": "3AQ7nspSZKhZ"
      },
      "source": [
        "## Load data"
      ]
    },
    {
      "cell_type": "markdown",
      "metadata": {
        "id": "7RSoxhItzfEA"
      },
      "source": [
        "### Chromatin accessibility"
      ]
    },
    {
      "cell_type": "code",
      "metadata": {
        "id": "gYiFaj-yVUu6"
      },
      "source": [
        "# Getting data of chromatin accessibility\n",
        "import requests\n",
        "\n",
        "data_url = 'https://raw.githubusercontent.com/deepchem/DeepLearningLifeSciences/master/Chapter06/accessibility.txt'\n",
        "req = requests.get(data_url)\n",
        "text = req.text\n",
        "\n",
        "span_accessibility = {}\n",
        "for line in text.splitlines():\n",
        "  fields = line.split()\n",
        "  span_accessibility[fields[0]] = float(fields[1])"
      ],
      "execution_count": null,
      "outputs": []
    },
    {
      "cell_type": "code",
      "metadata": {
        "id": "rPYin4r6aWVq",
        "colab": {
          "base_uri": "https://localhost:8080/"
        },
        "outputId": "f75ba853-e74b-472b-e372-d55f14105a09"
      },
      "source": [
        "print(\"Size: \", len(span_accessibility))\n",
        "\n",
        "cont = 0\n",
        "for key, value in span_accessibility.items():\n",
        "  print(key, value)\n",
        "  cont += 1\n",
        "\n",
        "  if cont > 5:\n",
        "    break\n",
        "    \n",
        "print(\".\"*3)"
      ],
      "execution_count": null,
      "outputs": [
        {
          "output_type": "stream",
          "text": [
            "Size:  345271\n",
            "chr22:20208963-20209064 0.003902\n",
            "chr22:29673572-29673673 0.004378\n",
            "chr22:28193720-28193821 0.001946\n",
            "chr22:43864274-43864375 0.003869\n",
            "chr22:18261550-18261651 0.003066\n",
            "chr22:49798024-49798125 0.003794\n"
          ],
          "name": "stdout"
        }
      ]
    },
    {
      "cell_type": "markdown",
      "metadata": {
        "id": "qgEg29mRzaav"
      },
      "source": [
        "### Dataset - DNA (chromosome 22)"
      ]
    },
    {
      "cell_type": "code",
      "metadata": {
        "colab": {
          "base_uri": "https://localhost:8080/"
        },
        "id": "uqjPYBLczK6M",
        "outputId": "456a381b-85eb-4faf-e643-7e58dd418880"
      },
      "source": [
        "# Create directories to load datasets (after running, please check 'folder' on the left side)\n",
        "!mkdir 'tfbinding'\n",
        "%cd 'tfbinding/'\n",
        "!mkdir 'train_dataset'\n",
        "!mkdir 'valid_dataset'"
      ],
      "execution_count": null,
      "outputs": [
        {
          "output_type": "stream",
          "text": [
            "/content/tfbinding\n"
          ],
          "name": "stdout"
        }
      ]
    },
    {
      "cell_type": "markdown",
      "metadata": {
        "id": "aJslbDfE0M1m"
      },
      "source": [
        "IMPORTANT TO DO:\n",
        "1. Download [train_set](https://downgit.github.io/#/home?url=https://github.com/deepchem/DeepLearningLifeSciences/tree/master/Chapter06/train_dataset),\n",
        "2. Download [valid_set](https://downgit.github.io/#/home?url=https://github.com/deepchem/DeepLearningLifeSciences/tree/master/Chapter06/valid_dataset),\n",
        "3. Upload files into `tfbinding/` into corresponding dataset.\n",
        "4. Wait until all files are loaded."
      ]
    },
    {
      "cell_type": "code",
      "metadata": {
        "id": "Igh_Dtlt0gZ-"
      },
      "source": [
        "# Load data using DiskDataset\n",
        "train = dc.data.DiskDataset('train_dataset')\n",
        "valid = dc.data.DiskDataset('valid_dataset')"
      ],
      "execution_count": null,
      "outputs": []
    },
    {
      "cell_type": "code",
      "metadata": {
        "id": "7DNHfHDe0r_o",
        "colab": {
          "base_uri": "https://localhost:8080/"
        },
        "outputId": "828e76d3-c08a-40ef-a82e-84b98bec815a"
      },
      "source": [
        "print('Train shape: {}'.format(train.get_data_shape))\n",
        "print('Valid shape: {}'.format(valid.get_data_shape))"
      ],
      "execution_count": null,
      "outputs": [
        {
          "output_type": "stream",
          "text": [
            "Train shape: <bound method DiskDataset.get_data_shape of <DiskDataset X.shape: (276216, 101, 4), y.shape: (276216, 1), w.shape: (276216, 1), task_names: [0]>>\n",
            "Valid shape: <bound method DiskDataset.get_data_shape of <DiskDataset X.shape: (34527, 101, 4), y.shape: (34527, 1), w.shape: (34527, 1), task_names: [0]>>\n"
          ],
          "name": "stdout"
        }
      ]
    },
    {
      "cell_type": "markdown",
      "metadata": {
        "id": "TCF1f3Ug3F6q"
      },
      "source": [
        "## Creating the model (CNN - 1D)\n"
      ]
    },
    {
      "cell_type": "code",
      "metadata": {
        "id": "NNiULhLi3Lwj"
      },
      "source": [
        "import tensorflow as tf\n",
        "import tensorflow.keras.layers as layers"
      ],
      "execution_count": null,
      "outputs": []
    },
    {
      "cell_type": "code",
      "metadata": {
        "id": "bTRyrLgk3UTb"
      },
      "source": [
        "segment_length = 101\n",
        "num_bases = 4\n",
        "batch_size = 1000\n",
        "\n",
        "input_shape = (segment_length, num_bases)"
      ],
      "execution_count": null,
      "outputs": []
    },
    {
      "cell_type": "code",
      "metadata": {
        "colab": {
          "base_uri": "https://localhost:8080/"
        },
        "id": "UkQndZyn4QTS",
        "outputId": "3dc96748-3832-4150-bf19-37f134a1bdc1"
      },
      "source": [
        "# Creating the Keras model\n",
        "\n",
        "accessibility = tf.keras.Input(shape=(1,))\n",
        "dna_input = tf.keras.Input(shape=input_shape)\n",
        "\n",
        "cnn = dna_input\n",
        "\n",
        "for _ in range(3):\n",
        "  cnn = layers.Conv1D(filters=15, kernel_size=10, activation='relu', padding='same')(cnn)\n",
        "  cnn = layers.Dropout(rate=0.5)(cnn)\n",
        "\n",
        "cnn = layers.Flatten()(cnn)\n",
        "cnn = layers.Concatenate()([cnn, accessibility])\n",
        "\n",
        "logits = layers.Dense(units=1)(cnn)\n",
        "output = layers.Activation('sigmoid')(logits)\n",
        "\n",
        "keras_model = tf.keras.Model(inputs=[dna_input, accessibility], outputs=[output, logits])\n",
        "\n",
        "keras_model.summary()\n",
        "print(type(keras_model).__name__)"
      ],
      "execution_count": null,
      "outputs": [
        {
          "output_type": "stream",
          "text": [
            "Model: \"model\"\n",
            "__________________________________________________________________________________________________\n",
            "Layer (type)                    Output Shape         Param #     Connected to                     \n",
            "==================================================================================================\n",
            "input_2 (InputLayer)            [(None, 101, 4)]     0                                            \n",
            "__________________________________________________________________________________________________\n",
            "conv1d (Conv1D)                 (None, 101, 15)      615         input_2[0][0]                    \n",
            "__________________________________________________________________________________________________\n",
            "dropout (Dropout)               (None, 101, 15)      0           conv1d[0][0]                     \n",
            "__________________________________________________________________________________________________\n",
            "conv1d_1 (Conv1D)               (None, 101, 15)      2265        dropout[0][0]                    \n",
            "__________________________________________________________________________________________________\n",
            "dropout_1 (Dropout)             (None, 101, 15)      0           conv1d_1[0][0]                   \n",
            "__________________________________________________________________________________________________\n",
            "conv1d_2 (Conv1D)               (None, 101, 15)      2265        dropout_1[0][0]                  \n",
            "__________________________________________________________________________________________________\n",
            "dropout_2 (Dropout)             (None, 101, 15)      0           conv1d_2[0][0]                   \n",
            "__________________________________________________________________________________________________\n",
            "flatten (Flatten)               (None, 1515)         0           dropout_2[0][0]                  \n",
            "__________________________________________________________________________________________________\n",
            "input_1 (InputLayer)            [(None, 1)]          0                                            \n",
            "__________________________________________________________________________________________________\n",
            "concatenate (Concatenate)       (None, 1516)         0           flatten[0][0]                    \n",
            "                                                                 input_1[0][0]                    \n",
            "__________________________________________________________________________________________________\n",
            "dense (Dense)                   (None, 1)            1517        concatenate[0][0]                \n",
            "__________________________________________________________________________________________________\n",
            "activation (Activation)         (None, 1)            0           dense[0][0]                      \n",
            "==================================================================================================\n",
            "Total params: 6,662\n",
            "Trainable params: 6,662\n",
            "Non-trainable params: 0\n",
            "__________________________________________________________________________________________________\n",
            "Functional\n"
          ],
          "name": "stdout"
        }
      ]
    },
    {
      "cell_type": "code",
      "metadata": {
        "id": "JUqDd7NJzHqn"
      },
      "source": [
        "# Creating Deep Chem model\n",
        "model = dc.models.KerasModel(\n",
        "  model=keras_model, \n",
        "  loss=dc.models.losses.SigmoidCrossEntropy(),\n",
        "  output_types=['prediction', 'loss'],\n",
        "  batch_size=batch_size\n",
        ")"
      ],
      "execution_count": null,
      "outputs": []
    },
    {
      "cell_type": "markdown",
      "metadata": {
        "id": "iJ5OqSYqpaGp"
      },
      "source": [
        "Given that our model has two different feature (input) layer, so we need a custom function to generate batches. "
      ]
    },
    {
      "cell_type": "code",
      "metadata": {
        "id": "DDlaeRK8z3o3"
      },
      "source": [
        "import numpy as np"
      ],
      "execution_count": null,
      "outputs": []
    },
    {
      "cell_type": "code",
      "metadata": {
        "id": "KNUnrBVeq3-z"
      },
      "source": [
        "def generate_batches(dataset, epochs):\n",
        "  for epoch in range(epochs):\n",
        "    for X, y, w, ids in dataset.iterbatches(batch_size=batch_size, pad_batches=True):\n",
        "      \n",
        "      yield([X, np.array([span_accessibility[id] for id in ids])], [y], [w])"
      ],
      "execution_count": null,
      "outputs": []
    },
    {
      "cell_type": "markdown",
      "metadata": {
        "id": "4QzOrL8psmu6"
      },
      "source": [
        "## Training"
      ]
    },
    {
      "cell_type": "code",
      "metadata": {
        "id": "BDkiP1udsrWj"
      },
      "source": [
        "metric = dc.metrics.Metric(dc.metrics.roc_auc_score)\n",
        "num_epochs = 6\n",
        "\n",
        "# Test performance in training and validation dataset\n",
        "train_roc_auc_scores = []\n",
        "valid_roc_auc_scores = []\n",
        "\n",
        "# 60 epochs in total\n",
        "\n",
        "for i in range(10):\n",
        "  model.fit_generator(generate_batches(train, epochs=num_epochs))\n",
        "\n",
        "  print(\"Epoch {}/{}\".format((i + 1) * num_epochs, 10 * num_epochs))\n",
        "\n",
        "  train_score = model.evaluate_generator(generate_batches(train, 1), [metric])\n",
        "  print('TRAIN: ', train_score)\n",
        "\n",
        "  valid_score = model.evaluate_generator(generate_batches(valid, 1), [metric])\n",
        "  print('VALIDATION: ', valid_score, '\\n')\n",
        "\n",
        "  train_roc_auc_scores.append(train_score['roc_auc_score'])\n",
        "  valid_roc_auc_scores.append(valid_score['roc_auc_score'])"
      ],
      "execution_count": null,
      "outputs": []
    },
    {
      "cell_type": "code",
      "metadata": {
        "colab": {
          "base_uri": "https://localhost:8080/"
        },
        "id": "rgtS9vk-1CoE",
        "outputId": "bf4c7df7-73f9-4bf3-af1d-114c3b154513"
      },
      "source": [
        "print(train_roc_auc_scores[-1])\n",
        "print(valid_roc_auc_scores[-1])"
      ],
      "execution_count": null,
      "outputs": [
        {
          "output_type": "stream",
          "text": [
            "0.8411469483233087\n",
            "0.7601419645699499\n"
          ],
          "name": "stdout"
        }
      ]
    },
    {
      "cell_type": "markdown",
      "metadata": {
        "id": "7NxD1ji4vELL"
      },
      "source": [
        "## Performance"
      ]
    },
    {
      "cell_type": "code",
      "metadata": {
        "id": "6OVTlXamvHgc"
      },
      "source": [
        "%matplotlib inline\n",
        "import matplotlib.pyplot as plt"
      ],
      "execution_count": null,
      "outputs": []
    },
    {
      "cell_type": "code",
      "metadata": {
        "colab": {
          "base_uri": "https://localhost:8080/",
          "height": 295
        },
        "id": "LZ-SFHXrvIB8",
        "outputId": "335be766-202a-48bc-9dbe-086a8645d8ab"
      },
      "source": [
        "x = np.linspace(0, num_epochs * 10, 10)\n",
        "\n",
        "plt.title('Performance during training')\n",
        "plt.plot(x, train_roc_auc_scores, label='Training')\n",
        "plt.plot(x, valid_roc_auc_scores, label='Validation')\n",
        "\n",
        "plt.xlabel('Epochs')\n",
        "plt.ylabel('ROC-AUC')\n",
        "\n",
        "plt.legend()\n",
        "plt.show()"
      ],
      "execution_count": null,
      "outputs": [
        {
          "output_type": "display_data",
          "data": {
            "image/png": "[encoded data removed]",
            "text/plain": [
              "<Figure size 432x288 with 1 Axes>"
            ]
          },
          "metadata": {
            "tags": [],
            "needs_background": "light"
          }
        }
      ]
    }
  ]
}