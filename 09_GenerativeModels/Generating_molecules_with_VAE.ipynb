{
  "nbformat": 4,
  "nbformat_minor": 0,
  "metadata": {
    "colab": {
      "name": "Generating molecules with VAE.ipynb",
      "provenance": [],
      "authorship_tag": "ABX9TyP8C9yl7Vx6A03FICy7qe7q",
      "include_colab_link": true
    },
    "kernelspec": {
      "name": "python3",
      "display_name": "Python 3"
    },
    "language_info": {
      "name": "python"
    },
    "accelerator": "GPU"
  },
  "cells": [
    {
      "cell_type": "markdown",
      "metadata": {
        "id": "view-in-github",
        "colab_type": "text"
      },
      "source": [
        "<a href=\"https://colab.research.google.com/github/dbetm/DeepLearningLifeSciences/blob/main/09_GenerativeModels/Generating_molecules_with_VAE.ipynb\" target=\"_parent\"><img src=\"https://colab.research.google.com/assets/colab-badge.svg\" alt=\"Open In Colab\"/></a>"
      ]
    },
    {
      "cell_type": "markdown",
      "metadata": {
        "id": "9_5MdZmUcb3_"
      },
      "source": [
        "Target: Generate new molecules from [SMILES](https://archive.epa.gov/med/med_archive_03/web/html/smiles.html) strings using a VAE (variational autoencoder) which is a generative model.\n",
        "\n",
        "Dataset: [MUV dataset](https://deepchem.readthedocs.io/en/latest/api_reference/moleculenet.html#muv-datasets) ( Maximum Unbiased Validation), the training set includes 74,469 molecules of varying sizes and structures."
      ]
    },
    {
      "cell_type": "markdown",
      "metadata": {
        "id": "YxZnUd9cdoZC"
      },
      "source": [
        "## Setup"
      ]
    },
    {
      "cell_type": "code",
      "metadata": {
        "colab": {
          "base_uri": "https://localhost:8080/",
          "height": 292
        },
        "id": "QxtqQr2-cNjd",
        "outputId": "ded6e391-e4b1-4f8b-f764-6094170a366a"
      },
      "source": [
        "!pip install --pre deepchem\n",
        "import deepchem as dc\n",
        "dc.__version__"
      ],
      "execution_count": 1,
      "outputs": [
        {
          "output_type": "stream",
          "text": [
            "Collecting deepchem\n",
            "  Downloading deepchem-2.6.0.dev20210725040533-py3-none-any.whl (582 kB)\n",
            "\u001b[?25l\r\u001b[K     |▋                               | 10 kB 24.1 MB/s eta 0:00:01\r\u001b[K     |█▏                              | 20 kB 30.7 MB/s eta 0:00:01\r\u001b[K     |█▊                              | 30 kB 34.9 MB/s eta 0:00:01\r\u001b[K     |██▎                             | 40 kB 36.0 MB/s eta 0:00:01\r\u001b[K     |██▉                             | 51 kB 33.0 MB/s eta 0:00:01\r\u001b[K     |███▍                            | 61 kB 34.9 MB/s eta 0:00:01\r\u001b[K     |████                            | 71 kB 25.9 MB/s eta 0:00:01\r\u001b[K     |████▌                           | 81 kB 26.6 MB/s eta 0:00:01\r\u001b[K     |█████                           | 92 kB 27.5 MB/s eta 0:00:01\r\u001b[K     |█████▋                          | 102 kB 28.4 MB/s eta 0:00:01\r\u001b[K     |██████▏                         | 112 kB 28.4 MB/s eta 0:00:01\r\u001b[K     |██████▊                         | 122 kB 28.4 MB/s eta 0:00:01\r\u001b[K     |███████▎                        | 133 kB 28.4 MB/s eta 0:00:01\r\u001b[K     |███████▉                        | 143 kB 28.4 MB/s eta 0:00:01\r\u001b[K     |████████▍                       | 153 kB 28.4 MB/s eta 0:00:01\r\u001b[K     |█████████                       | 163 kB 28.4 MB/s eta 0:00:01\r\u001b[K     |█████████▋                      | 174 kB 28.4 MB/s eta 0:00:01\r\u001b[K     |██████████▏                     | 184 kB 28.4 MB/s eta 0:00:01\r\u001b[K     |██████████▊                     | 194 kB 28.4 MB/s eta 0:00:01\r\u001b[K     |███████████▎                    | 204 kB 28.4 MB/s eta 0:00:01\r\u001b[K     |███████████▉                    | 215 kB 28.4 MB/s eta 0:00:01\r\u001b[K     |████████████▍                   | 225 kB 28.4 MB/s eta 0:00:01\r\u001b[K     |█████████████                   | 235 kB 28.4 MB/s eta 0:00:01\r\u001b[K     |█████████████▌                  | 245 kB 28.4 MB/s eta 0:00:01\r\u001b[K     |██████████████                  | 256 kB 28.4 MB/s eta 0:00:01\r\u001b[K     |██████████████▋                 | 266 kB 28.4 MB/s eta 0:00:01\r\u001b[K     |███████████████▏                | 276 kB 28.4 MB/s eta 0:00:01\r\u001b[K     |███████████████▊                | 286 kB 28.4 MB/s eta 0:00:01\r\u001b[K     |████████████████▎               | 296 kB 28.4 MB/s eta 0:00:01\r\u001b[K     |████████████████▉               | 307 kB 28.4 MB/s eta 0:00:01\r\u001b[K     |█████████████████▍              | 317 kB 28.4 MB/s eta 0:00:01\r\u001b[K     |██████████████████              | 327 kB 28.4 MB/s eta 0:00:01\r\u001b[K     |██████████████████▋             | 337 kB 28.4 MB/s eta 0:00:01\r\u001b[K     |███████████████████▏            | 348 kB 28.4 MB/s eta 0:00:01\r\u001b[K     |███████████████████▊            | 358 kB 28.4 MB/s eta 0:00:01\r\u001b[K     |████████████████████▎           | 368 kB 28.4 MB/s eta 0:00:01\r\u001b[K     |████████████████████▉           | 378 kB 28.4 MB/s eta 0:00:01\r\u001b[K     |█████████████████████▍          | 389 kB 28.4 MB/s eta 0:00:01\r\u001b[K     |██████████████████████          | 399 kB 28.4 MB/s eta 0:00:01\r\u001b[K     |██████████████████████▌         | 409 kB 28.4 MB/s eta 0:00:01\r\u001b[K     |███████████████████████         | 419 kB 28.4 MB/s eta 0:00:01\r\u001b[K     |███████████████████████▋        | 430 kB 28.4 MB/s eta 0:00:01\r\u001b[K     |████████████████████████▏       | 440 kB 28.4 MB/s eta 0:00:01\r\u001b[K     |████████████████████████▊       | 450 kB 28.4 MB/s eta 0:00:01\r\u001b[K     |█████████████████████████▎      | 460 kB 28.4 MB/s eta 0:00:01\r\u001b[K     |█████████████████████████▉      | 471 kB 28.4 MB/s eta 0:00:01\r\u001b[K     |██████████████████████████▍     | 481 kB 28.4 MB/s eta 0:00:01\r\u001b[K     |███████████████████████████     | 491 kB 28.4 MB/s eta 0:00:01\r\u001b[K     |███████████████████████████▋    | 501 kB 28.4 MB/s eta 0:00:01\r\u001b[K     |████████████████████████████▏   | 512 kB 28.4 MB/s eta 0:00:01\r\u001b[K     |████████████████████████████▊   | 522 kB 28.4 MB/s eta 0:00:01\r\u001b[K     |█████████████████████████████▎  | 532 kB 28.4 MB/s eta 0:00:01\r\u001b[K     |█████████████████████████████▉  | 542 kB 28.4 MB/s eta 0:00:01\r\u001b[K     |██████████████████████████████▍ | 552 kB 28.4 MB/s eta 0:00:01\r\u001b[K     |███████████████████████████████ | 563 kB 28.4 MB/s eta 0:00:01\r\u001b[K     |███████████████████████████████▌| 573 kB 28.4 MB/s eta 0:00:01\r\u001b[K     |████████████████████████████████| 582 kB 28.4 MB/s \n",
            "\u001b[?25hRequirement already satisfied: numpy in /usr/local/lib/python3.7/dist-packages (from deepchem) (1.19.5)\n",
            "Requirement already satisfied: pandas in /usr/local/lib/python3.7/dist-packages (from deepchem) (1.1.5)\n",
            "Requirement already satisfied: scipy in /usr/local/lib/python3.7/dist-packages (from deepchem) (1.4.1)\n",
            "Requirement already satisfied: joblib in /usr/local/lib/python3.7/dist-packages (from deepchem) (1.0.1)\n",
            "Requirement already satisfied: scikit-learn in /usr/local/lib/python3.7/dist-packages (from deepchem) (0.22.2.post1)\n",
            "Requirement already satisfied: python-dateutil>=2.7.3 in /usr/local/lib/python3.7/dist-packages (from pandas->deepchem) (2.8.1)\n",
            "Requirement already satisfied: pytz>=2017.2 in /usr/local/lib/python3.7/dist-packages (from pandas->deepchem) (2018.9)\n",
            "Requirement already satisfied: six>=1.5 in /usr/local/lib/python3.7/dist-packages (from python-dateutil>=2.7.3->pandas->deepchem) (1.15.0)\n",
            "Installing collected packages: deepchem\n",
            "Successfully installed deepchem-2.6.0.dev20210725040533\n"
          ],
          "name": "stdout"
        },
        {
          "output_type": "execute_result",
          "data": {
            "application/vnd.google.colaboratory.intrinsic+json": {
              "type": "string"
            },
            "text/plain": [
              "'2.6.0.dev'"
            ]
          },
          "metadata": {
            "tags": []
          },
          "execution_count": 1
        }
      ]
    },
    {
      "cell_type": "markdown",
      "metadata": {
        "id": "-MNEElAne9Mq"
      },
      "source": [
        "## Dataset\n",
        "Loading MUV dataset"
      ]
    },
    {
      "cell_type": "code",
      "metadata": {
        "colab": {
          "base_uri": "https://localhost:8080/"
        },
        "id": "fYRueTbMfSsn",
        "outputId": "8ff2e8c8-9b10-4c9e-f09b-1d7b886e90e9"
      },
      "source": [
        "!pip install rdkit-pypi"
      ],
      "execution_count": 2,
      "outputs": [
        {
          "output_type": "stream",
          "text": [
            "Collecting rdkit-pypi\n",
            "  Downloading rdkit_pypi-2021.3.4-cp37-cp37m-manylinux2014_x86_64.whl (18.6 MB)\n",
            "\u001b[K     |████████████████████████████████| 18.6 MB 1.2 MB/s \n",
            "\u001b[?25hRequirement already satisfied: numpy>=1.19 in /usr/local/lib/python3.7/dist-packages (from rdkit-pypi) (1.19.5)\n",
            "Installing collected packages: rdkit-pypi\n",
            "Successfully installed rdkit-pypi-2021.3.4\n"
          ],
          "name": "stdout"
        }
      ]
    },
    {
      "cell_type": "code",
      "metadata": {
        "id": "kKfsUQFqd86a"
      },
      "source": [
        "# ~ 8 minutes\n",
        "tasks, datasets, transformers = dc.molnet.load_muv()\n",
        "train_dataset, valid_dataset, test_dataset = datasets\n",
        "train_smiles = train_dataset.ids"
      ],
      "execution_count": 3,
      "outputs": []
    },
    {
      "cell_type": "markdown",
      "metadata": {
        "id": "y-RrwZFtgU82"
      },
      "source": [
        "Defining vocabulary (What is the list of characters that can appear in a string? - tokens)"
      ]
    },
    {
      "cell_type": "code",
      "metadata": {
        "id": "-t5kQDXggJto"
      },
      "source": [
        "tokens = set()\n",
        "\n",
        "for s in train_smiles:\n",
        "  tokens = tokens.union(set(s))\n",
        "\n",
        "tokens = sorted(list(tokens))\n",
        "\n",
        "max_length = max(len(s) for s in train_smiles)"
      ],
      "execution_count": 4,
      "outputs": []
    },
    {
      "cell_type": "markdown",
      "metadata": {
        "id": "IWx2chFog0Jp"
      },
      "source": [
        "## Model\n",
        "\n",
        "We will use DeepChem's Aspuru Guzik AutoEncoder which uses a convolutional network for the encoder and a recurrent network for the decoder ([original paper](https://arxiv.org/abs/1610.02415) of the suggested architecture)."
      ]
    },
    {
      "cell_type": "code",
      "metadata": {
        "id": "avYrA1R6he4A"
      },
      "source": [
        "from deepchem.models.optimizers import Adam, ExponentialDecay\n",
        "from deepchem.models.seqtoseq import AspuruGuzikAutoEncoder"
      ],
      "execution_count": 6,
      "outputs": []
    },
    {
      "cell_type": "code",
      "metadata": {
        "id": "rfCeJ_QeiZMi"
      },
      "source": [
        "batch_size = 128\n",
        "optimizer = ExponentialDecay(initial_rate=0.001, decay_rate=0.95, decay_steps=len(train_smiles) // batch_size)\n",
        "model = AspuruGuzikAutoEncoder(tokens, max_length, batch_size=batch_size, learning_rate=optimizer)"
      ],
      "execution_count": 7,
      "outputs": []
    },
    {
      "cell_type": "markdown",
      "metadata": {
        "id": "3C2ehFTZljm3"
      },
      "source": [
        "## Training"
      ]
    },
    {
      "cell_type": "code",
      "metadata": {
        "id": "M5bd7Gc0ljNY"
      },
      "source": [
        "def generate_sequences(epochs):\n",
        "  \"\"\"Produces sequences of tokens\"\"\"\n",
        "  for i in range(epochs):\n",
        "    for s in train_smiles:\n",
        "      yield (s, s)"
      ],
      "execution_count": 8,
      "outputs": []
    },
    {
      "cell_type": "markdown",
      "metadata": {
        "id": "oquyIoNP92cs"
      },
      "source": [
        "Note: The training will be completed in about 90 minutes. "
      ]
    },
    {
      "cell_type": "code",
      "metadata": {
        "id": "fUN_lwuFmS8G"
      },
      "source": [
        "model.fit_sequences(generate_sequences(100))"
      ],
      "execution_count": 9,
      "outputs": []
    },
    {
      "cell_type": "markdown",
      "metadata": {
        "id": "VWmRN0nOmdga"
      },
      "source": [
        "## Testing \n",
        "Generating new molecules. We just need to pick random latent vectors and pass them through the decoder.\n",
        "\n",
        "We will use RDKit to check valid SMILES strings and filter out the invalid ones."
      ]
    },
    {
      "cell_type": "code",
      "metadata": {
        "id": "puJBm4K1mh_B"
      },
      "source": [
        "import numpy as np\n",
        "from rdkit import Chem"
      ],
      "execution_count": 10,
      "outputs": []
    },
    {
      "cell_type": "code",
      "metadata": {
        "colab": {
          "base_uri": "https://localhost:8080/"
        },
        "id": "tlJTamEmnzcm",
        "outputId": "1e2376ae-fe59-4b5b-9a93-00c1b32d95ac"
      },
      "source": [
        "# 2000 latent vectors, each of lenght 196 (the size of the model's latent space)\n",
        "predictions = model.predict_from_embeddings(np.random.normal(size=(2000, 196)))\n",
        "\n",
        "print(len(predictions))"
      ],
      "execution_count": 19,
      "outputs": [
        {
          "output_type": "stream",
          "text": [
            "2000\n"
          ],
          "name": "stdout"
        }
      ]
    },
    {
      "cell_type": "code",
      "metadata": {
        "colab": {
          "base_uri": "https://localhost:8080/"
        },
        "id": "NMoyDyS2_KaH",
        "outputId": "b7d6e9ab-7fbf-45db-de3f-4cdd5e701866"
      },
      "source": [
        "molecules = []\n",
        "\n",
        "for p in predictions:\n",
        "  smiles = ''.join(p)\n",
        "  if Chem.MolFromSmiles(smiles) is not None:\n",
        "    molecules.append(smiles)\n",
        "\n",
        "print('Valid SMILES strings:') # maybe none is valid \n",
        "for m in molecules:\n",
        "  print(m)"
      ],
      "execution_count": 21,
      "outputs": [
        {
          "output_type": "stream",
          "text": [
            "Valid SMILES strings:\n",
            "Cc1nnc(CN2CCCCC2)ncc(-c2cccccscccc2C)n1\n",
            "CS1ncc(C)nc(NCC)c(C)ccc(=O)n(C)c(C)c1O\n",
            "Cc1cc2(CNnc(C)c(-Cc2cc2ncc3)c3)nccc12\n",
            "Cc1ccc(C)n2CCc2ccccccc(C)c(CC)c(C)c1=O\n",
            "Cc1cc(CO)n(CCCCCCC)n(C)nnc(C)c(C)n1\n"
          ],
          "name": "stdout"
        }
      ]
    },
    {
      "cell_type": "markdown",
      "metadata": {
        "id": "gPq0ykcMq185"
      },
      "source": [
        "### Interesting to know\n",
        "\n",
        "One factor we may want to examine is the size of the molecules. **Molecules with fewer than 10 atoms are unlikely to generate sufficient interaction energy to produce a measurable signal in a biological assay**. Conversely, **molecules with more than 50 atoms may not be capable of dissolving in water** and may create other problems in biological assays.\n",
        "\n",
        "One of the more common methods for determining whether molecules are similar to known drugs, or “drug-like,” is known as the **quantitative estimate of druglikeness (QED)**. The QED metric, scores molecules by comparing a set of properties calculated for each molecule with distributions of the same properties in marketed drugs. \n",
        "\n",
        "This score ranges between 0 and 1, with values closer to 1 being considered more drug-like.\n",
        "\n"
      ]
    },
    {
      "cell_type": "markdown",
      "metadata": {
        "id": "zwml2S06tcXH"
      },
      "source": [
        "We will filter some molecules with QED and visualize some of them."
      ]
    },
    {
      "cell_type": "code",
      "metadata": {
        "id": "xKUlhCI0topA"
      },
      "source": [
        "from rdkit.Chem.Draw import MolsToGridImage\n",
        "from rdkit.Chem.QED import qed"
      ],
      "execution_count": 14,
      "outputs": []
    },
    {
      "cell_type": "code",
      "metadata": {
        "colab": {
          "base_uri": "https://localhost:8080/"
        },
        "id": "KTLYFdmZAeee",
        "outputId": "2cce5a08-e33e-479d-d5a1-290621d923f2"
      },
      "source": [
        "valid_molecules = []\n",
        "\n",
        "for molecule_string_smile in molecules:\n",
        "  molecule = Chem.MolFromSmiles(molecule_string_smile)\n",
        "  print(molecule.GetNumAtoms())\n",
        "\n",
        "  if molecule.GetNumAtoms() > 10 and molecule.GetNumAtoms() < 50:\n",
        "    valid_molecules.append(molecule)\n",
        "\n",
        "print('Valid molecules by lenght: {}/{}'.format(len(valid_molecules), len(molecules)))"
      ],
      "execution_count": 26,
      "outputs": [
        {
          "output_type": "stream",
          "text": [
            "28\n",
            "23\n",
            "22\n",
            "25\n",
            "23\n",
            "Valid molecules by lenght: 5/5\n"
          ],
          "name": "stdout"
        }
      ]
    },
    {
      "cell_type": "code",
      "metadata": {
        "colab": {
          "base_uri": "https://localhost:8080/"
        },
        "id": "o--phuwytpWl",
        "outputId": "6ac701c3-ad29-46da-bebf-ba50e158bf14"
      },
      "source": [
        "qed_scores = [qed(x) for x in valid_molecules]\n",
        "print(qed_scores)\n",
        "final_molecules = [(a, b) for a, b in zip(valid_molecules, qed_scores) if b > 0.5]\n",
        "\n",
        "print(\"Number of final molecules: {}\".format(len(final_molecules)))"
      ],
      "execution_count": 28,
      "outputs": [
        {
          "output_type": "stream",
          "text": [
            "[0.6823285122559173, 0.6775447863306852, 0.7324523047891381, 0.6038916997346013, 0.7187373987736866]\n",
            "Number of final molecules: 5\n"
          ],
          "name": "stdout"
        }
      ]
    },
    {
      "cell_type": "code",
      "metadata": {
        "colab": {
          "base_uri": "https://localhost:8080/",
          "height": 417
        },
        "id": "Rrbms6OdAX-V",
        "outputId": "b0cde5fb-d2bc-4901-8a3f-f4e80e1c4228"
      },
      "source": [
        "MolsToGridImage(\n",
        "  mols=[x[0] for x in final_molecules], \n",
        "  molsPerRow=3, \n",
        "  legends=[f\"QED score: {x[1]:.2f}\" for x in final_molecules]\n",
        ")"
      ],
      "execution_count": 30,
      "outputs": [
        {
          "output_type": "execute_result",
          "data": {
            "image/png": "[encoded data removed]",
            "text/plain": [
              "<PIL.PngImagePlugin.PngImageFile image mode=RGB size=600x400 at 0x7F2AB20496D0>"
            ]
          },
          "metadata": {
            "tags": []
          },
          "execution_count": 30
        }
      ]
    }
  ]
}