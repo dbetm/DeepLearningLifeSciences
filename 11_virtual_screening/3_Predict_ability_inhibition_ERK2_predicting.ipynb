{
  "nbformat": 4,
  "nbformat_minor": 0,
  "metadata": {
    "colab": {
      "name": "3_Predict_ability_inhibition_ERK2_predicting.ipynb",
      "provenance": [],
      "collapsed_sections": [],
      "authorship_tag": "ABX9TyNxGJq7ZsUK7e4cdKKX//TM",
      "include_colab_link": true
    },
    "kernelspec": {
      "name": "python3",
      "display_name": "Python 3"
    },
    "language_info": {
      "name": "python"
    },
    "accelerator": "GPU"
  },
  "cells": [
    {
      "cell_type": "markdown",
      "metadata": {
        "id": "view-in-github",
        "colab_type": "text"
      },
      "source": [
        "<a href=\"https://colab.research.google.com/github/dbetm/DeepLearningLifeSciences/blob/main/11_virtual_screening/3_Predict_ability_inhibition_ERK2_predicting.ipynb\" target=\"_parent\"><img src=\"https://colab.research.google.com/assets/colab-badge.svg\" alt=\"Open In Colab\"/></a>"
      ]
    },
    {
      "cell_type": "markdown",
      "metadata": {
        "id": "QK5n2nFSt-Ob"
      },
      "source": [
        "**Problem:** Predict the ability of molecules to inhibit a protein known as ERK2 (Mitogen Activated Protein Kinase 1, MAPK1).\n",
        "\n",
        "ERK2 plays an important role in the signaling pathways that regulate how cells multiply. ERK2 has been implicated in a number of cancers. It's important to know some inhibitors for some types of cancer.\n",
        "\n",
        "**Solution:** We will train the model to distinguish a set of ERK2 active compounds from a set of decoy compounds.\n",
        "\n",
        "*What is decoy compounds?*\n",
        "\n",
        "Decoys are molecules that are presumed to be inactive against a target (i.e. will not likely bind to the target) and are used to validate the performance of molecular docking or a virtual screening workflow.\n",
        "\n",
        "**Database:** The active and decoy compounds are derived from the [DUD-E database](http://dud.docking.org/).\n",
        "\n",
        "- A total of 2,950 active compounds against a total of 40 targets.\n",
        "- For each active, 36 \"decoys\" with similar physical properties (e.g. molecular weight, calculated LogP) but dissimilar topology."
      ]
    },
    {
      "cell_type": "markdown",
      "metadata": {
        "id": "Vytyhzv8uCZP"
      },
      "source": [
        "## Setup"
      ]
    },
    {
      "cell_type": "code",
      "metadata": {
        "id": "VHTr5dh2tx0G",
        "colab": {
          "base_uri": "https://localhost:8080/",
          "height": 292
        },
        "outputId": "14047aca-f9ae-4acd-c04d-3bccacfb6ff3"
      },
      "source": [
        "!pip install --pre deepchem\n",
        "import deepchem as dc\n",
        "dc.__version__"
      ],
      "execution_count": 1,
      "outputs": [
        {
          "output_type": "stream",
          "name": "stdout",
          "text": [
            "Collecting deepchem\n",
            "  Downloading deepchem-2.6.0.dev20211007042252-py3-none-any.whl (609 kB)\n",
            "\u001b[?25l\r\u001b[K     |▌                               | 10 kB 25.8 MB/s eta 0:00:01\r\u001b[K     |█                               | 20 kB 29.0 MB/s eta 0:00:01\r\u001b[K     |█▋                              | 30 kB 26.5 MB/s eta 0:00:01\r\u001b[K     |██▏                             | 40 kB 19.8 MB/s eta 0:00:01\r\u001b[K     |██▊                             | 51 kB 15.7 MB/s eta 0:00:01\r\u001b[K     |███▎                            | 61 kB 12.8 MB/s eta 0:00:01\r\u001b[K     |███▊                            | 71 kB 12.6 MB/s eta 0:00:01\r\u001b[K     |████▎                           | 81 kB 14.0 MB/s eta 0:00:01\r\u001b[K     |████▉                           | 92 kB 14.6 MB/s eta 0:00:01\r\u001b[K     |█████▍                          | 102 kB 13.4 MB/s eta 0:00:01\r\u001b[K     |██████                          | 112 kB 13.4 MB/s eta 0:00:01\r\u001b[K     |██████▌                         | 122 kB 13.4 MB/s eta 0:00:01\r\u001b[K     |███████                         | 133 kB 13.4 MB/s eta 0:00:01\r\u001b[K     |███████▌                        | 143 kB 13.4 MB/s eta 0:00:01\r\u001b[K     |████████                        | 153 kB 13.4 MB/s eta 0:00:01\r\u001b[K     |████████▋                       | 163 kB 13.4 MB/s eta 0:00:01\r\u001b[K     |█████████▏                      | 174 kB 13.4 MB/s eta 0:00:01\r\u001b[K     |█████████▊                      | 184 kB 13.4 MB/s eta 0:00:01\r\u001b[K     |██████████▏                     | 194 kB 13.4 MB/s eta 0:00:01\r\u001b[K     |██████████▊                     | 204 kB 13.4 MB/s eta 0:00:01\r\u001b[K     |███████████▎                    | 215 kB 13.4 MB/s eta 0:00:01\r\u001b[K     |███████████▉                    | 225 kB 13.4 MB/s eta 0:00:01\r\u001b[K     |████████████▍                   | 235 kB 13.4 MB/s eta 0:00:01\r\u001b[K     |█████████████                   | 245 kB 13.4 MB/s eta 0:00:01\r\u001b[K     |█████████████▍                  | 256 kB 13.4 MB/s eta 0:00:01\r\u001b[K     |██████████████                  | 266 kB 13.4 MB/s eta 0:00:01\r\u001b[K     |██████████████▌                 | 276 kB 13.4 MB/s eta 0:00:01\r\u001b[K     |███████████████                 | 286 kB 13.4 MB/s eta 0:00:01\r\u001b[K     |███████████████▋                | 296 kB 13.4 MB/s eta 0:00:01\r\u001b[K     |████████████████▏               | 307 kB 13.4 MB/s eta 0:00:01\r\u001b[K     |████████████████▋               | 317 kB 13.4 MB/s eta 0:00:01\r\u001b[K     |█████████████████▏              | 327 kB 13.4 MB/s eta 0:00:01\r\u001b[K     |█████████████████▊              | 337 kB 13.4 MB/s eta 0:00:01\r\u001b[K     |██████████████████▎             | 348 kB 13.4 MB/s eta 0:00:01\r\u001b[K     |██████████████████▉             | 358 kB 13.4 MB/s eta 0:00:01\r\u001b[K     |███████████████████▍            | 368 kB 13.4 MB/s eta 0:00:01\r\u001b[K     |███████████████████▉            | 378 kB 13.4 MB/s eta 0:00:01\r\u001b[K     |████████████████████▍           | 389 kB 13.4 MB/s eta 0:00:01\r\u001b[K     |█████████████████████           | 399 kB 13.4 MB/s eta 0:00:01\r\u001b[K     |█████████████████████▌          | 409 kB 13.4 MB/s eta 0:00:01\r\u001b[K     |██████████████████████          | 419 kB 13.4 MB/s eta 0:00:01\r\u001b[K     |██████████████████████▋         | 430 kB 13.4 MB/s eta 0:00:01\r\u001b[K     |███████████████████████▏        | 440 kB 13.4 MB/s eta 0:00:01\r\u001b[K     |███████████████████████▋        | 450 kB 13.4 MB/s eta 0:00:01\r\u001b[K     |████████████████████████▏       | 460 kB 13.4 MB/s eta 0:00:01\r\u001b[K     |████████████████████████▊       | 471 kB 13.4 MB/s eta 0:00:01\r\u001b[K     |█████████████████████████▎      | 481 kB 13.4 MB/s eta 0:00:01\r\u001b[K     |█████████████████████████▉      | 491 kB 13.4 MB/s eta 0:00:01\r\u001b[K     |██████████████████████████▍     | 501 kB 13.4 MB/s eta 0:00:01\r\u001b[K     |██████████████████████████▉     | 512 kB 13.4 MB/s eta 0:00:01\r\u001b[K     |███████████████████████████▍    | 522 kB 13.4 MB/s eta 0:00:01\r\u001b[K     |████████████████████████████    | 532 kB 13.4 MB/s eta 0:00:01\r\u001b[K     |████████████████████████████▌   | 542 kB 13.4 MB/s eta 0:00:01\r\u001b[K     |█████████████████████████████   | 552 kB 13.4 MB/s eta 0:00:01\r\u001b[K     |█████████████████████████████▋  | 563 kB 13.4 MB/s eta 0:00:01\r\u001b[K     |██████████████████████████████  | 573 kB 13.4 MB/s eta 0:00:01\r\u001b[K     |██████████████████████████████▋ | 583 kB 13.4 MB/s eta 0:00:01\r\u001b[K     |███████████████████████████████▏| 593 kB 13.4 MB/s eta 0:00:01\r\u001b[K     |███████████████████████████████▊| 604 kB 13.4 MB/s eta 0:00:01\r\u001b[K     |████████████████████████████████| 609 kB 13.4 MB/s \n",
            "\u001b[?25hRequirement already satisfied: pandas in /usr/local/lib/python3.7/dist-packages (from deepchem) (1.1.5)\n",
            "Requirement already satisfied: joblib in /usr/local/lib/python3.7/dist-packages (from deepchem) (1.0.1)\n",
            "Requirement already satisfied: numpy in /usr/local/lib/python3.7/dist-packages (from deepchem) (1.19.5)\n",
            "Requirement already satisfied: scikit-learn in /usr/local/lib/python3.7/dist-packages (from deepchem) (0.22.2.post1)\n",
            "Requirement already satisfied: scipy in /usr/local/lib/python3.7/dist-packages (from deepchem) (1.4.1)\n",
            "Requirement already satisfied: python-dateutil>=2.7.3 in /usr/local/lib/python3.7/dist-packages (from pandas->deepchem) (2.8.2)\n",
            "Requirement already satisfied: pytz>=2017.2 in /usr/local/lib/python3.7/dist-packages (from pandas->deepchem) (2018.9)\n",
            "Requirement already satisfied: six>=1.5 in /usr/local/lib/python3.7/dist-packages (from python-dateutil>=2.7.3->pandas->deepchem) (1.15.0)\n",
            "Installing collected packages: deepchem\n",
            "Successfully installed deepchem-2.6.0.dev20211007042252\n"
          ]
        },
        {
          "output_type": "execute_result",
          "data": {
            "application/vnd.google.colaboratory.intrinsic+json": {
              "type": "string"
            },
            "text/plain": [
              "'2.6.0.dev'"
            ]
          },
          "metadata": {},
          "execution_count": 1
        }
      ]
    },
    {
      "cell_type": "code",
      "metadata": {
        "colab": {
          "base_uri": "https://localhost:8080/"
        },
        "id": "_lqqto4dvieT",
        "outputId": "364d7ff5-d255-45b1-a5df-811c55e769ce"
      },
      "source": [
        "# RDKIT libraries for chemistry functions\n",
        "!pip install rdkit-pypi"
      ],
      "execution_count": 2,
      "outputs": [
        {
          "output_type": "stream",
          "name": "stdout",
          "text": [
            "Collecting rdkit-pypi\n",
            "  Downloading rdkit_pypi-2021.3.5.1-cp37-cp37m-manylinux_2_17_x86_64.manylinux2014_x86_64.whl (19.7 MB)\n",
            "\u001b[K     |████████████████████████████████| 19.7 MB 1.3 MB/s \n",
            "\u001b[?25hRequirement already satisfied: numpy>=1.19 in /usr/local/lib/python3.7/dist-packages (from rdkit-pypi) (1.19.5)\n",
            "Installing collected packages: rdkit-pypi\n",
            "Successfully installed rdkit-pypi-2021.3.5.1\n"
          ]
        }
      ]
    },
    {
      "cell_type": "code",
      "metadata": {
        "colab": {
          "base_uri": "https://localhost:8080/"
        },
        "id": "s85tAB6JuRDB",
        "outputId": "51a409d4-3ab7-4847-8f70-32269bfcff30"
      },
      "source": [
        "# Mount our Drive in order to restore our trained model\n",
        "from google.colab import drive\n",
        "\n",
        "drive.mount('/content/gdrive')"
      ],
      "execution_count": 3,
      "outputs": [
        {
          "output_type": "stream",
          "name": "stdout",
          "text": [
            "Mounted at /content/gdrive\n"
          ]
        }
      ]
    },
    {
      "cell_type": "markdown",
      "metadata": {
        "id": "VK29Cd65uoS6"
      },
      "source": [
        "## Restoring trained model from Google Drive"
      ]
    },
    {
      "cell_type": "code",
      "metadata": {
        "id": "ZsYm6th3viOF"
      },
      "source": [
        "import sys\n",
        "\n",
        "from deepchem.models import GraphConvModel\n",
        "import numpy as np\n",
        "import pandas as pd\n",
        "from rdkit.Chem import PandasTools\n",
        "import seaborn as sns"
      ],
      "execution_count": 4,
      "outputs": []
    },
    {
      "cell_type": "code",
      "metadata": {
        "id": "JOn5opSNurbd"
      },
      "source": [
        "def generate_graph_conv_model(model_dir='models/'):\n",
        "  batch_size = 128\n",
        "  model = GraphConvModel(\n",
        "    n_tasks=1, \n",
        "    batch_size=batch_size,\n",
        "    mode='classification',\n",
        "    model_dir=model_dir\n",
        "  )\n",
        "\n",
        "  return model"
      ],
      "execution_count": 5,
      "outputs": []
    },
    {
      "cell_type": "code",
      "metadata": {
        "id": "uRpNIxeLvXtX"
      },
      "source": [
        "gdrive_model_path = 'gdrive/MyDrive/DLLifeSciences/models'\n",
        "\n",
        "model = generate_graph_conv_model(model_dir=gdrive_model_path)\n",
        "model.restore()"
      ],
      "execution_count": 6,
      "outputs": []
    },
    {
      "cell_type": "markdown",
      "metadata": {
        "id": "650pDgb50pp2"
      },
      "source": [
        "### Testing the restored model (optional)"
      ]
    },
    {
      "cell_type": "code",
      "metadata": {
        "id": "Vt25QhaSwVPo"
      },
      "source": [
        "from google.colab import files\n",
        "\n",
        "# please select the generated dataset (csv file) - dude_erk1_mk01.csv\n",
        "files.upload() "
      ],
      "execution_count": null,
      "outputs": []
    },
    {
      "cell_type": "markdown",
      "metadata": {
        "id": "NCizczqsweDd"
      },
      "source": [
        "**Note:** If you don't have the generated dataset _dude_erk1_mk01.csv_, you can download it from [here](https://github.com/dbetm/DeepLearningLifeSciences/blob/main/11_virtual_screening/dude_erk1_mk01.csv)"
      ]
    },
    {
      "cell_type": "code",
      "metadata": {
        "id": "QjXwaOjNwdwD"
      },
      "source": [
        "dataset_file = 'dude_erk1_mk01.csv'\n",
        "tasks = ['is_active']\n",
        "featurizer = dc.feat.ConvMolFeaturizer()\n",
        "\n",
        "loader = dc.data.CSVLoader(tasks=tasks, feature_field='SMILES', featurizer=featurizer)\n",
        "\n",
        "dataset = loader.create_dataset(inputs=dataset_file, shard_size=8192)"
      ],
      "execution_count": null,
      "outputs": []
    },
    {
      "cell_type": "code",
      "metadata": {
        "id": "wXWGBY2_y11Z"
      },
      "source": [
        "metrics = dc.metrics.Metric(\n",
        "  metric=dc.metrics.matthews_corrcoef, \n",
        "  task_averager=np.mean, \n",
        "  mode='classification'\n",
        ")"
      ],
      "execution_count": null,
      "outputs": []
    },
    {
      "cell_type": "code",
      "metadata": {
        "colab": {
          "base_uri": "https://localhost:8080/"
        },
        "id": "uwvkHoGbzA8R",
        "outputId": "8de3fcc3-5603-40a4-d358-6d4728580ce9"
      },
      "source": [
        "final_coef = model.evaluate(dataset, metrics, [])\n",
        "final_coef"
      ],
      "execution_count": null,
      "outputs": [
        {
          "output_type": "execute_result",
          "data": {
            "text/plain": [
              "{'mean-matthews_corrcoef': 0.9127227719188966}"
            ]
          },
          "metadata": {},
          "execution_count": 10
        }
      ]
    },
    {
      "cell_type": "markdown",
      "metadata": {
        "id": "OURHTr5xwydp"
      },
      "source": [
        "## Preparing Dataset for Model Prediction\n",
        "\n",
        "Now that we’ve created a predictive model, we can apply this model to a new set of\n",
        "molecules.\n",
        "\n",
        "We will use the trained model to screen a small sample of 100,000 compounds from the **ZINC database**, a collection of\n",
        "more than 1 billion commercially available molecules.\n",
        "\n",
        "One potential source of difficulty when carrying out a virtual screen is the presence of\n",
        "molecules that have the potential to interfere with biological assays. In order to identify reactive or problematic molecules we will use a rule set that exists in a Python script called [*rd_filters.py*](https://github.com/PatWalters/rd_filters)"
      ]
    },
    {
      "cell_type": "markdown",
      "metadata": {
        "id": "USAsVE2j1gEm"
      },
      "source": [
        "### Install rd_filters from GitHub using pip"
      ]
    },
    {
      "cell_type": "code",
      "metadata": {
        "colab": {
          "base_uri": "https://localhost:8080/"
        },
        "id": "93obxHiL1fyu",
        "outputId": "d46fdf76-78d1-4597-9b10-ff5a95f4dd5e"
      },
      "source": [
        "!pip install git+https://github.com/PatWalters/rd_filters.git"
      ],
      "execution_count": 7,
      "outputs": [
        {
          "output_type": "stream",
          "name": "stdout",
          "text": [
            "Collecting git+https://github.com/PatWalters/rd_filters.git\n",
            "  Cloning https://github.com/PatWalters/rd_filters.git to /tmp/pip-req-build-lulmrzmk\n",
            "  Running command git clone -q https://github.com/PatWalters/rd_filters.git /tmp/pip-req-build-lulmrzmk\n",
            "Requirement already satisfied: pandas in /usr/local/lib/python3.7/dist-packages (from rd-filters==0.1) (1.1.5)\n",
            "Requirement already satisfied: docopt in /usr/local/lib/python3.7/dist-packages (from rd-filters==0.1) (0.6.2)\n",
            "Requirement already satisfied: numpy>=1.15.4 in /usr/local/lib/python3.7/dist-packages (from pandas->rd-filters==0.1) (1.19.5)\n",
            "Requirement already satisfied: python-dateutil>=2.7.3 in /usr/local/lib/python3.7/dist-packages (from pandas->rd-filters==0.1) (2.8.2)\n",
            "Requirement already satisfied: pytz>=2017.2 in /usr/local/lib/python3.7/dist-packages (from pandas->rd-filters==0.1) (2018.9)\n",
            "Requirement already satisfied: six>=1.5 in /usr/local/lib/python3.7/dist-packages (from python-dateutil>=2.7.3->pandas->rd-filters==0.1) (1.15.0)\n",
            "Building wheels for collected packages: rd-filters\n",
            "  Building wheel for rd-filters (setup.py) ... \u001b[?25l\u001b[?25hdone\n",
            "  Created wheel for rd-filters: filename=rd_filters-0.1-py3-none-any.whl size=33802 sha256=9ccf4e0aae11e6210bfaceec8abfffcbe798fd6ea0363c8a3bdcc28da71a9676\n",
            "  Stored in directory: /tmp/pip-ephem-wheel-cache-2nbqm1xo/wheels/18/23/0c/f8d3c66d34f5ee86ae3992e1fdd45c94223ee21fcde6f01192\n",
            "Successfully built rd-filters\n",
            "Installing collected packages: rd-filters\n",
            "Successfully installed rd-filters-0.1\n"
          ]
        }
      ]
    },
    {
      "cell_type": "markdown",
      "metadata": {
        "id": "ypF4XPqH2QIF"
      },
      "source": [
        "### Getting the data. You can find the data [here](https://github.com/deepchem/DeepLearningLifeSciences/blob/master/Chapter11/zinc_100k.smi). "
      ]
    },
    {
      "cell_type": "code",
      "metadata": {
        "id": "GTkvxb2rwxh2",
        "colab": {
          "base_uri": "https://localhost:8080/"
        },
        "outputId": "210ac7e4-675f-434f-bb34-596e07e01907"
      },
      "source": [
        "!wget -O zinc_100k.smi https://raw.githubusercontent.com/deepchem/DeepLearningLifeSciences/master/Chapter11/zinc_100k.smi"
      ],
      "execution_count": 8,
      "outputs": [
        {
          "output_type": "stream",
          "name": "stdout",
          "text": [
            "--2021-10-13 21:09:54--  https://raw.githubusercontent.com/deepchem/DeepLearningLifeSciences/master/Chapter11/zinc_100k.smi\n",
            "Resolving raw.githubusercontent.com (raw.githubusercontent.com)... 185.199.110.133, 185.199.108.133, 185.199.111.133, ...\n",
            "Connecting to raw.githubusercontent.com (raw.githubusercontent.com)|185.199.110.133|:443... connected.\n",
            "HTTP request sent, awaiting response... 200 OK\n",
            "Length: 6307249 (6.0M) [text/plain]\n",
            "Saving to: ‘zinc_100k.smi’\n",
            "\n",
            "zinc_100k.smi       100%[===================>]   6.01M  --.-KB/s    in 0.05s   \n",
            "\n",
            "2021-10-13 21:09:55 (125 MB/s) - ‘zinc_100k.smi’ saved [6307249/6307249]\n",
            "\n"
          ]
        }
      ]
    },
    {
      "cell_type": "markdown",
      "metadata": {
        "id": "1JMr6boA3T02"
      },
      "source": [
        "### Detecting problematic molecules\n",
        "We can specify the input file and a prefix for output filenames. The filter argument calls the script in “filter” mode, where it identifies potentially problematic molecules."
      ]
    },
    {
      "cell_type": "code",
      "metadata": {
        "colab": {
          "base_uri": "https://localhost:8080/"
        },
        "id": "pG-DbOKV3WiU",
        "outputId": "08988726-915c-4930-b86f-a5ac53442ceb"
      },
      "source": [
        "!rd_filters filter --in zinc_100k.smi --prefix zinc"
      ],
      "execution_count": 9,
      "outputs": [
        {
          "output_type": "stream",
          "name": "stdout",
          "text": [
            "using 2 cores\n",
            "Using alerts from Inpharmatica\n",
            "Wrote SMILES for molecules passing filters to zinc.smi\n",
            "Wrote detailed data to zinc.csv\n",
            "68410 of 100000 passed filters 68.4%\n",
            "Elapsed time 81.04 seconds\n"
          ]
        }
      ]
    },
    {
      "cell_type": "markdown",
      "metadata": {
        "id": "ppRewIdI4OAl"
      },
      "source": [
        "**Notes**\n",
        "\n",
        "- The script is using the “Inpharmatica” set of rules. This rule set covers a large range of chemical functionality that has been shown to be problematic in biological assays.\n",
        "- SMILES strings for the molecules passing the filters were written into `zinc.smi`. We will use this as the input when we use the predictive model.\n",
        "- Detailed information on which compounds triggered particular structural alerts\n",
        "was written to a file called `zinc.csv`\n",
        "- **68.4%** of the molecules passed the filters, and the rest were considered problematic.\n"
      ]
    },
    {
      "cell_type": "markdown",
      "metadata": {
        "id": "3VBd8aY36bJ9"
      },
      "source": [
        "### What are the reasons why about 31% of the molecules were rejected? \n",
        "We can look at the `zinc.csv` file."
      ]
    },
    {
      "cell_type": "code",
      "metadata": {
        "colab": {
          "base_uri": "https://localhost:8080/",
          "height": 205
        },
        "id": "Y77af-nQ6maH",
        "outputId": "245cbb59-db85-4c1f-8231-f276c7b8d5a5"
      },
      "source": [
        "report = pd.read_csv(filepath_or_buffer='zinc.csv')\n",
        "report.head()"
      ],
      "execution_count": 10,
      "outputs": [
        {
          "output_type": "execute_result",
          "data": {
            "text/html": [
              "<div>\n",
              "<style scoped>\n",
              "    .dataframe tbody tr th:only-of-type {\n",
              "        vertical-align: middle;\n",
              "    }\n",
              "\n",
              "    .dataframe tbody tr th {\n",
              "        vertical-align: top;\n",
              "    }\n",
              "\n",
              "    .dataframe thead th {\n",
              "        text-align: right;\n",
              "    }\n",
              "</style>\n",
              "<table border=\"1\" class=\"dataframe\">\n",
              "  <thead>\n",
              "    <tr style=\"text-align: right;\">\n",
              "      <th></th>\n",
              "      <th>SMILES</th>\n",
              "      <th>NAME</th>\n",
              "      <th>FILTER</th>\n",
              "      <th>MW</th>\n",
              "      <th>LogP</th>\n",
              "      <th>HBD</th>\n",
              "      <th>HBA</th>\n",
              "      <th>TPSA</th>\n",
              "      <th>Rot</th>\n",
              "    </tr>\n",
              "  </thead>\n",
              "  <tbody>\n",
              "    <tr>\n",
              "      <th>0</th>\n",
              "      <td>CN(CCO)C[C@@H](O)Cn1cnc2c1c(=O)n(C)c(=O)n2C</td>\n",
              "      <td>ZINC000000000843</td>\n",
              "      <td>Filter82_pyridinium &gt; 0</td>\n",
              "      <td>311.342</td>\n",
              "      <td>-2.2813</td>\n",
              "      <td>2</td>\n",
              "      <td>9</td>\n",
              "      <td>105.52</td>\n",
              "      <td>6</td>\n",
              "    </tr>\n",
              "    <tr>\n",
              "      <th>1</th>\n",
              "      <td>O=c1[nH]c(=O)n([C@@H]2C[C@@H](O)[C@H](CO)O2)cc1Br</td>\n",
              "      <td>ZINC000000001063</td>\n",
              "      <td>Filter9_metal &gt; 0</td>\n",
              "      <td>307.100</td>\n",
              "      <td>-1.0602</td>\n",
              "      <td>3</td>\n",
              "      <td>6</td>\n",
              "      <td>104.55</td>\n",
              "      <td>2</td>\n",
              "    </tr>\n",
              "    <tr>\n",
              "      <th>2</th>\n",
              "      <td>Cn1c2ncn(CC(=O)N3CCOCC3)c2c(=O)n(C)c1=O</td>\n",
              "      <td>ZINC000000003942</td>\n",
              "      <td>Filter82_pyridinium &gt; 0</td>\n",
              "      <td>307.310</td>\n",
              "      <td>-1.7075</td>\n",
              "      <td>0</td>\n",
              "      <td>8</td>\n",
              "      <td>91.36</td>\n",
              "      <td>2</td>\n",
              "    </tr>\n",
              "    <tr>\n",
              "      <th>3</th>\n",
              "      <td>CN1C(=O)C[C@H](N2CCN(C(=O)CN3CCCC3)CC2)C1=O</td>\n",
              "      <td>ZINC000000036436</td>\n",
              "      <td>OK</td>\n",
              "      <td>308.382</td>\n",
              "      <td>-1.0163</td>\n",
              "      <td>0</td>\n",
              "      <td>5</td>\n",
              "      <td>64.17</td>\n",
              "      <td>3</td>\n",
              "    </tr>\n",
              "    <tr>\n",
              "      <th>4</th>\n",
              "      <td>CC(=O)NC[C@H](O)[C@H]1O[C@H]2OC(C)(C)O[C@H]2[C...</td>\n",
              "      <td>ZINC000000041101</td>\n",
              "      <td>OK</td>\n",
              "      <td>302.327</td>\n",
              "      <td>-1.1355</td>\n",
              "      <td>3</td>\n",
              "      <td>6</td>\n",
              "      <td>106.12</td>\n",
              "      <td>4</td>\n",
              "    </tr>\n",
              "  </tbody>\n",
              "</table>\n",
              "</div>"
            ],
            "text/plain": [
              "                                              SMILES  ... Rot\n",
              "0        CN(CCO)C[C@@H](O)Cn1cnc2c1c(=O)n(C)c(=O)n2C  ...   6\n",
              "1  O=c1[nH]c(=O)n([C@@H]2C[C@@H](O)[C@H](CO)O2)cc1Br  ...   2\n",
              "2            Cn1c2ncn(CC(=O)N3CCOCC3)c2c(=O)n(C)c1=O  ...   2\n",
              "3        CN1C(=O)C[C@H](N2CCN(C(=O)CN3CCCC3)CC2)C1=O  ...   3\n",
              "4  CC(=O)NC[C@H](O)[C@H]1O[C@H]2OC(C)(C)O[C@H]2[C...  ...   4\n",
              "\n",
              "[5 rows x 9 columns]"
            ]
          },
          "metadata": {},
          "execution_count": 10
        }
      ]
    },
    {
      "cell_type": "markdown",
      "metadata": {
        "id": "cH8jur2d-qFp"
      },
      "source": [
        "- **FILTER**: The reason the molecule was rejected, or “OK” if the molecule was not rejected.\n",
        "- **MW**: The molecular weight of the molecule. By default, molecules with molecular weight greater than 500 are rejected.\n",
        "- **LogP**: The calculated octanol/water partition coefficient of the molecule. By default, molecules with LogP greater than five are rejected.\n",
        "- **HBD**: The number of hydrogen bond donors. By default, molecules with more than 5 hydrogen bond donors are rejected.\n"
      ]
    },
    {
      "cell_type": "markdown",
      "metadata": {
        "id": "JAq2NWrI_qtl"
      },
      "source": [
        "We can identify which filters were responsible for removing the largest numbers of molecules.|"
      ]
    },
    {
      "cell_type": "code",
      "metadata": {
        "colab": {
          "base_uri": "https://localhost:8080/",
          "height": 205
        },
        "id": "9dORjNYZCXmv",
        "outputId": "658d65f0-9dce-4b9a-f846-f7959a9be936"
      },
      "source": [
        "from collections import Counter\n",
        "\n",
        "count_list = list(Counter(report['FILTER']).items())\n",
        "count_df = pd.DataFrame(count_list, columns=[\"Rule\", \"Count\"])\n",
        "count_df.sort_values(\"Count\", inplace=True, ascending=False)\n",
        "count_df.head()"
      ],
      "execution_count": 11,
      "outputs": [
        {
          "output_type": "execute_result",
          "data": {
            "text/html": [
              "<div>\n",
              "<style scoped>\n",
              "    .dataframe tbody tr th:only-of-type {\n",
              "        vertical-align: middle;\n",
              "    }\n",
              "\n",
              "    .dataframe tbody tr th {\n",
              "        vertical-align: top;\n",
              "    }\n",
              "\n",
              "    .dataframe thead th {\n",
              "        text-align: right;\n",
              "    }\n",
              "</style>\n",
              "<table border=\"1\" class=\"dataframe\">\n",
              "  <thead>\n",
              "    <tr style=\"text-align: right;\">\n",
              "      <th></th>\n",
              "      <th>Rule</th>\n",
              "      <th>Count</th>\n",
              "    </tr>\n",
              "  </thead>\n",
              "  <tbody>\n",
              "    <tr>\n",
              "      <th>2</th>\n",
              "      <td>OK</td>\n",
              "      <td>69148</td>\n",
              "    </tr>\n",
              "    <tr>\n",
              "      <th>7</th>\n",
              "      <td>Filter41_12_dicarbonyl &gt; 0</td>\n",
              "      <td>19330</td>\n",
              "    </tr>\n",
              "    <tr>\n",
              "      <th>0</th>\n",
              "      <td>Filter82_pyridinium &gt; 0</td>\n",
              "      <td>7713</td>\n",
              "    </tr>\n",
              "    <tr>\n",
              "      <th>11</th>\n",
              "      <td>Filter93_acetyl_urea &gt; 0</td>\n",
              "      <td>1541</td>\n",
              "    </tr>\n",
              "    <tr>\n",
              "      <th>12</th>\n",
              "      <td>Filter78_bicyclic_Imide &gt; 0</td>\n",
              "      <td>825</td>\n",
              "    </tr>\n",
              "  </tbody>\n",
              "</table>\n",
              "</div>"
            ],
            "text/plain": [
              "                           Rule  Count\n",
              "2                            OK  69148\n",
              "7    Filter41_12_dicarbonyl > 0  19330\n",
              "0       Filter82_pyridinium > 0   7713\n",
              "11     Filter93_acetyl_urea > 0   1541\n",
              "12  Filter78_bicyclic_Imide > 0    825"
            ]
          },
          "metadata": {},
          "execution_count": 11
        }
      ]
    },
    {
      "cell_type": "markdown",
      "metadata": {
        "id": "aSE-R4qOLX-f"
      },
      "source": [
        "From this, we can see that 69,148 of the molecules in our input passed all of the filters. The largest number of molecules (19,330) were rejected because they contained a 1,2-dicarbonyl group. Molecules of this type may react and form covalent bonds with protein residues such as serine and cysteine."
      ]
    },
    {
      "cell_type": "markdown",
      "metadata": {
        "id": "Dqn3PQtmMpi_"
      },
      "source": [
        "## Applying a Predictive Model"
      ]
    },
    {
      "cell_type": "markdown",
      "metadata": {
        "id": "-Q3LT9lOQy0-"
      },
      "source": [
        "The GraphConvMdel we can now be used to search the set of commercially available compounds we just filtered. Applying the model requires a few steps:\n",
        "1. Load the model from disk. [DONE](https://colab.research.google.com/drive/1FTR31OusXAO8Rs_t0Imrmsf1qf3zNJfz#scrollTo=VK29Cd65uoS6)\n",
        "2. Create a featurizer.\n",
        "3. Read and featurize the molecules that we will use.\n",
        "4. Examine the scores for the predictions.\n",
        "5. Examine the chemical structures of the top predicted molecules.\n",
        "6. Cluster the selected molecules.\n",
        "7. Write the selected molecules from each cluster to a CSV file."
      ]
    },
    {
      "cell_type": "code",
      "metadata": {
        "id": "AUr2HaIBQeBi"
      },
      "source": [
        "from rdkit.Chem import Draw\n",
        "from rdkit import DataStructs # For fingerprint handling\n",
        "from rdkit.ML.Cluster import Butina # Cluster molecules\n",
        "from rdkit.Chem import rdMolDescriptors as rdmd # Descriptors\n",
        "import seaborn as sns # Plotting"
      ],
      "execution_count": 12,
      "outputs": []
    },
    {
      "cell_type": "markdown",
      "metadata": {
        "id": "e_izAp5_SIkw"
      },
      "source": [
        "## 2. Create a featurizer"
      ]
    },
    {
      "cell_type": "code",
      "metadata": {
        "id": "1K5rht3DSdZX"
      },
      "source": [
        "featurizer = dc.feat.ConvMolFeaturizer()"
      ],
      "execution_count": 13,
      "outputs": []
    },
    {
      "cell_type": "markdown",
      "metadata": {
        "id": "X4aPI-LsTScv"
      },
      "source": [
        "## 3. Featurize the molecules\n",
        "\n",
        "We need to transform our SMILES file into a CSV file."
      ]
    },
    {
      "cell_type": "code",
      "metadata": {
        "colab": {
          "base_uri": "https://localhost:8080/",
          "height": 205
        },
        "id": "7crlakX8TgNR",
        "outputId": "c4645c69-e533-410e-9c59-0e907b3addb4"
      },
      "source": [
        "filtered_mols = pd.read_csv('zinc.smi', sep=' ', header=None)\n",
        "filtered_mols.columns = ['SMILES', 'Name']\n",
        "rows, cols = filtered_mols.shape\n",
        "# Just add add a dummy column to keep the featurizer happy\n",
        "filtered_mols[\"Val\"] = [0] * rows\n",
        "\n",
        "filtered_mols.head()"
      ],
      "execution_count": 14,
      "outputs": [
        {
          "output_type": "execute_result",
          "data": {
            "text/html": [
              "<div>\n",
              "<style scoped>\n",
              "    .dataframe tbody tr th:only-of-type {\n",
              "        vertical-align: middle;\n",
              "    }\n",
              "\n",
              "    .dataframe tbody tr th {\n",
              "        vertical-align: top;\n",
              "    }\n",
              "\n",
              "    .dataframe thead th {\n",
              "        text-align: right;\n",
              "    }\n",
              "</style>\n",
              "<table border=\"1\" class=\"dataframe\">\n",
              "  <thead>\n",
              "    <tr style=\"text-align: right;\">\n",
              "      <th></th>\n",
              "      <th>SMILES</th>\n",
              "      <th>Name</th>\n",
              "      <th>Val</th>\n",
              "    </tr>\n",
              "  </thead>\n",
              "  <tbody>\n",
              "    <tr>\n",
              "      <th>0</th>\n",
              "      <td>CN1C(=O)C[C@H](N2CCN(C(=O)CN3CCCC3)CC2)C1=O</td>\n",
              "      <td>ZINC000000036436</td>\n",
              "      <td>0</td>\n",
              "    </tr>\n",
              "    <tr>\n",
              "      <th>1</th>\n",
              "      <td>CC(=O)NC[C@H](O)[C@H]1O[C@H]2OC(C)(C)O[C@H]2[C...</td>\n",
              "      <td>ZINC000000041101</td>\n",
              "      <td>0</td>\n",
              "    </tr>\n",
              "    <tr>\n",
              "      <th>2</th>\n",
              "      <td>C1CN(c2nc(-c3nn[nH]n3)nc(N3CCOCC3)n2)CCO1</td>\n",
              "      <td>ZINC000000054542</td>\n",
              "      <td>0</td>\n",
              "    </tr>\n",
              "    <tr>\n",
              "      <th>3</th>\n",
              "      <td>OCCN(CCO)c1nc(Cl)nc(N(CCO)CCO)n1</td>\n",
              "      <td>ZINC000000109481</td>\n",
              "      <td>0</td>\n",
              "    </tr>\n",
              "    <tr>\n",
              "      <th>4</th>\n",
              "      <td>COC(=O)c1ccc(S(=O)(=O)N(CCO)CCO)n1C</td>\n",
              "      <td>ZINC000000119782</td>\n",
              "      <td>0</td>\n",
              "    </tr>\n",
              "  </tbody>\n",
              "</table>\n",
              "</div>"
            ],
            "text/plain": [
              "                                              SMILES              Name  Val\n",
              "0        CN1C(=O)C[C@H](N2CCN(C(=O)CN3CCCC3)CC2)C1=O  ZINC000000036436    0\n",
              "1  CC(=O)NC[C@H](O)[C@H]1O[C@H]2OC(C)(C)O[C@H]2[C...  ZINC000000041101    0\n",
              "2          C1CN(c2nc(-c3nn[nH]n3)nc(N3CCOCC3)n2)CCO1  ZINC000000054542    0\n",
              "3                   OCCN(CCO)c1nc(Cl)nc(N(CCO)CCO)n1  ZINC000000109481    0\n",
              "4                COC(=O)c1ccc(S(=O)(=O)N(CCO)CCO)n1C  ZINC000000119782    0"
            ]
          },
          "metadata": {},
          "execution_count": 14
        }
      ]
    },
    {
      "cell_type": "code",
      "metadata": {
        "id": "KF83cYVoUM1d"
      },
      "source": [
        "# write the CSV (input) in a file\n",
        "infile_name = \"zinc_filtered.CSV\"\n",
        "filtered_mols.to_csv(infile_name, index=False)"
      ],
      "execution_count": 15,
      "outputs": []
    },
    {
      "cell_type": "code",
      "metadata": {
        "id": "jc1L0fg4VAQU"
      },
      "source": [
        "# Featurize using DeepChem to read the CSV file with a loader.\n",
        "\n",
        "loader = dc.data.CSVLoader(tasks=['Val'], feature_field='SMILES', featurizer=featurizer)\n",
        "dataset = loader.create_dataset(inputs=infile_name, shard_size=8192)"
      ],
      "execution_count": 16,
      "outputs": []
    },
    {
      "cell_type": "markdown",
      "metadata": {
        "id": "SgpO5aG3V0h2"
      },
      "source": [
        "## 4. Prediction"
      ]
    },
    {
      "cell_type": "code",
      "metadata": {
        "id": "WvEI9iacV4AR"
      },
      "source": [
        "predictions = model.predict(dataset)\n",
        "preds_df = pd.DataFrame([x.flatten() for x in predictions], columns=['Neg', 'Pos'])"
      ],
      "execution_count": 17,
      "outputs": []
    },
    {
      "cell_type": "markdown",
      "metadata": {
        "id": "EJJjJLurhS4i"
      },
      "source": [
        "The next distribution plot provides a nice overview of the distribution of scores. Unfortunately, in virtual screening, there are no clear rules for defining an activity cutoff. Often the best strategy is to look at the distribution of scores, then select a set of the top-scoring molecules.\n",
        "\n",
        "We can see that there are only a small number of molecules with **scores above 0.3**. We can use this value as a preliminary cutoff for molecules that we may want to screen experimentally.\n"
      ]
    },
    {
      "cell_type": "code",
      "metadata": {
        "colab": {
          "base_uri": "https://localhost:8080/",
          "height": 387
        },
        "id": "nEnMwDhPhq80",
        "outputId": "8d6b91d4-f373-45ed-a7fc-e04c5441cd56"
      },
      "source": [
        "sns.displot(x=preds_df['Pos'], kind='kde', rug=True)"
      ],
      "execution_count": 18,
      "outputs": [
        {
          "output_type": "execute_result",
          "data": {
            "text/plain": [
              "<seaborn.axisgrid.FacetGrid at 0x7f91c1fff490>"
            ]
          },
          "metadata": {},
          "execution_count": 18
        },
        {
          "output_type": "display_data",
          "data": {
            "image/png": "[encoded data removed]",
            "text/plain": [
              "<Figure size 360x360 with 1 Axes>"
            ]
          },
          "metadata": {
            "needs_background": "light"
          }
        }
      ]
    },
    {
      "cell_type": "markdown",
      "metadata": {
        "id": "XTvvN3c2ipVH"
      },
      "source": [
        "## 5. Examine the chemical structures of the top predicted molecules."
      ]
    },
    {
      "cell_type": "code",
      "metadata": {
        "colab": {
          "base_uri": "https://localhost:8080/",
          "height": 1000
        },
        "id": "SNoAiRfiiux-",
        "outputId": "4f51c5b4-0ad7-49be-9b2a-a49d1b0b63b4"
      },
      "source": [
        "# We can join the dataframe with the scores (DF) with the SMILES strings.\n",
        "# in order to view the chemical structures of the top-scoring molecules:\n",
        "\n",
        "combo_df = filtered_mols.join(preds_df, how=\"outer\")\n",
        "combo_df.sort_values(\"Pos\", inplace=True, ascending=False)\n",
        "\n",
        "# in order to visualize the molecule\n",
        "PandasTools.AddMoleculeColumnToFrame(combo_df,\"SMILES\",\"Mol\")\n",
        "\n",
        "combo_df.head()"
      ],
      "execution_count": 21,
      "outputs": [
        {
          "output_type": "execute_result",
          "data": {
            "text/html": [
              "<div>\n",
              "<style scoped>\n",
              "    .dataframe tbody tr th:only-of-type {\n",
              "        vertical-align: middle;\n",
              "    }\n",
              "\n",
              "    .dataframe tbody tr th {\n",
              "        vertical-align: top;\n",
              "    }\n",
              "\n",
              "    .dataframe thead th {\n",
              "        text-align: right;\n",
              "    }\n",
              "</style>\n",
              "<table border=\"1\" class=\"dataframe\">\n",
              "  <thead>\n",
              "    <tr style=\"text-align: right;\">\n",
              "      <th></th>\n",
              "      <th>SMILES</th>\n",
              "      <th>Name</th>\n",
              "      <th>Val</th>\n",
              "      <th>Neg</th>\n",
              "      <th>Pos</th>\n",
              "      <th>Mol</th>\n",
              "    </tr>\n",
              "  </thead>\n",
              "  <tbody>\n",
              "    <tr>\n",
              "      <th>54838</th>\n",
              "      <td>Cn1cncc1C(=O)NC[C@@H](CO)NC(=O)c1cncn1C</td>\n",
              "      <td>ZINC000644062250</td>\n",
              "      <td>0</td>\n",
              "      <td>0.414290</td>\n",
              "      <td>0.585710</td>\n",
              "      <td><img data-content=\"rdkit/molecule\" src=\"data:image/png;base64,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\" alt=\"Mol\"/></td>\n",
              "    </tr>\n",
              "    <tr>\n",
              "      <th>33365</th>\n",
              "      <td>O=C(CNc1ccc(C(=O)NCCO)nn1)NCC(F)(F)F</td>\n",
              "      <td>ZINC000488388380</td>\n",
              "      <td>0</td>\n",
              "      <td>0.461990</td>\n",
              "      <td>0.538010</td>\n",
              "      <td><img data-content=\"rdkit/molecule\" src=\"data:image/png;base64,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\" alt=\"Mol\"/></td>\n",
              "    </tr>\n",
              "    <tr>\n",
              "      <th>21002</th>\n",
              "      <td>O=C(NCCNc1ccc(C(=O)NCCO)nn1)c1cc[nH]n1</td>\n",
              "      <td>ZINC000355577849</td>\n",
              "      <td>0</td>\n",
              "      <td>0.463563</td>\n",
              "      <td>0.536437</td>\n",
              "      <td><img data-content=\"rdkit/molecule\" src=\"data:image/png;base64,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\" alt=\"Mol\"/></td>\n",
              "    </tr>\n",
              "    <tr>\n",
              "      <th>12625</th>\n",
              "      <td>Cn1nnc2cc(C(=O)N[C@H](CO)CN3CCOCC3)cnc21</td>\n",
              "      <td>ZINC000339212694</td>\n",
              "      <td>0</td>\n",
              "      <td>0.491490</td>\n",
              "      <td>0.508510</td>\n",
              "      <td><img data-content=\"rdkit/molecule\" src=\"data:image/png;base64,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\" alt=\"Mol\"/></td>\n",
              "    </tr>\n",
              "    <tr>\n",
              "      <th>12624</th>\n",
              "      <td>Cn1nnc2cc(C(=O)N[C@@H](CO)CN3CCOCC3)cnc21</td>\n",
              "      <td>ZINC000339212693</td>\n",
              "      <td>0</td>\n",
              "      <td>0.491490</td>\n",
              "      <td>0.508510</td>\n",
              "      <td><img data-content=\"rdkit/molecule\" src=\"data:image/png;base64,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\" alt=\"Mol\"/></td>\n",
              "    </tr>\n",
              "  </tbody>\n",
              "</table>\n",
              "</div>"
            ],
            "text/plain": [
              "                                          SMILES  ...                                                Mol\n",
              "54838    Cn1cncc1C(=O)NC[C@@H](CO)NC(=O)c1cncn1C  ...  <img data-content=\"rdkit/molecule\" src=\"data:i...\n",
              "33365       O=C(CNc1ccc(C(=O)NCCO)nn1)NCC(F)(F)F  ...  <img data-content=\"rdkit/molecule\" src=\"data:i...\n",
              "21002     O=C(NCCNc1ccc(C(=O)NCCO)nn1)c1cc[nH]n1  ...  <img data-content=\"rdkit/molecule\" src=\"data:i...\n",
              "12625   Cn1nnc2cc(C(=O)N[C@H](CO)CN3CCOCC3)cnc21  ...  <img data-content=\"rdkit/molecule\" src=\"data:i...\n",
              "12624  Cn1nnc2cc(C(=O)N[C@@H](CO)CN3CCOCC3)cnc21  ...  <img data-content=\"rdkit/molecule\" src=\"data:i...\n",
              "\n",
              "[5 rows x 6 columns]"
            ]
          },
          "metadata": {},
          "execution_count": 21
        }
      ]
    },
    {
      "cell_type": "markdown",
      "metadata": {
        "id": "LplFA7wbkHr6"
      },
      "source": [
        "It looks like many of the hits are similar. Let’s look at a few more molecules."
      ]
    },
    {
      "cell_type": "code",
      "metadata": {
        "colab": {
          "base_uri": "https://localhost:8080/",
          "height": 417
        },
        "id": "rU_KPVXakLuT",
        "outputId": "f95e30f1-2829-4b5b-dfe7-c249e3ca47e8"
      },
      "source": [
        "Draw.MolsToGridImage(\n",
        "  combo_df['Mol'][:10], molsPerRow=5, legends=[\"%.2f\" % x for x in combo_df['Pos'][:10]]\n",
        ")"
      ],
      "execution_count": 22,
      "outputs": [
        {
          "output_type": "execute_result",
          "data": {
            "image/png": "[encoded data removed]",
            "text/plain": [
              "<PIL.PngImagePlugin.PngImageFile image mode=RGB size=1000x400 at 0x7F91C3F5CC10>"
            ]
          },
          "metadata": {},
          "execution_count": 22
        }
      ]
    },
    {
      "cell_type": "markdown",
      "metadata": {
        "id": "ZZEZ3RSEk0wT"
      },
      "source": [
        "## 6. Cluster the selected molecules.\n",
        "\n",
        "Many of the molecules are very similar and might end up being redundant in our screen. One way to be more efficient would be to cluster the molecules and only screen the highest-scoring molecule in each cluster."
      ]
    },
    {
      "cell_type": "markdown",
      "metadata": {
        "id": "TrA-2W4rlitF"
      },
      "source": [
        "The Butina clustering method is one of the most used methods in cheminformatics. In the Butina clustering method, we group molecules based on their chemical similarity, which is calculated using a comparison of bit vectors (arrays of 1 and 0), also known as chemical fingerprints that represent the presence or absence of patterns of connected atoms in a molecule. These bit vectors are typically compared using a\n",
        "metric known as the Tanimoto coefficient, which is defined as:\n",
        "\n",
        "**Tanimoto = A INTERSECTION B / A UNION B**\n",
        "\n",
        "The numerator is the number of bits that are 1 in both bit vectors A and B. The denominator is the number of bits that are 1 in either vector A or vector B."
      ]
    },
    {
      "cell_type": "code",
      "metadata": {
        "id": "G0WNlC6UlvE4"
      },
      "source": [
        "\"\"\" If the Tanimoto similarity of two molecules is greater than the cutoff, \n",
        "the molecules are put into the same cluster. If the similarity is less than the \n",
        "cutoff, the molecules are put into different clusters.\n",
        "\"\"\"\n",
        "def butina_cluster(mol_list, cutoff=0.35):\n",
        "  fp_list = [\n",
        "    rdmd.GetMorganFingerprintAsBitVect(mol, 3, nBits=2048)\n",
        "    for mol in mol_list\n",
        "  ]\n",
        "  dists = []\n",
        "  nfps = len(fp_list)\n",
        "\n",
        "  for i in range(1, nfps):  \n",
        "    sims = DataStructs.BulkTanimotoSimilarity(\n",
        "      fp_list[i], fp_list[:i]\n",
        "    )\n",
        "    dists.extend([1 - x for x in sims])\n",
        "\n",
        "  mol_clusters = Butina.ClusterData(dists, nfps, cutoff, isDistData=True)\n",
        "\n",
        "  cluster_id_list = [0] * nfps\n",
        "  for idx, cluster in enumerate(mol_clusters, 1):\n",
        "    for member in cluster:\n",
        "      cluster_id_list[member] = idx\n",
        "\n",
        "  return cluster_id_list"
      ],
      "execution_count": 28,
      "outputs": []
    },
    {
      "cell_type": "markdown",
      "metadata": {
        "id": "Zi_P5i1Fou4p"
      },
      "source": [
        "We will only clusterize the 100 top-scoring molecules. "
      ]
    },
    {
      "cell_type": "code",
      "metadata": {
        "id": "n1FnzvHKo2l7"
      },
      "source": [
        "best_100_df = combo_df.head(100).copy()"
      ],
      "execution_count": 24,
      "outputs": []
    },
    {
      "cell_type": "code",
      "metadata": {
        "colab": {
          "base_uri": "https://localhost:8080/",
          "height": 1000
        },
        "id": "P3GQnb4opJnw",
        "outputId": "8a1e2b90-8f9c-4d1f-d660-f6d21f86d403"
      },
      "source": [
        "best_100_df[\"Cluster\"] = butina_cluster(best_100_df.Mol)\n",
        "best_100_df.head()"
      ],
      "execution_count": 29,
      "outputs": [
        {
          "output_type": "execute_result",
          "data": {
            "text/html": [
              "<div>\n",
              "<style scoped>\n",
              "    .dataframe tbody tr th:only-of-type {\n",
              "        vertical-align: middle;\n",
              "    }\n",
              "\n",
              "    .dataframe tbody tr th {\n",
              "        vertical-align: top;\n",
              "    }\n",
              "\n",
              "    .dataframe thead th {\n",
              "        text-align: right;\n",
              "    }\n",
              "</style>\n",
              "<table border=\"1\" class=\"dataframe\">\n",
              "  <thead>\n",
              "    <tr style=\"text-align: right;\">\n",
              "      <th></th>\n",
              "      <th>SMILES</th>\n",
              "      <th>Name</th>\n",
              "      <th>Val</th>\n",
              "      <th>Neg</th>\n",
              "      <th>Pos</th>\n",
              "      <th>Mol</th>\n",
              "      <th>Cluster</th>\n",
              "    </tr>\n",
              "  </thead>\n",
              "  <tbody>\n",
              "    <tr>\n",
              "      <th>54838</th>\n",
              "      <td>Cn1cncc1C(=O)NC[C@@H](CO)NC(=O)c1cncn1C</td>\n",
              "      <td>ZINC000644062250</td>\n",
              "      <td>0</td>\n",
              "      <td>0.414290</td>\n",
              "      <td>0.585710</td>\n",
              "      <td><img data-content=\"rdkit/molecule\" src=\"data:image/png;base64,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\" alt=\"Mol\"/></td>\n",
              "      <td>79</td>\n",
              "    </tr>\n",
              "    <tr>\n",
              "      <th>33365</th>\n",
              "      <td>O=C(CNc1ccc(C(=O)NCCO)nn1)NCC(F)(F)F</td>\n",
              "      <td>ZINC000488388380</td>\n",
              "      <td>0</td>\n",
              "      <td>0.461990</td>\n",
              "      <td>0.538010</td>\n",
              "      <td><img data-content=\"rdkit/molecule\" src=\"data:image/png;base64,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\" alt=\"Mol\"/></td>\n",
              "      <td>78</td>\n",
              "    </tr>\n",
              "    <tr>\n",
              "      <th>21002</th>\n",
              "      <td>O=C(NCCNc1ccc(C(=O)NCCO)nn1)c1cc[nH]n1</td>\n",
              "      <td>ZINC000355577849</td>\n",
              "      <td>0</td>\n",
              "      <td>0.463563</td>\n",
              "      <td>0.536437</td>\n",
              "      <td><img data-content=\"rdkit/molecule\" src=\"data:image/png;base64,iVBORw0KGgoAAAANSUhEUgAAAMgAAADICAIAAAAiOjnJAAAABmJLR0QA/wD/AP+gvaeTAAAS/klEQVR4nO3de1SUdR7H8c/DfVVQVBCF5JIKaqIEB68ZiItpumYuZLmYbIVpSmZ7nLxFHUnnpCTHyyqi5crKUTQBi0yRBcHEwgsoCAoiYKncvKQMyGW++8eDpCkwM/AD0e/reDocnOeZ38R7nsvveRglIgJjrU2vvQfAnk4cFhOCw2JCcFhMCA6LCcFhMSE4LCYEh8WE4LCYEBwWE4LDYkJwWEwIDosJwWExITgsJgSHxYTgsJgQHBYTgsNiQnBYTAgOiwnBYTEhOCwmBIfFhOCwmBAcFhOCw2JCcFhMCA6LCcFhMSE4LCYEh8WE4LCYEBwWE4LDYkJwWEwIDosJwWExITgsJgSHxYTgsJgQHBYTgsNiQnBYTAgOiwnBYTEhOCwmBIfFhOCwmBAcFhOCw2JCcFhMCA6LCcFhMSE4LCYEh8WE4LCYEBwWE4LDYkJwWEwIDosJwWExITgsJgSHxYTgsJgQHBYTgsNiQnBYTAgOiwnBYTEhOCwmBIfFhOCwmBAcFhNCu7AyM/HddwDwzTcoLhYyIPZ00C4slQplZaipQXExqqsFDYk9DQy0XeDQIZSWIiUFM2eKGA97Smgd1qRJmDVLxEjY49TUYP16VFbC3r5jvZW12xX27o2+fQFg6FCYmQkZEHvIrl1wc8Py5SgsRF5ee49GC9qFdfcuPvgAFRVITQWRoCGxB+TkYNgwAHB2xoUL7T0aLWg93fDaa1izBgDKy3H7dusPiD3E2Rk//QQAx4/jhRfaezRa0DosOzuYmCAnB6Gh6NEDf/0rdu5ERYWIsT3ziovh6IiLFxEcjFGjYGvb3gPSghZh3btX/8VHHyE9HUVFqKvDkSN4+23Y2mL+fKSmChnis2vvXri5IScHhYVYtgyJie09IC1oGlZ1NTw9ERyM11+HsTFOn0ZMDHJz8fnncHREeTk2bcKoUejfH599hvh4REYCQFSUwKE//fLzAcDBARkZOHsWxsbtPSBtkGaWLiWA+vSh69cf87fnz1NQEPXvTwABNHUqjRxJBQW0cKGGq2ePM3UqAbR3L/XoQQBdu9beA9KCRBqc3e3bB19fGBkhORnu7o0+TK1GUhJ27cKLL8LcHD/9BCMjrFvXmm+DZ8uQIcjMRFISPDzQuTPu3IEktfeYNNX8rjAnB//8J4gQEtJUVQD09DBuHLZvx+DB6NIFL7+M//2v1Qb6zCGq3xXq6QGAvX0HqgrNzrxXVVUtWDDHwWF9v35d583TdKUWFujSBW5uOHWqpePriC5cgI0NOnfGhQtwdNRxJaUlJZ/36+duZeXx++8GI0Z0cnLq1qqDFK2ZLVZgYOCRIzurq1/6+us6zd8wgwdj+XJIEsaNa+n4OqItW/DVVwCwebPuK8m9dGnT2bMbb97cc/689YkTn3frWF01ucUKDw8PDw83MzOLidlnZqavyerOn0dWFgYNQlUVAJiYtMogO5KyMujrw8wMGRktWk9+fj4ABweHy5cvA7C3t2+V4bWZRrdYp06dWrBgAYDw8PABAwZouLrISPj6IiamftKrY50gt4RKha1b4eaGvn1RVYV587BxI4hw9izq6nRZYUNYDV+07oBFazSs3NxctVo9Y8YMX1/f0tLShIQETVbX0NOzE1ZREZYvx/PPY86c+mPKkhIYGmL2bFy8iOHD4emJa9e0Xu1TG1ZOTk5NTU1hYeGVK1eGDBny+uuvFxQUNLs6eQ/4tIZVW1v/ulQq1NRg716MGQNbW3zxBa5fh4sLwsJQUFA/LTx6NJYuhakpUlIwYgTS0rR7rurqalNT0+zs7Pz8fEmSOtyusNEJ0tu3b9va2gIIDg6eOXMmgJEjR9bW1jY9LbZ8+dGXXgqLiMieMiVu5MiovLy7rTzv1q6Sk8nLi9RqCgwkR8f62WAjI/L1pdhYWr2anJzolVceWqSkhMaNI4AMDEipbP4pKioqtm3b5ubmJv90unbtCsDZ2fn6Yyemn2BNzbwnJCRIkmRgYJCYmNi3b18Aq1atanp1s2bNArBjxw4bGxsAV65cadXRtrPkZAoMpB07aOFCmjWLXniBwsLo5ElatIi6d6/vrHt3un37oaWqquj99wkgd/frs2f7V1RUPHblp0+f9vPzM7l/vmNpaRkUFBQXF2dnZwegZ8+eBw8ebIsX2UqauaQjH78PGjQoLi5OkiRDQ8O0tLQmHv/GG28A2L17t4WFBYCSkhKdR3brFp0/T0SUnU03b+q8mtaUnEz799OHH9KsWXTjBtXVUVAQSVJ9Ui++SFu30t1GttEREdW9ew8CMGTIkJycnIbvV1RUhIWFubq6yj1JkjR+/PioqKh79+7JD/jtt9/Gjh0LwMDAYMOGOLVaiwGr1erDhw8vXLjwwIEDv/76q+6vXHvNhFVRUeHo6AhAoVDMnz9fjqyysrKxx0+dOhVAdHS0qakpgNt/evNqIzubNmwgItq8mTIzdV5Na5LDunqVrKzqv3PkCJmbk0JB2dnNL37hwgVnZ2cAJiYm4eHhWVlZAQEB8s4OQPfu3RUKxYPNNVCr1Uql0tbWo1s39cSJVF7e/HMVFRUpFIo+ffrIKzcyMrK0tExISNDq9bZE8xehU1NT9fX19fT0Dh06JEe2ePHixh789ddfKxSK7OxsIyMjAFVVVTqPLDubJk+m4GD629+elLB+/52WLKEdOygvr/47dXUa/ZgfWMPvvr6+8g9bT6/+zMnJySk0NPRmc5vluLiKbt0IoAED6Ny5Rh924gQpFNsbdql9+vT55JNPJk2aJG8OFQpFswfKj7d2La1cSUuW0J07tGYNEdGlS7RvX2MP1+juhqVLlwJwcHBITk42NDTU09NLSkpq7MHl5eWRkZGSJEmS1MKwnrQt1tWrBFDPni1dz6effmpmZta5c+eAgICTJ09qvmBREQ0fTgAZG1NY2EN/VV5OSiUNGCCXl25gYODj4xMfH19XV0dEarU6NDTU0NAQgKenp9anAhkZtH49EVF6Om3cSPPnExFlZtK//93YEhqFde/evaFDhwL44IMPFi9ebGRkFB4e/uAD6urqUlJSFArFoEGDGo4V9PX1XVxc8hre3Vq6dIkiIoiIIiMpN1e3dbSyY8fkY3AdF6+urs7Ozq6qqjp48CAADw8PHVZSUUH/+AcB5OZGCxYQEW3cSAsXUteuf5w9LFpEFy9efnTZpKSk3r17A7CxsUlNTdXo+QoLacUKioqi2Fgiops3SaEgLy8KDqbAwJaGRUSZmZkmJiaSJB04cODc/Q2xSqWKi4ubN2+efOYiMzAw8PDwWLRoUb9+/eTTmUOHDmn4LA8qLaUPPyQi2rePiot1WEHr27mTAHrzTR0Xz8jIADBw4MCNGzcCeO+993QeSVgYxceTtzfFx9PSpfTWWyRJNH48RUXR/YP+xysuLvby8gJgbGwcGhra6OOqqykqisaPrz83+fRTmjuXKitpyxb6/vtW22LJVq1aBcDa2jo1NVWpVI4ePVpf/48LiM8991xgYGB8fLxKpZIfr1Kp/P395a1XYGBgdXW15s9FRL/+SuPH04EDFBJChYVaLSrKZ58RQMuW6bj4t99+C2Dy5Mkff/wxgNWrV7dkMOnp9J//0Hvv0b/+RWfO0KlTmi5YU1OjUCgkSQIwc+bMuw+fx5aXl+/esIGef75+A2hoSD4+lJpK6em0di3JUx7ySUBZGaWnN/YsWoRVU1PTMHHXsL9zcXFZtmxZamqqvC9/VFhYmHwgP3bs2KtXr2ryRLdu0fr19P33FBJCc+fSypVPSlhvv00Abd+u4+Jr1qwBEBgYOG3aNAB79uxpyWDksDIz6bnnqJGpsabExsaam5vLpw5ZWVlEFB8f7+PjI/+w7g4eTIMGUVgY3bql2/C0CIuIsrKytmzZYmFh4efnFxUVVVZWpslSJ0+elPeVlpaW8fHxTTwyPp58fMjYmACaNIlCQig/nxwcaM8e+ugj0nKT1/omTHjVwcHp6NHTui0+b948AOvWrZMPWJueEWzW1at05gwRUWRkM7u/xmRlZQ0cOFCe35eHJJ+rTpgw4dwPP5BuJ4/3aReWrKamRttFSktLJ0yYAEBfXz8oKOhPm7fKysr//jdWPt+R/7z8Mu3cSb/8QkQUE0M2NgTQmDH0229aj7a2tjYjI6MlM2oNrK2tARTquv185ZVXAMTGxnbp0gVAuVYTFY9ISaHdu4mIVq58/C8iaKKysjIgIMDW1tbY2Lhv375KpVLDvUqzdAlLN/Isnzx5M2XKlBs3bhBRenp6QECAPJvq7HzbwoIUCnr0PPL0abK3J4B69KAff9T0GS9fvqxQKHr16mViYmJjY+Pn59fY5RRNqFQqSZKMjY0b2+k3S54FPHr0KABzc3OdRyJLSaEVKyghgfz9dQ9Ldu3atZSUlCbmvXXQdmHJ9u3bZ2ZmBsDOzm706NHS/dtSXVxcIiJONHY9hIiuXycPj/qruWFhZ9SNX9pQq9WJiYm+vr7y4QIAKysreQrH3d29oKBAt5FnZWUB6N+/v26L19XVGRsbS5KUmJgIwNXVVbf1NEhJoZUr6fhxCghoaVgitHVYRLR27VorKyt5QqVr166LFy/O1uSCCJFaTUolDRuWbGBg4OXlVfzIJERxcXFQUJC8w5KvY/j5+ckzkGfOnJGnP0xNTXU7apbP6by9vYmotLR06NChWl0VLioqkhPftWsXAB8fHx3G8KBW2RWK0w5hyedEoaGh8qZL2zsgoqO/l6+v9evX78yZM0SkVqsfPKORN4dKpfJP88tlZWXylQ0npzdXrFBrfmyakZEREBDQqVMna2trCwuLc+fOBQUFyTN2SqWyiW3ng5KSkgCMGjVq5cqV8rVXrV71o+7erT9jKy4m7Q96hWuHsOQTEPlQw8TERMMfzINyc3OHDRsmL+7v7+9+/7fSJEny9PTcs2dPY3NmarV69eo19vbVAHl7U2lpU89SW1sbHR3t7e3dcFGvW7du8n/379+vVCrlaTwNr5BcuXJl06ZNkZGR8tzeli1btH3VHUs7hCUfqicnJ8uTKLqtRJ7lAyDfjSjfvaThnSG//EJ2dgSQpSU99np/fj4pFGRjc69nT0sAXbp0CQwMPH/+/J07d2bMmCFHFhAQcPjw4V69eml3hYRIvgem6WmXp0Bbh1VSUiK/6aOjowG8+uqrLVlbTEzMwYMHt23bpu3p3tWrNHbsH1dz6+qopoby8ighgf7+dzI0rJ/1mD597Zdffln68JatYcrX1dX1+PHjI0eObP4KCRHdn4E0MTGxtra+dOmS1q+2Q2nrsM6mpZl36+bi4hISEgJggXwdtT3IpwIjRtD06bR1K928SdOm1fekr0+vvUaHDlFjEwsnT56Ub0Lv0aNHTEyMvHeTL/89OhmhUqm++eab4cOHN1yx+OGHH4S/vPbW1p/zPiQv78atWz85Ok65eXPHmDFvOju38QAaSBIUCiQlwc4OFy+itBROTnB0xIoVKChAdDS8vaHXyP8eV1fXtLS0iRMnlpeXT5s2zdLSMiIionPnzubm5noPLJOenj5nzpxevXr5+/v//PPPFhYWCoUiLy9v4sSJbfQi21FblxwcTAAtXkwTJxJQfzNGu/r4YyopoXffpaAg7RaUp3zlQ3gPD4/ExET5pEGlUj14tzEA+W7jltyd1uFo/anJLXX5MgDY2yM2FgCejF+Xs7CAm5vWv/0n35Dp7u7+1ltvJSUl5ebmrlu37tixYzt37rx16xYAc3PzgICA2bNnOzk5CRn3k6ytS/b0JIB+/JGMjUmSdLku39piYoiIamvpu+90XEN+fr68fZIvAgLo379/SEhIC68GdmhtvsWSP5qnUyfcuwcrK3Tq1NYDeER8PKZORV0dEhMxebIua7C3tz927NjSpUt79+594sSJuXPnenl5SR3qU4daXZuH9e67uHgRf/kL7O1hY9PWz/4416/jiy90/ISFBiYmJl/JHzHDALRDWGPGQKXC/v3YvBkTJrT1sz+OlRWWLUN1NZYsae+hPEXaPKyICGzfDgDvvPOEhCV/fLqeHu7/IghrBW3+7xUaGv75i/b2/vsAYGCAd95p76E8Rdp8i2VqirQ0GBg8ix/K9izR6FOTW1NtLfbvR10dpk/H/btc2NOnzcNizwb+N6GZEBwWE4LDYkJwWEwIDosJwWExITgsJgSHxYTgsJgQHBYTgsNiQnBYTAgOiwnBYTEhOCwmBIfFhOCwmBAcFhOCw2JCcFhMCA6LCcFhMSE4LCYEh8WE4LCYEBwWE4LDYkJwWEwIDosJwWExITgsJgSHxYTgsJgQHBYTgsNiQnBYTAgOiwnBYTEhOCwmBIfFhOCwmBAcFhOCw2JCcFhMCA6LCcFhMSE4LCYEh8WE4LCYEBwWE4LDYkJwWEwIDosJwWExITgsJgSHxYTgsJgQHBYTgsNiQnBYTAgOiwnBYTEhOCwmBIfFhOCwmBAcFhOCw2JCcFhMCA6LCcFhMSE4LCYEh8WE4LCYEBwWE+L/MW1ToT7QyKgAAAG3elRYdHJka2l0UEtMIHJka2l0IDIwMjEuMDMuNQAAeJx7v2/tPQYg4AFiRgYIEAdiCSBuYORg0ADSzExsEJqFnSEDzGdkY0gAMpiYYDRCwgGiks0BLMDMiMSAykDNgpmN00wOMM3IyA7RyAyjcVvB7mABYjDClXIzMGowMTIpMDED1TOwsDKwsimwsWcwsXMkcHBmMHFyKXBxazBx8Sjw8DLw8jHw8TNwCiQICGYwMQopCAknCItkMImIJoiKJQiyJYgJATlMbOwcnAKCbKzCQmKiIuKwEGMQLwndduBeCf8BEGf37/UHZhs77gexN81qPsDTY70PxD6sZn1AeWYPWDz55JH96x+ygdmdGzbtq5yxA8xmutFiH/0gDsxeWMXncH76EzB7s026Q3P+bDBb9UOxw6rGbjsQWyZymUOuYIQ9iH110xqHIB1RBxA7J+GMw453E/eC2KUHfzgcFGIAq0lK4Xdkq7wCds/zKaqOIQEKYHNaH6o78HDMAKt5ZjfPvnG/LJjNzXztwJI8FbCaBexMB1dOawPr7Z3Gf1CrvxKsZuZHhoPZRVxge5NWXzkwu+oKWFwMAKb7b1bdIJDpAAABq3pUWHRNT0wgcmRraXQgMjAyMS4wMy41AAB4nJ1VSY7cMAy8+xX8QBMkJXE5p3MaZALkkD/knv8jlGUrfUiAGRoCuqotFUrcfMB8fjzffv2G/cjzOEAaSAegf66IgJ9CREdufwzUsJhIUDqPqUGYbwm+w/8kXtel0iPm2QehjW4vKl8+rtKRWXSpsDd5UXn/uIpgSJ9nH4wU3mteGEezvrwM0aipELYetPR6l9qNIO/RzJeeG2nJC2R+Ra+4mI/ajaChcuOlItxbVcX5rjUxGTWVgbzz671TVaWF+opQa+SlDgDF5nrliIxf4/KJTBuatSu/g6gYXcdQoeUlW7oWF56161eV8FCtxUVQ5ayXrGJ2s1pcstaaXtFQ1uJkUFS3+0Za7KOHI695kNHNhipOhsyR3d2TyKsqNM75knFmrU7MjEtf84BRlaiikimWc02SP+38a5JEfZNEY5NEukki2ySRn5snSRSbRBbmTRIx32cS8XYwyXaQiLeDRLwdJOLtYKrZljbgvw4EOPa2ANkOEglvwjAn/EVkfoVvNT+vdL1pp9pJvgF8fX8efwCB2TRnRxpMaQAAASt6VFh0U01JTEVTIHJka2l0IDIwMjEuMDMuNQAAeJwlkDmOAjEQRa8yIUimVPsiRNQJERxgNFHnfQIOP1VNZPvpuZb/fmyX17a9rzvt+z7X13Z59JOP3+P5t+98PQ76+VwMpDxlMYhgn3cDqpRcCKmK5OvuIOkR64aAQWxO6x4QIc5tGSJnWwnljDSWktYgQhDNaonMzZoIJJFJEw7W0CFO3XjdCJhUmjAwO8uQSMvsOoASqVM6A526/21KF+KpqTJZMwKTODVjzxyNoVhZx8JK5UYKROwyGqWQjWagVZrDwtRLT+YV1V4PpF/NwTMyZiFHi/witeJF4FZVTRLQsrITJZfeY0iFsve3PlPpRD1DZ9QNe9n0c0vuRCctp05SJonOgbRrU0bYun7+AVmNYRguUyntAAAAAElFTkSuQmCC\" alt=\"Mol\"/></td>\n",
              "      <td>77</td>\n",
              "    </tr>\n",
              "    <tr>\n",
              "      <th>12625</th>\n",
              "      <td>Cn1nnc2cc(C(=O)N[C@H](CO)CN3CCOCC3)cnc21</td>\n",
              "      <td>ZINC000339212694</td>\n",
              "      <td>0</td>\n",
              "      <td>0.491490</td>\n",
              "      <td>0.508510</td>\n",
              "      <td><img data-content=\"rdkit/molecule\" src=\"data:image/png;base64,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\" alt=\"Mol\"/></td>\n",
              "      <td>17</td>\n",
              "    </tr>\n",
              "    <tr>\n",
              "      <th>12624</th>\n",
              "      <td>Cn1nnc2cc(C(=O)N[C@@H](CO)CN3CCOCC3)cnc21</td>\n",
              "      <td>ZINC000339212693</td>\n",
              "      <td>0</td>\n",
              "      <td>0.491490</td>\n",
              "      <td>0.508510</td>\n",
              "      <td><img data-content=\"rdkit/molecule\" src=\"data:image/png;base64,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\" alt=\"Mol\"/></td>\n",
              "      <td>17</td>\n",
              "    </tr>\n",
              "  </tbody>\n",
              "</table>\n",
              "</div>"
            ],
            "text/plain": [
              "                                          SMILES  ... Cluster\n",
              "54838    Cn1cncc1C(=O)NC[C@@H](CO)NC(=O)c1cncn1C  ...      79\n",
              "33365       O=C(CNc1ccc(C(=O)NCCO)nn1)NCC(F)(F)F  ...      78\n",
              "21002     O=C(NCCNc1ccc(C(=O)NCCO)nn1)c1cc[nH]n1  ...      77\n",
              "12625   Cn1nnc2cc(C(=O)N[C@H](CO)CN3CCOCC3)cnc21  ...      17\n",
              "12624  Cn1nnc2cc(C(=O)N[C@@H](CO)CN3CCOCC3)cnc21  ...      17\n",
              "\n",
              "[5 rows x 7 columns]"
            ]
          },
          "metadata": {},
          "execution_count": 29
        }
      ]
    },
    {
      "cell_type": "code",
      "metadata": {
        "colab": {
          "base_uri": "https://localhost:8080/"
        },
        "id": "HtWFngwWpg_Q",
        "outputId": "b5cecd19-7f81-4c64-b906-e92abc649466"
      },
      "source": [
        "# Number of clusters\n",
        "print('Number of clusters', len(best_100_df['Cluster'].unique()))"
      ],
      "execution_count": 32,
      "outputs": [
        {
          "output_type": "stream",
          "name": "stdout",
          "text": [
            "Number of clusters 79\n"
          ]
        }
      ]
    },
    {
      "cell_type": "markdown",
      "metadata": {
        "id": "QhP82Poup-2K"
      },
      "source": [
        "## 7. Write the selected molecules from each cluster to a CSV file.\n",
        "\n",
        "Ultimately, we would like to purchase these compounds and screen them experimentally. In order to do this, we need to save a CSV file listing the molecules (one for cluster, the top score) we plan to purchase."
      ]
    },
    {
      "cell_type": "code",
      "metadata": {
        "colab": {
          "base_uri": "https://localhost:8080/"
        },
        "id": "KlYWMOObpnh7",
        "outputId": "36ee75ae-da99-44e1-d847-5cbb9762ebfa"
      },
      "source": [
        "best_cluster_rep_df = best_100_df.drop_duplicates(\"Cluster\")\n",
        "print(best_cluster_rep_df.columns)\n",
        "print(\"Shape: \", best_cluster_rep_df.shape)"
      ],
      "execution_count": 36,
      "outputs": [
        {
          "output_type": "stream",
          "name": "stdout",
          "text": [
            "Index(['SMILES', 'Name', 'Val', 'Neg', 'Pos', 'Mol', 'Cluster'], dtype='object')\n",
            "Shape:  (79, 7)\n"
          ]
        }
      ]
    },
    {
      "cell_type": "markdown",
      "metadata": {
        "id": "1ulTgw8grFoo"
      },
      "source": [
        "Finally, we can write out a CSV file with the molecules we want to screen:"
      ]
    },
    {
      "cell_type": "code",
      "metadata": {
        "id": "hE6TETL2rG3W"
      },
      "source": [
        "best_cluster_rep_df.to_csv(\"best_cluster_represenatives.csv\")"
      ],
      "execution_count": 37,
      "outputs": []
    }
  ]
}