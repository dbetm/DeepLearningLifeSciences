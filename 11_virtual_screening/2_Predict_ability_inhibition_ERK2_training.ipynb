{
  "nbformat": 4,
  "nbformat_minor": 0,
  "metadata": {
    "colab": {
      "name": "2_Predict_ability_inhibition_ERK2_training.ipynb",
      "provenance": [],
      "collapsed_sections": [],
      "authorship_tag": "ABX9TyO2xKPcLfmtbaPYTfBNCCPS",
      "include_colab_link": true
    },
    "kernelspec": {
      "name": "python3",
      "display_name": "Python 3"
    },
    "language_info": {
      "name": "python"
    }
  },
  "cells": [
    {
      "cell_type": "markdown",
      "metadata": {
        "id": "view-in-github",
        "colab_type": "text"
      },
      "source": [
        "<a href=\"https://colab.research.google.com/github/dbetm/DeepLearningLifeSciences/blob/main/11_virtual_screening/2_Predict_ability_inhibition_ERK2_training.ipynb\" target=\"_parent\"><img src=\"https://colab.research.google.com/assets/colab-badge.svg\" alt=\"Open In Colab\"/></a>"
      ]
    },
    {
      "cell_type": "markdown",
      "metadata": {
        "id": "rP9FluvBWFO_"
      },
      "source": [
        "**Problem:** Predict the ability of molecules to inhibit a protein known as ERK2 (Mitogen Activated Protein Kinase 1, MAPK1).\n",
        "\n",
        "ERK2 plays an important role in the signaling pathways that regulate how cells multiply. ERK2 has been implicated in a number of cancers. It's important to know some inhibitors for some types of cancer.\n",
        "\n",
        "**Solution:** We will train the model to distinguish a set of ERK2 active compounds from a set of decoy compounds.\n",
        "\n",
        "*What is decoy compounds?*\n",
        "\n",
        "Decoys are molecules that are presumed to be inactive against a target (i.e. will not likely bind to the target) and are used to validate the performance of molecular docking or a virtual screening workflow.\n",
        "\n",
        "**Database: **The active and decoy compounds are derived from the [DUD-E database](http://dud.docking.org/).\n",
        "\n",
        "- A total of 2,950 active compounds against a total of 40 targets.\n",
        "- For each active, 36 \"decoys\" with similar physical properties (e.g. molecular weight, calculated LogP) but dissimilar topology."
      ]
    },
    {
      "cell_type": "markdown",
      "metadata": {
        "id": "PyYjhuq66W3E"
      },
      "source": [
        "## Setup"
      ]
    },
    {
      "cell_type": "code",
      "metadata": {
        "colab": {
          "base_uri": "https://localhost:8080/",
          "height": 292
        },
        "id": "27cE3v5x6YNi",
        "outputId": "678dc5fb-bd54-4928-dde0-96329b7b883d"
      },
      "source": [
        "!pip install --pre deepchem\n",
        "import deepchem as dc\n",
        "dc.__version__"
      ],
      "execution_count": 1,
      "outputs": [
        {
          "output_type": "stream",
          "name": "stdout",
          "text": [
            "Collecting deepchem\n",
            "  Downloading deepchem-2.6.0.dev20210920000351-py3-none-any.whl (605 kB)\n",
            "\u001b[K     |████████████████████████████████| 605 kB 5.1 MB/s \n",
            "\u001b[?25hRequirement already satisfied: scipy in /usr/local/lib/python3.7/dist-packages (from deepchem) (1.4.1)\n",
            "Requirement already satisfied: joblib in /usr/local/lib/python3.7/dist-packages (from deepchem) (1.0.1)\n",
            "Requirement already satisfied: pandas in /usr/local/lib/python3.7/dist-packages (from deepchem) (1.1.5)\n",
            "Requirement already satisfied: numpy in /usr/local/lib/python3.7/dist-packages (from deepchem) (1.19.5)\n",
            "Requirement already satisfied: scikit-learn in /usr/local/lib/python3.7/dist-packages (from deepchem) (0.22.2.post1)\n",
            "Requirement already satisfied: python-dateutil>=2.7.3 in /usr/local/lib/python3.7/dist-packages (from pandas->deepchem) (2.8.2)\n",
            "Requirement already satisfied: pytz>=2017.2 in /usr/local/lib/python3.7/dist-packages (from pandas->deepchem) (2018.9)\n",
            "Requirement already satisfied: six>=1.5 in /usr/local/lib/python3.7/dist-packages (from python-dateutil>=2.7.3->pandas->deepchem) (1.15.0)\n",
            "Installing collected packages: deepchem\n",
            "Successfully installed deepchem-2.6.0.dev20210920000351\n"
          ]
        },
        {
          "output_type": "execute_result",
          "data": {
            "application/vnd.google.colaboratory.intrinsic+json": {
              "type": "string"
            },
            "text/plain": [
              "'2.6.0.dev'"
            ]
          },
          "metadata": {},
          "execution_count": 1
        }
      ]
    },
    {
      "cell_type": "code",
      "metadata": {
        "colab": {
          "base_uri": "https://localhost:8080/"
        },
        "id": "H-cW2v0kA9Yh",
        "outputId": "dc11c7cc-9e97-46b4-f0a9-bfb476e212ab"
      },
      "source": [
        "# RDKIT libraries for chemistry functions\n",
        "!pip install rdkit-pypi"
      ],
      "execution_count": 2,
      "outputs": [
        {
          "output_type": "stream",
          "name": "stdout",
          "text": [
            "Collecting rdkit-pypi\n",
            "  Downloading rdkit_pypi-2021.3.5.1-cp37-cp37m-manylinux_2_17_x86_64.manylinux2014_x86_64.whl (19.7 MB)\n",
            "\u001b[K     |████████████████████████████████| 19.7 MB 31.2 MB/s \n",
            "\u001b[?25hRequirement already satisfied: numpy>=1.19 in /usr/local/lib/python3.7/dist-packages (from rdkit-pypi) (1.19.5)\n",
            "Installing collected packages: rdkit-pypi\n",
            "Successfully installed rdkit-pypi-2021.3.5.1\n"
          ]
        }
      ]
    },
    {
      "cell_type": "code",
      "metadata": {
        "id": "qnionP0j6x9N"
      },
      "source": [
        "import sys\n",
        "\n",
        "from deepchem.models import GraphConvModel\n",
        "import numpy as np\n",
        "import pandas as pd\n",
        "from rdkit.Chem import PandasTools\n",
        "import seaborn as sns"
      ],
      "execution_count": 3,
      "outputs": []
    },
    {
      "cell_type": "code",
      "metadata": {
        "id": "CPPSHwnYB1EA"
      },
      "source": [
        "!mkdir 'models'"
      ],
      "execution_count": 4,
      "outputs": []
    },
    {
      "cell_type": "markdown",
      "metadata": {
        "id": "qa-iRJq2C5Pr"
      },
      "source": [
        "## Loading dataset"
      ]
    },
    {
      "cell_type": "code",
      "metadata": {
        "id": "hOBaBOhtCuXj"
      },
      "source": [
        "from google.colab import files\n",
        "\n",
        "# please select the generated dataset (csv file) - dude_erk1_mk01.csv\n",
        "files.upload() "
      ],
      "execution_count": null,
      "outputs": []
    },
    {
      "cell_type": "markdown",
      "metadata": {
        "id": "823pPrVOoKA5"
      },
      "source": [
        "**Note:** If you don't have the generated dataset _dude_erk1_mk01.csv_, you can download it from [here](https://github.com/dbetm/DeepLearningLifeSciences/blob/main/11_virtual_screening/dude_erk1_mk01.csv)\n",
        "\n"
      ]
    },
    {
      "cell_type": "code",
      "metadata": {
        "id": "_gZCGKx-DQ91"
      },
      "source": [
        "dataset_file = 'dude_erk1_mk01.csv'\n",
        "tasks = ['is_active']\n",
        "featurizer = dc.feat.ConvMolFeaturizer()\n",
        "\n",
        "loader = dc.data.CSVLoader(tasks=tasks, feature_field='SMILES', featurizer=featurizer)\n",
        "\n",
        "dataset = loader.create_dataset(inputs=dataset_file, shard_size=8192)"
      ],
      "execution_count": 7,
      "outputs": []
    },
    {
      "cell_type": "markdown",
      "metadata": {
        "id": "7baJpJ8WB5_v"
      },
      "source": [
        "## Creating and training the model"
      ]
    },
    {
      "cell_type": "code",
      "metadata": {
        "id": "yb0okGJEB85t"
      },
      "source": [
        "def generate_graph_conv_model():\n",
        "  batch_size = 128\n",
        "  model = GraphConvModel(\n",
        "    n_tasks=1, \n",
        "    batch_size=batch_size,\n",
        "    mode='classification',\n",
        "    model_dir='models/'\n",
        "  )\n",
        "\n",
        "  return model"
      ],
      "execution_count": 8,
      "outputs": []
    },
    {
      "cell_type": "code",
      "metadata": {
        "id": "_oT8E0stO0ll"
      },
      "source": [
        "# Split the dataset into training, validation and testing sets\n",
        "splitter = dc.splits.RandomSplitter()"
      ],
      "execution_count": 9,
      "outputs": []
    },
    {
      "cell_type": "markdown",
      "metadata": {
        "id": "ss9xeuYSPBuQ"
      },
      "source": [
        "Our dataset is unbalanced (we have a small number of active compounds and a large number of inactive compounds). \n",
        "\n",
        "One metric for unbalanced datasets is **Matthews correlation coefficient (MCC)**."
      ]
    },
    {
      "cell_type": "code",
      "metadata": {
        "id": "gjwjT_CUO-iv"
      },
      "source": [
        "metrics = dc.metrics.Metric(\n",
        "  metric=dc.metrics.matthews_corrcoef, \n",
        "  task_averager=np.mean, \n",
        "  mode='classification'\n",
        ")"
      ],
      "execution_count": 10,
      "outputs": []
    },
    {
      "cell_type": "markdown",
      "metadata": {
        "id": "SVMGN8LOQ-B_"
      },
      "source": [
        "### Training\n",
        "\n",
        "We will permorm 10 folds of [cross validation](https://docs.aws.amazon.com/machine-learning/latest/dg/cross-validation.html)."
      ]
    },
    {
      "cell_type": "code",
      "metadata": {
        "id": "7avTCe0JRZNJ"
      },
      "source": [
        "cv_folds = 10"
      ],
      "execution_count": 11,
      "outputs": []
    },
    {
      "cell_type": "code",
      "metadata": {
        "id": "6naT2xEzQ8Li"
      },
      "source": [
        "training_scores = []\n",
        "validation_scores = []\n",
        "transformers = []\n",
        "\n",
        "for _ in range(0, cv_folds):\n",
        "  model = generate_graph_conv_model()\n",
        "\n",
        "  res = splitter.train_valid_test_split(dataset)\n",
        "  train_set, valid_set, test_set = res\n",
        "\n",
        "  model.fit(train_set)\n",
        "\n",
        "  # evaluation\n",
        "  training_scores.append(\n",
        "    model.evaluate(train_set, metrics, transformers)['mean-matthews_corrcoef']\n",
        "  )\n",
        "  validation_scores.append(\n",
        "    model.evaluate(valid_set, metrics, transformers)['mean-matthews_corrcoef']\n",
        "  )\n"
      ],
      "execution_count": null,
      "outputs": []
    },
    {
      "cell_type": "code",
      "metadata": {
        "colab": {
          "base_uri": "https://localhost:8080/"
        },
        "id": "eP01Uc3HWU1A",
        "outputId": "5816ee69-698f-4348-8f9f-65b1ce145a8c"
      },
      "source": [
        "print(training_scores)\n",
        "print(validation_scores)"
      ],
      "execution_count": 13,
      "outputs": [
        {
          "output_type": "stream",
          "name": "stdout",
          "text": [
            "[0.6925715669297021, 0.7037250937927308, 0.8874180607161601, 0.663484468704159, 0.8549621258262696, 0.8403915647601724, 0.8666055955704699, 0.9055953801867718, 0.8143774003802622, 0.6402881974762532]\n",
            "[0.4433162349439269, 0.6518011356977635, 0.4983739794337415, 0.7344976320140556, 0.7040189638958985, 1.0, 0.8499867778251156, 0.562199358128814, 0.6630256418076944, 0.7032364358565029]\n"
          ]
        }
      ]
    },
    {
      "cell_type": "code",
      "metadata": {
        "colab": {
          "base_uri": "https://localhost:8080/"
        },
        "id": "gM_sgAAOu7OT",
        "outputId": "fef34f8d-760e-49d8-cb4d-eea3bd247be2"
      },
      "source": [
        "print(\"Average score using training dataset: \", np.array(training_scores).mean())\n",
        "print(\"Average score using validation dataset: \", np.array(validation_scores).mean())"
      ],
      "execution_count": 14,
      "outputs": [
        {
          "output_type": "stream",
          "name": "stdout",
          "text": [
            "Average score using training dataset:  0.7869419454342952\n",
            "Average score using validation dataset:  0.6810456159603513\n"
          ]
        }
      ]
    },
    {
      "cell_type": "markdown",
      "metadata": {
        "id": "JTY7IlwRvPwm"
      },
      "source": [
        "A bit of overfitting"
      ]
    },
    {
      "cell_type": "markdown",
      "metadata": {
        "id": "UN6miBqtWxJC"
      },
      "source": [
        "### Visualization the performance of the model on the training and test data using a [boxplots](https://seaborn.pydata.org/generated/seaborn.boxplot.html)."
      ]
    },
    {
      "cell_type": "code",
      "metadata": {
        "colab": {
          "base_uri": "https://localhost:8080/",
          "height": 283
        },
        "id": "GeLAHdZBW7x2",
        "outputId": "96fbd082-6309-423a-dfd5-9ac1a7182495"
      },
      "source": [
        "sns.boxplot(\n",
        "  x=['training'] * cv_folds + ['validation'] * cv_folds,\n",
        "  y=training_scores + validation_scores\n",
        ")"
      ],
      "execution_count": 15,
      "outputs": [
        {
          "output_type": "execute_result",
          "data": {
            "text/plain": [
              "<matplotlib.axes._subplots.AxesSubplot at 0x7f31ece89f10>"
            ]
          },
          "metadata": {},
          "execution_count": 15
        },
        {
          "output_type": "display_data",
          "data": {
            "image/png": "[encoded data removed]",
            "text/plain": [
              "<Figure size 432x288 with 1 Axes>"
            ]
          },
          "metadata": {
            "needs_background": "light"
          }
        }
      ]
    },
    {
      "cell_type": "markdown",
      "metadata": {
        "id": "yeDG8KOMZ1CV"
      },
      "source": [
        "## Testing"
      ]
    },
    {
      "cell_type": "code",
      "metadata": {
        "id": "MguoxPT2Z54c"
      },
      "source": [
        "_, valid_set, test_set = splitter.train_valid_test_split(dataset)\n",
        "\n",
        "predictions = [x.flatten() for x in model.predict(test_set)]\n",
        "predictions = pd.DataFrame(predictions, columns=['neg', 'pos'])"
      ],
      "execution_count": 17,
      "outputs": []
    },
    {
      "cell_type": "code",
      "metadata": {
        "colab": {
          "base_uri": "https://localhost:8080/",
          "height": 205
        },
        "id": "2dF6i6RUvoPH",
        "outputId": "eac102d4-de5d-49cb-d293-0fef0b04e6c4"
      },
      "source": [
        "# add the activity class (1 = active, 0 = inactive) and the SMILES strings\n",
        "predictions['active'] = [int(x) for x in test_set.y]\n",
        "predictions['SMILES'] = test_set.ids\n",
        "predictions.head()"
      ],
      "execution_count": 18,
      "outputs": [
        {
          "output_type": "execute_result",
          "data": {
            "text/html": [
              "<div>\n",
              "<style scoped>\n",
              "    .dataframe tbody tr th:only-of-type {\n",
              "        vertical-align: middle;\n",
              "    }\n",
              "\n",
              "    .dataframe tbody tr th {\n",
              "        vertical-align: top;\n",
              "    }\n",
              "\n",
              "    .dataframe thead th {\n",
              "        text-align: right;\n",
              "    }\n",
              "</style>\n",
              "<table border=\"1\" class=\"dataframe\">\n",
              "  <thead>\n",
              "    <tr style=\"text-align: right;\">\n",
              "      <th></th>\n",
              "      <th>neg</th>\n",
              "      <th>pos</th>\n",
              "      <th>active</th>\n",
              "      <th>SMILES</th>\n",
              "    </tr>\n",
              "  </thead>\n",
              "  <tbody>\n",
              "    <tr>\n",
              "      <th>0</th>\n",
              "      <td>0.999848</td>\n",
              "      <td>0.000152</td>\n",
              "      <td>0</td>\n",
              "      <td>COc1c(cc(cc1Cl)Cl)C(=O)NC(=S)Nc2c(c3c(s2)CCCC3...</td>\n",
              "    </tr>\n",
              "    <tr>\n",
              "      <th>1</th>\n",
              "      <td>0.998840</td>\n",
              "      <td>0.001160</td>\n",
              "      <td>0</td>\n",
              "      <td>c1cc(c(cc1N)C(=O)N)N2CCN(CC2)CC(F)(F)F</td>\n",
              "    </tr>\n",
              "    <tr>\n",
              "      <th>2</th>\n",
              "      <td>0.999242</td>\n",
              "      <td>0.000758</td>\n",
              "      <td>0</td>\n",
              "      <td>Cc1cc(n(n1)c2c(c(ncn2)Nc3ccc(cc3)Br)N)C</td>\n",
              "    </tr>\n",
              "    <tr>\n",
              "      <th>3</th>\n",
              "      <td>0.999494</td>\n",
              "      <td>0.000506</td>\n",
              "      <td>0</td>\n",
              "      <td>Cn1c(c(c(=O)[nH]c1=O)N2CCC[C@H](C2)CO)N</td>\n",
              "    </tr>\n",
              "    <tr>\n",
              "      <th>4</th>\n",
              "      <td>0.999982</td>\n",
              "      <td>0.000018</td>\n",
              "      <td>0</td>\n",
              "      <td>C/C=C(/C)\\C(=O)O[C@@H]1[C@@H]([C@@H]([C@@H](O[...</td>\n",
              "    </tr>\n",
              "  </tbody>\n",
              "</table>\n",
              "</div>"
            ],
            "text/plain": [
              "        neg  ...                                             SMILES\n",
              "0  0.999848  ...  COc1c(cc(cc1Cl)Cl)C(=O)NC(=S)Nc2c(c3c(s2)CCCC3...\n",
              "1  0.998840  ...             c1cc(c(cc1N)C(=O)N)N2CCN(CC2)CC(F)(F)F\n",
              "2  0.999242  ...            Cc1cc(n(n1)c2c(c(ncn2)Nc3ccc(cc3)Br)N)C\n",
              "3  0.999494  ...            Cn1c(c(c(=O)[nH]c1=O)N2CCC[C@H](C2)CO)N\n",
              "4  0.999982  ...  C/C=C(/C)\\C(=O)O[C@@H]1[C@@H]([C@@H]([C@@H](O[...\n",
              "\n",
              "[5 rows x 4 columns]"
            ]
          },
          "metadata": {},
          "execution_count": 18
        }
      ]
    },
    {
      "cell_type": "markdown",
      "metadata": {
        "id": "7DIZNURMwSPA"
      },
      "source": [
        "How good are the predictions? \n",
        "\n",
        "We can use a Boxplot to look at the distribution of values for both classes (1 = active, 0 = inactive)."
      ]
    },
    {
      "cell_type": "code",
      "metadata": {
        "colab": {
          "base_uri": "https://localhost:8080/",
          "height": 297
        },
        "id": "0qqvkdAFworW",
        "outputId": "ce8e5a59-e4ec-467b-98b6-e4f2ab1b3c88"
      },
      "source": [
        "sns.boxplot(x=predictions.active, y=predictions.pos)"
      ],
      "execution_count": 19,
      "outputs": [
        {
          "output_type": "execute_result",
          "data": {
            "text/plain": [
              "<matplotlib.axes._subplots.AxesSubplot at 0x7f31ebb49590>"
            ]
          },
          "metadata": {},
          "execution_count": 19
        },
        {
          "output_type": "display_data",
          "data": {
            "image/png": "[encoded data removed]",
            "text/plain": [
              "<Figure size 432x288 with 1 Axes>"
            ]
          },
          "metadata": {
            "needs_background": "light"
          }
        }
      ]
    },
    {
      "cell_type": "markdown",
      "metadata": {
        "id": "A3EJCSWAzBKC"
      },
      "source": [
        "### False negative"
      ]
    },
    {
      "cell_type": "markdown",
      "metadata": {
        "id": "PyRKHFtSxlxG"
      },
      "source": [
        "When building a predictive model it is often important to examine inactive molecules that are predicted as active (**false positives**) as well as active molecules that are predicted as inactive (**false negatives**)."
      ]
    },
    {
      "cell_type": "code",
      "metadata": {
        "colab": {
          "base_uri": "https://localhost:8080/",
          "height": 1000
        },
        "id": "GPYWAtcGx4LF",
        "outputId": "7c27c4cd-9e31-4d10-d17b-2b7c14fd2b82"
      },
      "source": [
        "false_negative_ones = predictions.query('active == 1 & pos < 0.5').copy()\n",
        "# add visual chemical structures\n",
        "PandasTools.AddMoleculeColumnToFrame(false_negative_ones, 'SMILES', 'Mol')\n",
        "false_negative_ones"
      ],
      "execution_count": 20,
      "outputs": [
        {
          "output_type": "execute_result",
          "data": {
            "text/html": [
              "<div>\n",
              "<style scoped>\n",
              "    .dataframe tbody tr th:only-of-type {\n",
              "        vertical-align: middle;\n",
              "    }\n",
              "\n",
              "    .dataframe tbody tr th {\n",
              "        vertical-align: top;\n",
              "    }\n",
              "\n",
              "    .dataframe thead th {\n",
              "        text-align: right;\n",
              "    }\n",
              "</style>\n",
              "<table border=\"1\" class=\"dataframe\">\n",
              "  <thead>\n",
              "    <tr style=\"text-align: right;\">\n",
              "      <th></th>\n",
              "      <th>neg</th>\n",
              "      <th>pos</th>\n",
              "      <th>active</th>\n",
              "      <th>SMILES</th>\n",
              "      <th>Mol</th>\n",
              "    </tr>\n",
              "  </thead>\n",
              "  <tbody>\n",
              "    <tr>\n",
              "      <th>9</th>\n",
              "      <td>0.784932</td>\n",
              "      <td>0.215068</td>\n",
              "      <td>1</td>\n",
              "      <td>CNC(=O)Nc1ccc(cn1)CNc2c(cnn2C)C(=O)Nc3ccc(cc3)...</td>\n",
              "      <td><img data-content=\"rdkit/molecule\" src=\"data:image/png;base64,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\" alt=\"Mol\"/></td>\n",
              "    </tr>\n",
              "    <tr>\n",
              "      <th>56</th>\n",
              "      <td>0.981178</td>\n",
              "      <td>0.018822</td>\n",
              "      <td>1</td>\n",
              "      <td>C[C@@]12[C@@H]([C@@H](CC(O1)n3c4ccccc4c5c3c6n2...</td>\n",
              "      <td><img data-content=\"rdkit/molecule\" src=\"data:image/png;base64,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\" alt=\"Mol\"/></td>\n",
              "    </tr>\n",
              "    <tr>\n",
              "      <th>186</th>\n",
              "      <td>0.530697</td>\n",
              "      <td>0.469303</td>\n",
              "      <td>1</td>\n",
              "      <td>Cc1cnc(nc1c2cc([nH]c2)C(=O)N[C@H](CO)c3ccccc3)...</td>\n",
              "      <td><img data-content=\"rdkit/molecule\" src=\"data:image/png;base64,iVBORw0KGgoAAAANSUhEUgAAAMgAAADICAIAAAAiOjnJAAAABmJLR0QA/wD/AP+gvaeTAAAdGklEQVR4nO2de1zM6f7AP3Mt1SoKldou5E4IlbAu0dqNxJazKERh0ZJDLusQe/bQard12T1Ra8vxi6zL5hDCOXE42HLZraSmEpWUdJ9pamY+vz8e5rQumaZ5Zorn/do/Zsf3+Xw/+9q373y/z/fzfB4OIgKDoWm4uk6A8XbCxGJQgYnFoAITi0EFJhaDCkwsBhWYWAwqMLEYVGBiMajAxGJQgYnFoAITi0EFJhaDCkwsBhWYWAwqMLEYVGBiMajAxGJQgYnFoAITi0EFJhaDCkwsBhWYWAwqMLEYVGBiMajAxGJQgYnFoAITi0EFJhaDCkwsBhWYWAwqMLEYVGBiMajAxGJQgYnFoAITi0EFJhaDCkwsBhWYWAwqMLEYVGBiMajAxGJQgYnFoAITi0EFJhaDCkwsBhWYWAwqMLEYVGBiMajAxGJQga/b05eXl4uek5OTIxKJFi1aNGjQICcnJ90mxmglHO3sCS2XywsKCvLy8jIyMjIzM/Py8vLy8goLCxsaGl440sTERCAQpKWlWVtbayExBiWoi7Vr167Y2FiRSFRVVfXyn3bo0KFnE3r06PHdd9+dPHnS0dHx6tWrBgYGVHNj0IOuWP7+/r///vvt27cBwP5VdOrU6YUhtbW1zs7OmZmZc+bMOXDgAL3cGFShKFZxcbGNjQ0AJCQkODs7W1pavnGISCQqKCiwsrIaMWJEdXV1VFRUUFAQpfQYdEFqfPnllwDg5eWl4vHZ2dmdOnUyMTHJyck5fvw4h8PR09O7ceMGvQwZ9KAllkwme//99wHg9OnTKSkpV65ceeMQhULh6+sLAL17966qqgoJCQEAa2vr0tJSSkky6EFLrNOnTwOAnZ2dXC4fPnw4ABw7duyNo2pqavr16wcAvr6+jY2NH3zwAQBMmDBBJpNRypNBCVpieXl5AcBXX311/fp1AOjWrZtUKlVl4L1794yNjQHg22+/LSkp6d69OwBs2LCBUp5vA8XF+Je/4IYNmJmJmZmYmoqIeOsW/vabDpOiIlZBQQGPxxMKhSUlJQEBAQAQGhqq+vATJ05wOBw+n5+SknL16lWhUMjhcI4ePUoj1beBWbOwshIlEvT2xlOnMD4eEfHoUUxM1GFSVF7p7N+/Xy6XT5s2TSgUxsfHc7ncFj3ceXl5rV69WiaT+fr62tjYhIeHI+KCBQtEIhGNbNs3iMDjgbEx6OvDgAFQWgoJCfDFFxAfr/PENIxMJrOysgKACxcu7Nq1CwA8PDxaGkQul0+aNAkAXF1dpVKpv78/AAwcOLC2tlbjCbd7Zs589mHRIjx6tI1csTQvVmJiIgD06tVLLpf37dsXVLttf5knT57Y2toCQEhISG1t7YABAwDg008/1XjC7ZgzZ/D+fTx0CFetwg0bMDISz53Dw4cREY8fx3/+U4epaV6sjz/+GAB27Nhx+fJlAOjevXtjY6N6of7zn/8IBAI3NzepVJqenq6vr+/i4iIWizWbcHvl2DEUCtHBAcvLdZ3KK9CwWPn5+VwuV19f/8mTJ3PmzAGAjRs3tiZgSkpKQ0MDIkokEmNjYy6Xm5WVpaFk2zMxMcjjIQB+8YWuU3k1Ghbriy++AIA5c+aUlpbq6enxeLwHDx5oJPL+/fsBYNiwYRqJ1r7ZuRM5HATAbdt0ncpr0aRYDQ0N5ubmAHD58uXdu3cDwOTJkzUV3MXFBQD27dunqYDtFElMDHK5CIB/+Yuuc2mO1oolkUjS09NPnDgRERExefJkctuuUCikUmlCQoIqb3JU4ebNmwBgYmJSV1enkYDtlLCwsH5mZtIePXDPHl3n8gaaE+uvBQW7CwsPP35M/lUsl98Tiy9UVMQ+evTl/fvz162ztrbmcDhNJy8sLCzs7Ow0fn/92WefAcDSpUs1G7Z98be//Q0AOBxO7K5dus7lzTRXmixDXNq9OwCsyc39ra7uSWPjHxzS13/48CGPx7O2tiZletbW1tHR0fn5+QEBAfGam6CrqakhhVlEr3eT1atX79ixg8/nx8bGzpo1S9fpqEAz0s3PytpZWJhSUbEwK8spNdU5LW3a778vz87e/uDB/z1+fCkrKysr64U3gHfv3n3vvfcA4LvvvtOU+/v27QOAkSNHaipg+0Iuly9evBgABALBoUOHdJ2OqjQnVtj9++RDrlj8sL5eplCoEpFcqwQCwaVLlzSQIOKwYcMAIDY2ViPR2hdVVVWRkZHGxsYcDufHH3/UdTotoDmx9hQWqhd0xYoVAGBubl5UVKReBCWpqakAYGpqKpFIWhmqPVJZWTlnzpwdO3ZER0frOpeWQaW6QVlKNXLkSDK9qTbk7fXKlSs1lRtDO9Cqx1KWUq1atUrtIFVVVUZGRhwOh822tzso1rz/97//FQqFAHCYvBZ9icbGxtzc3OTk5MjIyKCgIHd3d3t7ez09vW+++YYc8MMPPwDAuHHj6CXZLti3b9/kyZM///xzXSfSAiiKhYikbMbIyCg9PV35ZUREhLe396BBgwwNDV/5oBoSEkKOHDRoEAC0o0chlEoxIgLXrsWTJzUY9dChQ0lJSTU1NRqMSRu6YiHivHnzAKBXr15VVVXkm+nTpxOBuFyuvb29u7t7cHBwVFRUcnJybm6ucv4iOTkZWlLT3CYIC8Nff0VEXLtWt5XBOof6Suj6+no3N7ebN296eXmRRV3nz58vKysjc6qdOnWSSCTKRfdKyOp7S0vLWbNmff3111Qz1CR+fkAW2V66BPfuQWCgrhPSGdSbgujr6x87dszJyemXX34JDw+fMWOGXC6vqKg4dOhQbm5ubm6uSCSqr69/eWC3bt3Cw8OVl7f2gaEhVFaCiQnk54OVlQYDnz9/ftWqVXFxcY6OjhoMCwASiUQgEPD5GjZBS01Bjh8/PmPGDAMDg7q6upf/1NLSsudLkBn8dkZuLnz9NXTqBDIZfPUVlJeDublGAhcXFxcVFTk6OpLnIY3Q2Ni4YMGC9957b//+/W5ubu7u7l5eXn369NFIcC2JpVAozM3N6+vrjYyMevfu/YJDr7uLb3/IZHDrFggEUF8PH38Mjo5w8aKuc3o1Uql05syZv/zyi4GBgVgsJl9yOJwhQ4ZMnjz5o48+cnZ25vF46p9AO7dypBC+X79+2jmdzoiJQQD08cHycuRyUU8P22QhdXV19ZgxYwCgS5cut27devz4cUJCgp+fX9MeLQYGBu7u7pGRkQUFBWqcQktikUJ45QTVW0teHgJgly6oUODgwQiA//qXpmKLxWJvb+/Wx6mqqho1ahQAWFpaZmZmki/PnDlTXl4uk8lSU1O3bdvm5ubG5f5vaaC9vX1wcHBycrLqT+jaEIsUwhsYGFRUVGjhdDrGxgYBMD0dV6xAANy0SYOxHz582MoI5eXlpFuilZXVvXv3yJePHz8mGvXr1y80NDQ5ObmhoaGgoCAqKsrb27vpzW6XLl1EIpEqJ9KGWKQQ3t/fXwvn0j1+fgiAu3fj8eMIgGPH6jqh/1FWVjZkyBAA6NGjx/3npSuIePfu3XHjxgkEAqVAFhYWAQEBR44cqayslMvl5DLm7u5uZGRkYWGhit/UxWpsVNjb9wCAlJQU2udqE0RH/+E2S18fNVeXUV9fn5mZeevWLYVqJUxNKS4uJg1XHBwcXrnCpaqq6ujRowsWLGjayYzP548dO3b79u2kL4uHhwcAxMXFvfF01MU6cQI7d37i6/vOLIIQiRAAu3ZFhULk6xs3evQtDRX+//bbb5aWliNHjgQAU1NTHx+fqKio4uJiVcYWFhaSeYSBAweWlJS88fjc3NyoqChPT089PT0AGDBgAPk+PDwcABYsWPDGCNTFmjjx2S/Du8NRT88pPXpk3b1L6tLCwsJaHzM9Pd3CwgIAbG1tyQeCQCAYN25ceHj477///rqxDx48cHBwAIDhw4eXt3B169OnTw8dOqR8XXvjxg3yS/rGgXTFys5GDgcNDbGykup52hazZ88GgD179hw/fhwAxo8f38qAV69eNTExAQBvb2/yXPbCFYVgZmbm4+MTGxv79OlT5ViRSEQadrq4uLT+4Ukmk5FM3jgHQVesNWsQAFW4cL5V7N27FwB8fX3Ly8u5XG6HDh3q6+vVjnb+/HkygfzJJ5+8XDVZV1eXnJwcHBxM+icSeDyek5NTaGhofHw86Wo+btw4TRVHfPTRRwBw4MCB5g+jKFZ9PZqZIQC+a21Es7OzAaBr164KhYK82lO7/P9f/1L07z8UAGbMmNH8HJJcLr9x48bmzZtHjBihnIIiU+ejRo1Slpa0nu3btwPAwoULmz+MolgJCQiAjo70ztB2IdWzGRkZwcHBALB161Y1gpw9iwYGaGn5IChoZYsaq5SWlh44cGDmzJkGBgZcLleVu3XVIS0ae/bs2fxhGhMrOxvJ36i7d/HePczLQ7EYt27Fd7MR36effgoA69atCwkJEQgEixYtammEn39GgQABcPlybPncwjPIDPupU6fKysp++OGH77//Xs1ATWhsbOzYseMbb7M0JtbatfjoESLi8uUYEYEffohyOYaEoOauwe2J6OhoOzs7AOjWrZvyrUhQUFBCQoIq9zpxcc96yaxYob5V+Hxqes2aNWSxk52dnfqxmkB6KfzjH/9o5hhNtoo8eRISEoD0c/TwgOhoDcZuZ5SXl+fn53M4nDFjxkyfPr1jx455eXl79+719fXt3r373Ln10dFQVPTqsYcPQ0AAyOWwfDl88w38sYdByyBrpf79738PHjzYxMQkPz+/oKBA/XB/DJuSktLcQRpRGBHXrsWLF/HOHZw1CyMi8M4dXLIE5859F69Ya9asAQAul6tcDKh8K+Lm5ubgMA0AyT/29hgUhImJWF+P4eGoUGBFBYaHo56eZjoU1dXV6enp8fn8qqqqKVOmgIbW/V67dg0AHBwcmjmG1k/hnTtYWIimpu+WWAqFYsmSJQDA5/PjSS/Ql7h/v+b779HTEw0MUGnY2LE4aBDGxWFBAW7ZgrdvaywlNzc3ADh9+vSOHTsAICAgoPUxlbdZha9f0qwxsbKykEzWZGTg/ftIbiTu3MGffkK1HonaH3K5PDAwEAD09PQSVWgsK5Nhaipu2oROTrh5My5ejJ99hjdv4pYtmsxqw4YNABAaGkpus+zt7TUS9sMPPwSAgwcPvu4AuhOkOTkoECCHgydOUD2P7mlsbCRPgvr6+qdOnWr5cFy8GB8+xD/9ScNinTt3DgCcnZ1VnzR/HVKpNCMjg3wmPZWCgoJedzDdrXt79oRduwAR5syBjAyqp9IljY2Ns2fPjo+PNzIySkpKInPTLYIsZbCyAmdnDefm5uYmFArT0tLEYvHo0aPhjTfdr0EikXh7e48cOZLMY3Xt2pXP58vl8tcOUE/eFhEQgADYq1dbf2MokUjS0tJa2n1EIpGQ+tiOHTuqPcPe2PiseXZdHZ49q16M10IKIpKSkiIiIkC12oQXqKysJPdqdnZ2eXl5V65cIdvSvO4+ErVT6CeR4LBhCIBeXq2alaFKcnIyKUYAAAsLC7KMNjY2NjU1tRnVxGIxudvo3Lnzr2SpqlpIJLhkCSJiWRn++c9qh3k169evB4C1a9empaWBCpPmL1BWVjZ06FB4Xh545syZDh06AIC/v38zm2dpqeY9JwdNTHDMmNs7d2pg8lfjyOVy8lLPzMyM89LEkaGh4YgRIxYuXBgZGXnhwoWysjIySrkkwczM7ObNm61JQCLBoUNx/XpcuVLzYp09exYAXFxc5HI5WS6h+m3WC+WBx44dI+vPAgICmt+STUtiIeLp0zc5HI4aDdm++w7//ndExLVrqSSGiD/99BP5G9nQ0FBTU3Pt2rW9e/cGBwePGzfO1NT05fsHc3PziRMn9urVi1iVlpbWygSoXrHq6uqEQiGfz6+urt64cWNYWJiKbw8fPnzYu3dveF4eeODAAfJWOzg4+I0lrNoTCxE3bdoEAKampvn5+aocX1+PmZm4eTPOmoWPHuGbXqirSX19PalYIqUgV69eXbFiRUxMTGpqKunSW1lZmZqaGhsbGxwc7O7u3qVLF6KXvb29qampRlosURULEV1dXQHgzJkzqg8RiURkyxlHR8fS0tL9+/cTq0JCQlQpjNaqWHK5nLxmGjFixAslSlKpNCsr6+RJeUQELlmC7u5oY/Osn/natXj7Ni5bRkusyMhIABg8eLBcLkfErVu3Nr04vXC/JZVKZTJZVlZWWFgYAAwfPlxTaZAFiAoFlZWI69atA4DAwEAVj7937x4p5HJ2dq6oqNi1axe5Q9ik8qIjrYqFiE+fPiVvZz09PSMjI5cuXerh4WFvb0/+NtjYNCgnowGQy0VbW1y2DIuLcfduKhU4VVVVZmZmAHDyeeOh69evh4WF+fj49OnT5+WOBsbGxvPmzUPE4uJi8juo+ZwocP78ebIDg7LKtPkaZbJdzbBhw8rLy7/99lti1baWvGbStliIeOXKFR6P17Vr16b/w3g8no2Nzdy5RYsW4Y4deOIEZmY+m8qPi8PycpTJcO5cfPIEmyxb0gCbN28GgLGvWaQlk8lyc3MTExO3bdvm5+fXr18/Ho/n5+eHiAqFghR2Nq0DbsucOnVKWWoBAHp6eu7u7hEREXfv3n354JqamqVLl1ZWVm7ZsgUAOBzO7hYuW9CBWCKRiMvlCoXC4ODgPXv2JCUlZWdnq7LENjMT338fBw1CTW1P8fjxYyMjIwC4fPmyikMqKyuVC2NIX7jWzDJoH2WxvL6+vlKyLl26kMvYC0XxoaGhAMDlcv9Onp5agg7EWrVqFQCoUfsmkeCQIQiA06ZpZj5s5cqV5EdZveGkxVIzk4RtGbFYnJycHBoaSvaUVP5uODk5bdq0KTU1dfXq1QDA5/Obr7t6HdoWSyKRkAf427dvJycnp5KdsVUmJweNjREAd+xobSZ5eXlCoZDL5f6mbus9Uh6jXtlx20GhUNy+fXvbtm1jx45tuhiax+PxeLyYmBj1wmpbLLJ5yYgRIxQKBVnsdvHiRVUGlpXhlCmYkYGJicjhIJ/f2nYb8+fPB4A5c+aoHSE29rGDg2TxYjW3+WyDkMXQgYGB1tbWX3/9dTPFC29E22KRKuyYmJgzZ86Q+VwVV4svX44A2KcPVldjcDBZplH06JGaywTS09N5PJ6enp6KM2qv5MIFBMDRo9UO8DajVbGyssSOjmM6duxYU1Mzbdq0Fj3BSiTo5IQA6OmJUinOnJnWrZvlmDFj1NsX2NvbGwCWLVumxlglBQUIgBYWrYnx1qJVsUhjn1WryoqL68zMugqFwkek6lQ1srPRxAQBMCoqTblBgRp7zV29ehUA3nvvvdLSUkSsqalRo8cGIsrlqK+PAFhdrcbotxztiVVbi8bGyOFgZiZu3Yr6+pIVK1rcf+af/5S7uvrw+fyLFy8qNyhoZvcisVicmpqakJCwbds25R4FPB6Py+Uq5zn79u07b948Mu3eUvr2RQBNVhK/NWhPrB9/RAB0c8OGBrSwUL/ZHXnl0qlTp9zcXLJBgb6+fmpqqlwuLygouHDhQlRU1OrVq729vQcOHEgKPF6Gw+GYmpqmp6enpKSQGR31tmaZMgUB8Oef1fkPebvRnljOzgiAcXHPGpKp3Y5UoVCQOyRHR8fa2lpfX1/iWdMZvxde9o0aNWru3Llbtmw5ePDg9evXHz9+PHPmTPJ+Iz09PTk5mYxdsWJFS5NZuxb7939HF+U2j5bESkt71puzvh4//hgBcPt29aOVlZW9//77c+fOlUgkhYWFQqGwc+fORkZGTk5OPj4+oaGhyn0uXrf3WENDA1kO1bVr17t37545c4a0bdm4cWOLMvHxebY2aevW/9Wqa7ZovZ2iJbGiopDPx+BgRMTsbPz8c3y+07SaKCuKSLntxIkTW7p/nVQqJcXpVlZWeXl5x44dI6+c//rXv6oe5JNPkDxZBgbivHnPvlR+eJehLtaxY3jtGiLizp3YkkdAlVAoFKQSTZXlVi8jFovHjh0LAD169CgqKjpy5AgpstiuwuW0uhrv38fFizEmBs+excBAnDAB16/H9etRE62N2z3UxVq3DmfNQqmUSjXVxYsXAcDGxqb5MtlmqK2tJWtXevXq9ejRo59++onL5XI4nD179rxuSHExBgejkRFOmICLF6NcjvPnsyvWi9Bd/kUIDIRvvqESOSoqCgDmz5+v9h4KhoaGJ0+eHD58eHZ29qRJkzw9PcPDwxExODj48OHDLxxcVgbr10OfPrBzJ9TWQkMD2NsDlwvLl0PfvtCjx7PDlB/eaWibu24dPn2KoaHo4aHhyCUlJUKhUCAQqNjgtRkqKirIQpTBgwc/ffo0MjLS0tKyaaFScXHx+vXlhobPKhAnTsR3pAe02lAXKywMKyqwogKHDMHGRo2VUuHzxbheXl4aiVZaWkqWo7i6utbU1CgfDnJycvz8/AQCwQcfrOLx0M/vHd+HUFW0N49VWIijRqGPj2ZKqeRyOSlxPn36tAbCISJiSUkJ6Vk9fvx4sVj88OHDZcuWkSkuLpc7e/a8W7c0daq3H+2J9eDBs5akLXmcfy2kOMLW1la9VzGvQyQSkVeQZHdqopSPj4/aNVvvLFp9CX3+PPJ4yOViUlJrQ5HJ9y+//FITef2BgoICOzu7oUOH8vn8oKCg1tTVvMtoab9CJZs3Q1gYdO4MqalgZ6dmkKKiIltbWw6H8+DBA3MN7TTZlOrq6pKSEplMRu66GGpAfeveF9i4ES5fhosXYf58xblzsub3CxWLxSKRKCcnRyQSiUSiDRs2kCWUMTExMplsxowZNKwCgI4dO5LGYgy10fYVCwBKS8HDQ1pbO9/VlR8XF0e+VCgU6enpTTXKyckp+mObzsTExClTpsjlcltb28LCwnPnzk2cOFHLyTNURNtXLADo2hW+//7m2LFHRaIGd3d3f39/AOBwOC4uLhKJ5A/J8fm2trZke18HB4f+/fsDwOnTpwsLCx0cHNzd3bWfPENFdCAWALi6uu7ZsycwMDAoKKhv377Dhw/ncDjjx4+Xy+XEIQcHh549e9ra2goEgurqanINi4+PF4lESUlJADB79uyX28Iw2g46+ClUEhgYGB0dbW1tnZaW1qVLF4VCcf/+/bznZGRkZGZmFhUVSaXSFwYKhcKpU6ceOXJEJ2kzVEGXYonF4pEjR965c8fW1tbc3FwkEj158uTlw4RCob29PbmS9ezZs2PHjp9//vnTp08jIiJCQkK0nzZDFXQpFgDk5eXNmjWrtLQ0Pz8fAIyNjQcMGNC/f3/7JjTdWp1w6tSpqVOncrnc8+fPk2b2jLaGjsUiJCUl6enp9ezZ08rKqunm6c2wadOmLVu2dOvWLS0tjcyVM9oUbUIsNVAoFJ6enklJSS4uLikpKc3PhzG0jzbqsWjA5XIPHjxob29/7do10kOB0aZor1cswp07d1xdXSUSSWxsLJkPY7QR2rdYAHDgwAF/f39DQ8Nr164NGDBA1+kwntFefwqV+Pn5LVy4sK6ubvr06VVVVbpOh/GMdn/FAgCpVDp69Ohff/116tSpJ06cYDPybYF2f8UCAD09vZ9//tnMzCwxMZFshc3QOW/DFYtw4cIFDw8PRExKSpo0aZKu03nXeRuuWIQJEyasW7cOn2+zztAtb88VCwAUCsWlS5fI4maGbnmrxGK0Hd6en0JGm4KJxaACE4tBBSYWgwpMLAYVmFgMKjCxGFRgYjGowMRiUIGJxaACE4tBBSYWgwpMLAYVmFgMKjCxGFRgYjGowMRiUIGJxaACE4tBBSYWgwpMLAYVmFgMKjCxGFRgYjGowMRiUIGJxaACE4tBBSYWgwpMLAYVmFgMKjCxGFRgYjGowMRiUIGJxaACE4tBBSYWgwpMLAYVmFgMKjCxGFRgYjGowMRiUIGJxaACE4tBBSYWgwpMLAYVmFgMKjCxGFRgYjGowMRiUIGJxaDC/wPzo5vFIe2pdAAAAkx6VFh0cmRraXRQS0wgcmRraXQgMjAyMS4wMy41AAB4nHu/b+09BiDgAWJGBghQAGJlIG5gZGNIAIkzszloAGlmFjaHDBDNzMgOEYBLoPMxNCAUWoBokJEwGQaIDAeEZmJnAEswMbIpmAAZTIwsEFcwMXFAXMOIxXDCDISxJOmGqOUEhwkjNzCIGJkymJiYE5hZMphYWBNY2TKY2NgV2DkSODgzmDi5Eri4Ezh5FHh4NZh4+BT4+Bn4BViYBAQZ+IUYhIQzmIRFEkREM5hExRLExIH6JRQkJBUkpTKYpKQTpGUymGRkE2TlMpjk5BnYGBO42TOYxIUS5CQTRFjYGNlYWZiZWDnYubk42YRFRMXEhdikpGVk5STFYbHGoPCmkeeAtsG0AyDOsZnuB+R2JIDZnaGTD8gI5oHZpQ83HHiSoQRm730y70D0+Un7QWy9HXEH9lgVgNkhC5QPPN/GDlYjINe5/9LuL2DxdZd271tVIAZm58v32RvrRILZORdX2EfEiILV/z30Yc/ePHswu1uBxyFC3c0OxF555aV9q9BlexB7WnqGg39u4j4Q23TPNIetUUFgcUnFboeqvYIOIHbzyrUOf7JCwOxd9484iL++ADbnWtUFhytCbWB7o+f9c8hk3Q1mJ00WcJyw8hrYzKtHuRxNF7eAzVTJeO5waupOMHtlwZ4Dq5UEbEHsj8WrDjQ1b4O451rpgXrTixD1dwMPfJvtCLa3vqrtgPiiNjBblXnbAYPX9WD23f/HD/x8qQZxZ8f3A78nSILZYgAMbqhFRNLIeQAAAix6VFh0TU9MIHJka2l0IDIwMjEuMDMuNQAAeJydVUuuFDEM3PcpcoGJ/E3sNQMbxENiwR3Yc3/hTtJ5jQTSPLdaM2WlUyqX7eQo5/Pj+fXX77Ifeh5HYSqspcA/X3cvPwkAjvj8QRVd5URSm/OJCtRYhfKp/I/i/g4WrohmEyki5VhCAQhNlo5uORatSl1nbsq931jePqLF2/QFK0qHrC9icO59QHU2yWmJPLT1VS0CzWnBCn1UJpAHTY4FKrdmE6n95e7rLCU8ReDJYmKcZWE0n74ws+XcjR3kMlncEXNaojLmqzLonKtRZGQ03A3UxO81+v46C9fGuNwlAkz5UiRm8Oo1I0xWWipLt+kQ9Z47GYpWoeYzN8asL62i0uo1ActNQLAoKqyJkp47MUuvrnOOsErLdp1X4Aaz0hJtl2Ox2jrz7LrgS9aoV2LUySLinj29zeyaZNa7lg/MtFamcWKeWkiTWjjOpnmXxTSypO9G6o6zd4E0V+m4jyg2z4ki6LlKhy/N+pojd8vN9KNV0nGrxUy37Bw9eu08bthgYff7ifnlVZYwk8bvGQQKW2QGE60g/nQHgdoOAvUdBLLNFsj3iheEKwh0jusKsJwd8r7CF0EglCFqBbpXtGDbQSvn0RpBO06Edl/xHXihrSAQbQWBaCsIRNuDQCS3tGkrCERbQSDaHgQi24EV2h4E4q0gEG8Fgfi9Cn3kvAyh4eMikJHP3kNXFb6V8vntefwBH2Srsej+/DoAAAGJelRYdFNNSUxFUyByZGtpdCAyMDIxLjAzLjUAAHicNZJNasNQDISv0qUNL4+nfwlTKARKV+0BSlfe5wQ9fEcOzcbmszTSjHI/6Xyc2+fJZ//4fX+cdAP8fnz8nNt9e/3aP7/vbx8/2/1r/6/aT3r53W48qUxl3HR6ieQ4bjKJMnzgxYhYgfBxKVWjoIoCsmkcxgMKJuF2VZWbAtEk9bKrKjPDxppLjLLkYsKOBprKlnVNTCVmEBdVuwhHEQ+Zi42eK/BifOtn8HMDz8hETVVGK/tkxftgrJurScwQUwKRKo1LWaMKVtYsSSkHgwVz9/ZCvKzH0VxBLO2liKpzgQdGS/cyRhJhAE2hzIuIIIYmREuk9VNThMYB1SwthEAltqqLkj3bL/AhsE3C3cK8SDFfkfPCvhBh8oomooHkGcngBuMwxOelsC9UbdYnGWPemgr3reI4oPa+cKPRwcYs87xsqRN2qz4M7GE2DszO48jpAQPoEUcC6IGqet9LK59JiHvqtbHhr2Ix9t8/aKyGQvazdSEAAAAASUVORK5CYII=\" alt=\"Mol\"/></td>\n",
              "    </tr>\n",
              "    <tr>\n",
              "      <th>279</th>\n",
              "      <td>0.550919</td>\n",
              "      <td>0.449081</td>\n",
              "      <td>1</td>\n",
              "      <td>c1cc(cc(c1)Cl)c2cn[nH]c2c3cc([nH]c3)C(=O)NCCc4...</td>\n",
              "      <td><img data-content=\"rdkit/molecule\" src=\"data:image/png;base64,iVBORw0KGgoAAAANSUhEUgAAAMgAAADICAIAAAAiOjnJAAAABmJLR0QA/wD/AP+gvaeTAAAa7klEQVR4nO2de1hU1frHvzPDHTVBlAgLMcQEUxA1j3q8gcc00ryg6SNWluSx4hSlqOWPMvXgc8zQvHZ6KswyQfJIYnrQo+YtTVQQUES5ihdARYaLzDDz/v5YOhkJzGXvmOj9PPwxDnu9e238zNrr9u5REBEYRmqULV0BpnXCYjGywGIxssBiMbLAYjGywGIxssBiMbLAYjGywGIxssBiMbLAYjGywGIxssBiMbLAYjGywGIxssBiMbLAYjGywGIxssBiMbLAYjGywGIxssBiMbLAYjGywGIxssBiMbLAYjGywGIxssBiMbLAYjGywGIxssBiMbLAYjGywGIxssBiMbLAYjGywGIxssBiMbLAYjGywGIxssBiMbLAYjGywGIxssBiMbLAYjGywGIxssBiMbLAYjGywGIxssBiMbLAYjGywGIxssBiMbLAYjGywGIxssBiMbLAYjGyIIFYAwciIwMAZs+2PBjTSpBALC8vLFsGvR41NSgrg0ZjeUjmD48EYjk6Ytw4fP45AEyaBHt7uLqib19Mnoz587FqFRITkZaGmpq7x5eW4uWXQYRr17BpE1asuPu+4QXTCrCRJMrUqQgPR3U1HBzQpg1u3UJaGtLSfnWMvT28veHtjeBgZGTgyy8xbBjy8nDhwt0DTp2SpC6MVWCpWDodOnYEgEWL8O672LMHAOrqUFKCvLxf/eTm4vx5nD+P7t3xzDM4cABPPgkAubmYNw8Arl+3sC6MFaEgIkvKv/MO0tOxYgV6927mSJ0Oly8jPx8qFfbtw/TpeOcdBATgwgV88w0ATJt29wXTCrCoxSorw/r1qK2FQtH8wSoVvLzg5YWiIgDw8UFQEHQ6S87PWC8WtViLFmHJEjz7LJKTTSil16OuDgcPYs8eTJ0Kf384OwNAdfXdF0wrwPxRYUUFPvkEAN59F8eP44MPUFpq3CmVcHTEd98hLg5Hj/4iE1vVmjD/VrhhA27fxrBheOophIYiJQUqFd57z9jiok+Wnm72+RmrxsxbYW0tunRBaSn27IGrK/r1Q/v2KCxEu3bGRjhyBIMHIyAAp0+bcX5rIiUFpaUYMQJeXi1dFSvCzFvh119v7tFjR3DwnZEjERsLALNnm2AVgN69oVQiO/sPPlO/eDFu3UL//pg7F9eutXRtrAkynbq6ukcffRRAUlJSbu5lLy+NvT1dvmxynG7dCKDTp82ogtUQFnb3RUoKff55i1bFujCnxdqyZUtxcbG/v//48eNjY2NKStq9/fZOT0+T4wQEAMCZM2ZUgbF2TBZLr9fHxsYCmDt3bmFh4aZNm4D6V17xN+Pcf/3riUGDXsjPX2lGWWuhWzds344rV/D553j66ZaujTVhahOXlJQEoEuXLhqN5rXXXgMQHh5uXmu5c+dOAMOGDTOveAvz8cf03HN05Aht306rVlFeXktXyLowTSy9Xh8YGAhgzZo1N27ccHJyUigU6enp5p378uXLANq3b6/X682L0JL06EEA7dxJP/5I48fTnj0tXSHrwrRb4Z07d3x8fOzt7ceMGePq6pqSkhITE9OrVy/zGktPT89OnTpVVFQUiVWePxDp6Th3Dp06YdQofPkltm/H0aMtXSfrwjSxHB0d79y5U1dXN2rUqMLCwmHDhsXExJh6Sr1ef+HeXpnevXsDSP/DzZOK1fJJk6DVYts2AJg+vWVrZG2Y3HnftGnTwIEDc3NzBwwYkCG2JBsNESUmJvbo0WPQoEG3b98GEBAQAOCMDCNDtVqdlZV1XY69OHo9tmwBgGnTsHs3KisRFAQfH+lP9IfGjNtnVVXV3/72NwAuLi4//fSTkaXS0tKCg4PFSX18fETPbMmSJQB69epVXl5uRk0eSE1NTWxsrIuLi7u7u52dXVxcnFSR73LgAAHk7U16PYWFEUArVkh8ij8+5ohFRHV1dRMmTADQpk2bffv2NX3w2bNnQ0JChFKPPPJIfHy8TqczvOns7AzAzs4uPDw8JyfHvPoI9Hp9QkKCz73Go2vXrgAUCsXq1astCduA0++/r/X0pHnzqKKCHBxIpaKSEgnjtw7MFIuI6uvrX3zxRQBOTk4//PDDA4+5evVqRESEra0tgIceeig2Nra6uvrGjRtRUVH29vYAbGxsJk2aNGrUKIVCIfSaOXOmeXolJCT4+fkJpQYNGnTkyBEi2rBhg1KpBBAdHW32ld6PVqvt2LGjUqG4mJFRlJiod3GhIUMkidzKMF8sItLr9f/4xz+EEImJiff/qrKyMjo6WrRG9vb20dHR5eXlt2/fNrypUqkiIiKKiorE8ZcuXYqMjHRwcBBmhISEHD582MhqNLjJJiQkGOYvdDrdN998I8yeM2eOTqez5HqJ6PvvvwfQu3dvIho9enQbO7t9X3xhYcxWiUViCcTAUKVSfX7fYtnkyZPF//SYMWPOnj1bV1cXGxvr5uYm3nzmmWcyMzN/G+ratWsxMTEPPfSQoeFJTk5uYpbr4sWLYWFhorVzd3ffuHGjRqMRv9Lr9bNmzQoNDa2trf3+++8dHR0BTJ8+XavVWnKx06ZNA7B8+fKrV6+qVCp7e/ubN29aErC1IoFYRCQWeRQKhaGnfOzYsb59++7bt0/0e3x9fYUrgYGBqampTUcrLy+PiYnp0KGDKNKrV6/4+PgGQly/ft1wk23btm1sbKxarb7/gOLiYuHxM888U1NTc+DAgbZt2wKYPHmyQT5TUavVzs7OSqWyqKgoLi4OwNixY80L1eqRRiwiWr9+vejNvP/++4Y3Dx48+NRTTwk/vL29ExISjL8ZqdXquLi4zp07G4rHxcXV1tbW1NTExMS0adNGdNEiIiIuN7KzIi8vT/Tf+/XrV15e/vPPPwtZx4wZU1NTY8Y1fvPNNwCGDh1KRP379wfw7bffmhHH+jGMRq5fNzOCZGIR0ddffy2akOjo6IyMDMNI0MXFJS4urq6uzoyY1dXVq1evfuyxx0QoT09Pg2rBwcEnT55sunhhYWG3bt0A+Pv7l5SUZGVlPfLIIwCGDBly+/ZtUyvz7LPPAli7dm1OTo4YjtTW1ppxUdZPt260fz8RkbnrwJKKRUTffvutcMvGxgaAra3tnDlzrl27ZmFYnU6XnJzcr18/R0dHJyenv/zlL0ePHjWy7LVr18Sik7e396VLlwzNWN++fcvKypotXlNTc+jQobi4uIiIiD59+tjb20+ePHnEiBEAZsyYYdllWSNFRXTpEs2YQVOmUF2d1YhFRN99912HDh3atWt3/6BPEnQ6nb+/P4D//e9/JhW8efPmgAEDADz22GM5OTmFhYXdu3cH4OfnV/KbKaiamprjx49v3Lhx9uzZAwYMcHJyajClLEa1Q4YMOXDggHQX1zJUVdGhQxQXR+HhFBREbdoQQGFh9NJLdPgwLVtmTWJlZWUB6Natm+SRieiVV14BsGrVqlu3bkVGRk6ZMsXIgmq1WkxJdOrU6fTp09evXxerSb6+vnv37k1ISIiJiQkNDfXw8GigkVKp9PPzCw8Pj4uLS01NLSkp2b17t2iPN2zYIMc1ysrNmzf379//8ccfv/jii4GBgcOHrwfo/p+2bWnaNHrpJSKiyEgye3AivVhipmf06NGSRyaiTz75BMDMmTO1Wq2Dg4NCoaioqDCyrFqtHj58OAA3N7eTJ0+WlZX17dtXTJTcb5KdnV1AQMALL7ywcuXKvXv33rhx47ehPvvsM3Gj37t3r6TXJyNRUVFev0n3GDx45qOPUmgovfsuJSZSbi6JwdWXXxIRlZfTypW0YQM115V9ANKLtXr1agBz5syRPDIRHTp0CECfPn2IqE+fPgB+/PFH44vX1dVNmjTJ3d1dTO6Lz4Crq2twcHBUVFR8fPyZM2eMnIyYN2+eKHv+/HnzruX3JCwsrEePHuLD0Lt37xkzZnz00Uf79u0zfGwuX6aUFFq2jBoMsbZuJYA8PKiw0LQzSi/WW2+9BeBf//qX5JGJqLKyUqlU2tvbazSamTNnAjB1HVCj0WRlZYnXw4YNAxAbG2tGTerr68eOHQtg0qRtVj5Fmp+fr1AoHB0djx49KsbmWq02IyPjq6++mjt37tNPa9zcfrkVNsht0elo3DgC6IknyKTLlF6s5557DsC2bdskjywQa8zp6emrVq0C8PLLL5sX5/Dhw2IqxIx5B0FVVdX06ccBGj684Qfdqli+fDmA559/noh0Ol3//v3FQq2gW7cMgFxcKDiY5s17wBZrtZoCAgigIUPozh1jTyq9WGJsn5aWJnlkwaRJkwDEx8cfPHgQQFBQkHlxQkNDAbz33nuWVKasjHx87o6kLF6HlAsxTNmxY4f4pxhZe3p6jhkzZuHChTt2FFy61EyEkhLq3JkAev55MnIbufRiiZUT+VbQPvzwQwBRUVEVFRUKhULcFk0NcurUKYVC0aZNG8v3gWVnU/v2BNDChRZGkoXMzEwAHTp0MPyVMjMzjZnAa8CxY+ToSB4e9atWGbXYILFYZWVlANq3by9t2PsRPe4RI0YQkbe3N4CMjAxTg7z66nwAr732miRV2r+f7OwIoPXrTS5bWlqamppq9vJls7z33nsAIiIiLA+1bVvNI4/0VyqVxvRzJBbrxIkTAAIDA6UNez/FxcViOEZE48ePB/DVV1+ZFCEvjxwdaejQC/n5BVLVatWqu7tKm+6F6HS68+fPb926dcGCBWPGjBHrS2J5So7hjl6vF8sM+8UCjcWsXLkSgIODg9ju1gQSi7V161YAEyZMkDZsA8S2haKiovfffx/AO++8Y1LxWbMIIHM7/Y0SG0tHjtDrrxMRXbpEYn/a9euUnEwxMRQWRn5+1K6dWizVG3Bzc+vTp49SqVSpVDt37pS2SseOHQPQuXNnyzeiGXjjjTfEvTU3N7eJwyQWS+yfefvtt6UN2wCxvJ2cnPyf//wHQEhIiPFlCwvJ1pZUKrp4UfqKnT1LffpQUhKdOUNRUeTrS0rlr+a1lUoaMuTpyZMnL1u2LCUlxbAvQ2zCcXR0PHbsmIT1iYyMNOOD1zT19fXjxo0D8MQTTzTRk5ZYrFdffRXAmjVrpA3bgLlz5wJYvHhxfn4+gAEDBhhfNiqKADJ6Kcg0zp6lFSto6lQ6fJgWLyaAOnWi0FCKiaGEBMrMpCZ2GYqW4OGHHy4okOYGrdVqO3XqJMcIvaKiQgwtP/3008aOkViskSNHAkhJSZE2bAM2b94MYOLEiXq93qThZ2kpOTuTQkFnzshSMSFWejqNH08rVvyyQmIMhpbAz8/v1q1blldmz549IprloX7LF198YWNjExUV1dgBEn+XjmhCRIdRPgzZiAqFwsXFxfiCGzaguhojRzb/jGdL6NULjz8OAD4+UBr9B1apVJs3bw4ICMjOzp4yZUp9fb2F1diyZQuAKVOmWBjHwE8//TR48GCx23HPnj319fXu7u6NHi2hxfX19ba2tgqFQu7tb2IFWqlUDh069OWXX16yZMnmzZuPHDly5cqVxopkZxMRXblCs2bR9u1332z8cDMpKqLjx4mIysvJvD01JSUl4tljZq8oCGpqatq1a6dQKC5K15ecM2cOgPnz51dWVjo5OYkt2o0dLJlYJSUlb731lkqlkmTWsVlyc3MNqRn3Exz8UY8eNGYMvfYarVhBSUmUlkY3b5KbG4lu8YwZNHXq3SCGF1Jx+DCJ7mVuLi1aZGaQU6dOiY3XlkxAJCYmAujfv7/ZERqg0WjEHzw9PX3Tpk0AhjSZ9ybBV54cPHhw3bp127dv12q1tra2VVVVQUFBiYmJ/fr1szx4Y/j4+GRkZOTn5+fn5xcUFOTfo7ra99w5nDv3q4PHj8eoUYiLw+bNAKDTIT8fwC9f7yMhhw5BqURZmfkRAgMDExISxo4dGx0d3bVrV5EYbCriPjh16lTz6/FrUlNTy8vLe/bs2atXr/nz5wMQCUuNYrbC5eXlsbGxhrRjR0fHiIiIXbt2DR48GICNjU1MTIyE0ydGotHQxYu0ezetXUtRUTRuHPXsSQsX0ksvUWoqxcXRjBk0diytXUtr15J0n+e7HD5MH3xAeXm0f7/5LZZALLGbOgFRWFi4Y8eOBQsW2NraKpVKw3RGfHx8VVWVJfWZPn06gKVLl167ds3GxsbOzq7pYZM5Yp05cyY8PNyQXCryZwwDGa1WGx0dLXL9nn32WStJuxNbIl99laZOtfZboYFmJyCqq6vFfvzw8HA/Pz87OztDe9GxY0eVSrV7924i+uCDDwCMGzfO7M95VVWVs7OzQqEoKChYs2aN+J9tuogJYmk0mvj4+KCgIFF1lUoVFhaWmpraoLpiU+WOHTvEeM3Ly+vEiRNmXIy0iC2RxcW0cSNt3Hj3TcMLqSgvvzvvqlbTgxJyTUOn0zWYgFCr1UeOHFm7du2sWbP69u1r+GwbaN++/dChQyMjI8XmJScnp+PHj1++fNnT0xPAK6+8Yl5NxI114MCBRDRw4EAAW7ZsabqIUWIVFhZGR0cbxpZubm7R0dEPHG6IrcOiocrNzRWPv3JwcJD+kS9/DgxTkV26dPH19W2wHKRQKB5//PGJEycuXrx4x44d+fn5hoJ6vV7cvDw8PIqKik6ePClyQFaY9WAcsaXxk08+ycvLE7tCqqurmy7SjFh1dXUvvPCC4ZPh7++/du3aysrKxo7ftWuXSArt3r17RkZGbW1tRESEKBseHt5sbZjfUlBQ0L9//549e4obXGhoaHR0dHx8fGZmZtN7Iurq6sQef39//4qKiqSkJKVSqVQqk5KSTKpAeXm5ra2tjY1NaWnp0qVLAUyfPr3ZUs2ItX79+m7duomOebPZoYLr16+LfBh7e3vRUMXHx4skqh49ehi2BTMm8fPPP587d66+vt6kUuXl5SJfd/To0VqtVmwlNXVAsHHjRgBPP/00EYmN87t27Wq2VDNiibwOU1dGtVptTEyMaLcnTJhQUVGRnZ0t6tS2bdutW7eaFI2xhIsXL3bs2BHArFmziOjvf/970wOC3yIyA0SmCQB3d3djHqzSlFgajUalUqlUKvO2oSUnJ4v+u7gtVlZWhoWFidtiRESEeRn3jBn8+OOPYpN7XFycRqMR67nGr0hu27Zt4sSJFRUVIjHJyN2RTYl18eJFMawjopUrV/7zn/9sYs3kgRj6746Ojv/+97/1ev2SJUtEHt8bb7xhUijGErZs2aJQKJRK5fbt22/fvv3kk08CGDZsmPEfb51OJ9aamt3iJ2hKrNTUVADDhw+ne5uAzXjWnlqtNsz/ijWKEydOuLq6hoaGNvaUGEYOFi1aJD7hx48fz8nJ6dChg4uLy7lz54wsLlJXvL29jXwof1Niffrpp7iXdmxjY6NUKu8Yn/7za+Lj4z08PAx7DkXCxQOTjBmZ0Ov14eHhYgKisLDw8OHDzQ6kiouLd+7cuXTp0rCwMPGkYOOfuNmUWAsWLADw4Ycfis0wnTt3NvYiHoQhfe93SLhgHkiDCYgGv9VoNKdPn46Pj4+KigoODnZ1dW0w+7py5Urj03uaWoTOy8sTrZ/hRRMHN0u7e19nKDTt0qWLJdEYMxCPih04cGBWVtbzzz+/fPnynJycrKystLS0tLS0q1ev3n+wQqHw8/MLCgry9/cXLwypH8bQlFjCAG9v73PnzsFisX4bVpJojEl06NDhu+++GzRo0H//+9/du3ff/ysxjx8YGBhwD5NMakDzYnXt2nXXrl1gsVoL/v7+27ZtO3v27NKlSwMDA0VrFBQU5OvrKx6aJwmNiqVWq8vKypycnNzd3aVVgcVqcUJCQkaMGPH6669LaFIDGhWroKAAgJeXl0KhkHYnO4tlDYh1QxnjN/YL0WEXMknSeTfw+yRcMC1Lo2IZ2pWamprS0lJ7e3tLunIGdDpdYWGhQqHgUWHrpnmxxGqll5eXJC3nlStXNBqNu7u7+KoIprXSaB/LcPvz9fW9dOlSZWWlJOfjDtafhEbFEga4urra2NhI2B9isf4kNHp3W7ZsmZ2d3bRp08QjFaWCe+5/EhoVq3fv3gEBAVeuXAkJCVm3bp150W/evLl8+XJfX1/xHAFwi/XnoYl1xPs3go4dO9akRK6cnJw333yzffv24iyGhHGRdWjqV0swfziaz9IxbAT18fE509xTWmprazdu3GhIEbOxsREpYnq9vrKyct26dSJ5fM+ePRLVn7FSjEr/EokiABwcHDY2koxXUFBwf4qYp6dnbGys+KaazMzMOXPmiD1YABQKhbOz8+bNm6W8DsbKMDZhtba2VjweDg9K5Jo/f74hDbdPnz6fffZZdXV1dXX1/a2XQqEIDQ3dtWuXSPAVcSzM+2asFtNS7Ddt2iTyHhskcq1Zs8bZ2TkyMjI7O5vufcGzoYPl6uoaHR194cIFw/FJSUni+3k5Iay1YvKzG7Kzs8WXxd+fyFVVVVVaWqrVahMSEkJCQgxz9AEBAfHx8Q98XFZGRsYTTzwBwN3T/YfrP1h6HYyVYc5DQSorKw3fJS4SuUpLS2NiYsQDAnDvyTPNJriq1epp06YN2jkIaYgojLijN3NDPWOFmPkYI71ev2zZMpHI5e3tLcZ6ADw8PBYtWlRcXGx8qPVl6+1P2SMNg3MGF2tMKMhYMxY90e/EiRNdunQZOXJkY0+eMZLs2my/LD+kod2Zdgk3EyypEmMlKIjIkvnVsrKy+vr6GzduiKdWmM0t3a0ZBTN23t6phPKjzh+92elN8X6Nvuay9rKvva8lwZnfH0vFkpZPyz+dVzLvoO/BzTc31+nrNKSZ3XF2ckXy/3n8X0tXjTENCZ5BKiERbhHjHhp3vu68i8ploedCAPma/JauFGMOMu56Ng93W/diTXF3h+4tXRHGIqxOLAA9HXserz7e0rVgLMIaxQpwDPCw9ZhbMjeyOFKr1z5s+3BL14gxGevqvDOtBmtssZhWAIvFyAKLxcgCi8XIAovFyAKLxcgCi8XIAovFyAKLxcgCi8XIAovFyAKLxcgCi8XIAovFyAKLxcgCi8XIAovFyAKLxcgCi8XIAovFyAKLxcgCi8XIAovFyAKLxcgCi8XIAovFyAKLxcgCi8XIAovFyAKLxcgCi8XIAovFyAKLxcgCi8XIAovFyAKLxcgCi8XIAovFyAKLxcgCi8XIAovFyAKLxcgCi8XIAovFyAKLxcgCi8XIAovFyAKLxcgCi8XIAovFyAKLxcgCi8XIAovFyAKLxcgCi8XIAovFyML/A3lJ2Zbg9k48AAACDXpUWHRyZGtpdFBLTCByZGtpdCAyMDIxLjAzLjUAAHice79v7T0GIOABYkYGCJABYnkgbmBkc8gA0szMyAwNEIMFt4AggwLILAxxdogAM7uDBYhmZEaowGEkkkqYDANEhgNCM7EzgCWYgBIJQAYTE5zGNBOdAXMPXICbgTGDiZEpgYk5g4mZJYGFNYOJhY2BiV2BnSOBgzODiZMrgYs7gZtHgYc3gZcvg4mPP4FfIIFPUEFQSINJUFhBWIRBRJRBVIxBTDyDSVwiQUIyg0lSKkFKOoOJlSGBmz2DSYAng0laLEEEaCwrC9DVrBzs3FycrLw8Avx8bOISklLSYuKwSGCQmTzj6oHDZ+UPgDjnss8feGfcuB/ElpdZfCBwwt19IHb2p8oDl36vBov/Um0+sNXQFKx+Zen6A4sko8BsRTarA1Nq88HsqPdzDjQzt9uD2Gcv7D/wsITVAcQ+YL36wF29GDB7i3P5geCr/mC2yfTUA2c/PQKrt7jLd2DWvAlg9p2wrP1Pet+A2TcuGdn5+geC2UnP3+9bNoMT7J6CxF/7/6VsALvTROiy/VKGHrCaPRmcDuZ9CmDzU1k1HBa6WOwFu9mg2eHCthw7sH/zFjk8DM8Am3N0zkWHx0sVwexXtz447Jn6CGI+i4DjXpv9YHbkH3FHS/5FYHPcYjkcry+E+HFaz0OHDRM9wGwxABdelesJh0G7AAAB7HpUWHRNT0wgcmRraXQgMjAyMS4wMy41AAB4nJ1Wzc4TMQy89yn8AkT+SxyfKSfEh8SBd0DiyPsLZ5Nae4BDXa3UsbIezdiO2wesz4/n119/ID/8fDyAJwgB4D8fd4efjIiPeP3TaMPUF+KmPhYCbHGK8Bn+R3F/DotOulgocl1rLL2hGy+ETYWtxiLNsevWIiqjxqKhZequyxTiqiOdqxNLlaLNGguHozE2iynjneX3G44c9fIRPepa1NKb+2bhhrNLlUU6XT6iLor3efl4p9NzSN8srFZm6XPnUjMTrDnixsKyWYi9WF1sTv1omXGlSiyRQaZn7idZ8QbEHRxzbNTFeq261LwP2iyi2muOqA11PLPrUqtuTCyp4UYd532/fH+HZfA19+EItWOpLrD2ix8FXN0vEBvTBp7JwWKnYbTerzsYLEOotr3BWudhu+dmWHTkkUG0WdQVqyzqfqYOzYv3aIYjnq+N6ffqvtFpiymZp6Y2pXQDwkDUU3cQSDLY6ATx1TMINO6BXTQnZ2YQyPM1h7WVdxBoNeIEBJQKApG8CAJRKghEqSAQpYJAZPeTVBBo/XXgV7B+3/ZJIKYMCJgzYOBUEIhTQSBOBYE4FQTiVBBodfbYHhdVmoM8CcmUtY4EfgXfAL58PB9/AaGfeMMzA9n4AAABZHpUWHRTTUlMRVMgcmRraXQgMjAyMS4wMy41AAB4nCVROY7kMBD7yoRtQBbqUh0wJupko50HDDZyuugX9OOHpUksgSWySPrr8/n4+3zefN/36+ajL4/zlv4ors//ByZ63K/v159/ctx98Mf7IZMtSIbMRek5Lp5uWTV4UmnEuGS6LNVx0iSzytBxGYblNWiKMruPa00Kp/2qKFbxuHyuRVoNubIptGIu8ZBx8owgrnHVJGLKRqyMrBGrYt77olgJ6gmewAxMrXJtIbI0hoFItbZEk8NcBVByOIPVXnhpJnhpiS3XKXAssoCwVGLdqXMhUyMRigTXaYhgInubBUyeSFfB2Z5MJUw2rzDeWdTUZROpshPLzO5l7ytyDPEctM4HMetpQ0aRaOr06WEZTTT0qhuyZNQIeaL65VWZGH4VJWrciC6GJoSM1LepdGBAxKJJPGv5LlPNluxSzHO1JZpLsXaN4/0Di+h3oSCia9AAAAAASUVORK5CYII=\" alt=\"Mol\"/></td>\n",
              "    </tr>\n",
              "    <tr>\n",
              "      <th>361</th>\n",
              "      <td>0.538143</td>\n",
              "      <td>0.461857</td>\n",
              "      <td>1</td>\n",
              "      <td>c1ccc(cc1)CNC(=O)c2cc(c[nH]2)c3c(cn[nH]3)c4ccc...</td>\n",
              "      <td><img data-content=\"rdkit/molecule\" src=\"data:image/png;base64,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\" alt=\"Mol\"/></td>\n",
              "    </tr>\n",
              "    <tr>\n",
              "      <th>436</th>\n",
              "      <td>0.626198</td>\n",
              "      <td>0.373802</td>\n",
              "      <td>1</td>\n",
              "      <td>CCCCNC(=O)N1Cc2c(n[nH]c2NC(=O)[C@@H](C)c3ccc4c...</td>\n",
              "      <td><img data-content=\"rdkit/molecule\" src=\"data:image/png;base64,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\" alt=\"Mol\"/></td>\n",
              "    </tr>\n",
              "  </tbody>\n",
              "</table>\n",
              "</div>"
            ],
            "text/plain": [
              "          neg  ...                                                Mol\n",
              "9    0.784932  ...  <img data-content=\"rdkit/molecule\" src=\"data:i...\n",
              "56   0.981178  ...  <img data-content=\"rdkit/molecule\" src=\"data:i...\n",
              "186  0.530697  ...  <img data-content=\"rdkit/molecule\" src=\"data:i...\n",
              "279  0.550919  ...  <img data-content=\"rdkit/molecule\" src=\"data:i...\n",
              "361  0.538143  ...  <img data-content=\"rdkit/molecule\" src=\"data:i...\n",
              "436  0.626198  ...  <img data-content=\"rdkit/molecule\" src=\"data:i...\n",
              "\n",
              "[6 rows x 5 columns]"
            ]
          },
          "metadata": {},
          "execution_count": 20
        }
      ]
    },
    {
      "cell_type": "markdown",
      "metadata": {
        "id": "2siT0fW3zJnn"
      },
      "source": [
        "It is often informative to look at the chemical structures of the false negative molecules and compare these with the chemical structures of the true positive molecules. This may provide some insight into the reasons that molecules were not predicted correctly."
      ]
    },
    {
      "cell_type": "markdown",
      "metadata": {
        "id": "yOWzwJigzTtK"
      },
      "source": [
        "## False positive\n",
        "\n",
        "Molecules which are inactive but received a positive score > 0.5"
      ]
    },
    {
      "cell_type": "code",
      "metadata": {
        "colab": {
          "base_uri": "https://localhost:8080/",
          "height": 49
        },
        "id": "rzvQcd4Xze1x",
        "outputId": "fb9f15a3-1421-431a-e86a-7f3a23f820f9"
      },
      "source": [
        "false_positive_ones = predictions.query('active == 0 & pos >= 0.5').copy()\n",
        "# add visual chemical structures\n",
        "PandasTools.AddMoleculeColumnToFrame(false_positive_ones, 'SMILES', 'Mol')\n",
        "false_positive_ones"
      ],
      "execution_count": 21,
      "outputs": [
        {
          "output_type": "execute_result",
          "data": {
            "text/html": [
              "<div>\n",
              "<style scoped>\n",
              "    .dataframe tbody tr th:only-of-type {\n",
              "        vertical-align: middle;\n",
              "    }\n",
              "\n",
              "    .dataframe tbody tr th {\n",
              "        vertical-align: top;\n",
              "    }\n",
              "\n",
              "    .dataframe thead th {\n",
              "        text-align: right;\n",
              "    }\n",
              "</style>\n",
              "<table border=\"1\" class=\"dataframe\">\n",
              "  <thead>\n",
              "    <tr style=\"text-align: right;\">\n",
              "      <th></th>\n",
              "      <th>neg</th>\n",
              "      <th>pos</th>\n",
              "      <th>active</th>\n",
              "      <th>SMILES</th>\n",
              "      <th>Mol</th>\n",
              "    </tr>\n",
              "  </thead>\n",
              "  <tbody>\n",
              "  </tbody>\n",
              "</table>\n",
              "</div>"
            ],
            "text/plain": [
              "Empty DataFrame\n",
              "Columns: [neg, pos, active, SMILES, Mol]\n",
              "Index: []"
            ]
          },
          "metadata": {},
          "execution_count": 21
        }
      ]
    },
    {
      "cell_type": "markdown",
      "metadata": {
        "id": "SbNs0cY_7P30"
      },
      "source": [
        "## Generating the final model\n",
        "Note: The method to save the model is not implemented yet for 2.6.0.dev version of DeepChem."
      ]
    },
    {
      "cell_type": "code",
      "metadata": {
        "id": "ryZwy-7f7WIo"
      },
      "source": [
        "model = generate_graph_conv_model()\n",
        "# Training using the full dataset (10 epochs)\n",
        "model.fit(dataset=dataset, nb_epoch=10)"
      ],
      "execution_count": null,
      "outputs": []
    },
    {
      "cell_type": "code",
      "metadata": {
        "colab": {
          "base_uri": "https://localhost:8080/"
        },
        "id": "oOqCeLmJ8n8O",
        "outputId": "b21d28b0-a414-475c-c353-fe845f6bd02e"
      },
      "source": [
        "# evaluating performance\n",
        "final_coef = model.evaluate(dataset, metrics, transformers)\n",
        "final_coef"
      ],
      "execution_count": 23,
      "outputs": [
        {
          "output_type": "execute_result",
          "data": {
            "text/plain": [
              "{'mean-matthews_corrcoef': 0.9127227719188966}"
            ]
          },
          "metadata": {},
          "execution_count": 23
        }
      ]
    },
    {
      "cell_type": "markdown",
      "metadata": {
        "id": "02C0DcYzquR_"
      },
      "source": [
        "## Saving model checkpoint on Google Drive"
      ]
    },
    {
      "cell_type": "code",
      "metadata": {
        "colab": {
          "base_uri": "https://localhost:8080/"
        },
        "id": "anribaq5qx6t",
        "outputId": "2dff1e14-81fe-425a-9cc6-c98508de2e9a"
      },
      "source": [
        "from google.colab import drive\n",
        "\n",
        "drive.mount('/content/gdrive')"
      ],
      "execution_count": 26,
      "outputs": [
        {
          "output_type": "stream",
          "name": "stdout",
          "text": [
            "Mounted at /content/gdrive\n"
          ]
        }
      ]
    },
    {
      "cell_type": "markdown",
      "metadata": {
        "id": "n4pnHvmes1qn"
      },
      "source": [
        "Copying model folder to my Google Drive"
      ]
    },
    {
      "cell_type": "code",
      "metadata": {
        "id": "_x3j5Z7tscgZ"
      },
      "source": [
        "# copying model folder to my Google Drive\n",
        "!mkdir 'gdrive/MyDrive/DLLifeSciences'"
      ],
      "execution_count": 27,
      "outputs": []
    },
    {
      "cell_type": "code",
      "metadata": {
        "id": "llNFFSgCs8zL"
      },
      "source": [
        "!cp -R models/ 'gdrive/MyDrive/DLLifeSciences'"
      ],
      "execution_count": 28,
      "outputs": []
    },
    {
      "cell_type": "code",
      "metadata": {
        "id": "-VQaDz_A1Fjs"
      },
      "source": [
        "# We can use the saved model later with the restore() method\n",
        "# model.restore() # not implemente method"
      ],
      "execution_count": 25,
      "outputs": []
    }
  ]
}