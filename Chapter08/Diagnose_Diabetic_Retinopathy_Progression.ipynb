{
  "nbformat": 4,
  "nbformat_minor": 0,
  "metadata": {
    "colab": {
      "name": "Diagnose_Diabetic_Retinopathy_Progression.ipynb",
      "provenance": [],
      "collapsed_sections": [],
      "authorship_tag": "ABX9TyMcdAFfbUfvU6Yfge7El/Ua",
      "include_colab_link": true
    },
    "kernelspec": {
      "name": "python3",
      "display_name": "Python 3"
    },
    "language_info": {
      "name": "python"
    },
    "widgets": {
      "application/vnd.jupyter.widget-state+json": {
        "9f74e7a22fdd4a478586e52a22de7aa6": {
          "model_module": "@jupyter-widgets/controls",
          "model_name": "HBoxModel",
          "state": {
            "_view_name": "HBoxView",
            "_dom_classes": [],
            "_model_name": "HBoxModel",
            "_view_module": "@jupyter-widgets/controls",
            "_model_module_version": "1.5.0",
            "_view_count": null,
            "_view_module_version": "1.5.0",
            "box_style": "",
            "layout": "IPY_MODEL_264af4f38c444528abde049195fe3444",
            "_model_module": "@jupyter-widgets/controls",
            "children": [
              "IPY_MODEL_2622644306f44ae79039e9eb43acf3bc",
              "IPY_MODEL_dc63bdaf0e464610a9b9e94cec7794e2"
            ]
          }
        },
        "264af4f38c444528abde049195fe3444": {
          "model_module": "@jupyter-widgets/base",
          "model_name": "LayoutModel",
          "state": {
            "_view_name": "LayoutView",
            "grid_template_rows": null,
            "right": null,
            "justify_content": null,
            "_view_module": "@jupyter-widgets/base",
            "overflow": null,
            "_model_module_version": "1.2.0",
            "_view_count": null,
            "flex_flow": null,
            "width": null,
            "min_width": null,
            "border": null,
            "align_items": null,
            "bottom": null,
            "_model_module": "@jupyter-widgets/base",
            "top": null,
            "grid_column": null,
            "overflow_y": null,
            "overflow_x": null,
            "grid_auto_flow": null,
            "grid_area": null,
            "grid_template_columns": null,
            "flex": null,
            "_model_name": "LayoutModel",
            "justify_items": null,
            "grid_row": null,
            "max_height": null,
            "align_content": null,
            "visibility": null,
            "align_self": null,
            "height": null,
            "min_height": null,
            "padding": null,
            "grid_auto_rows": null,
            "grid_gap": null,
            "max_width": null,
            "order": null,
            "_view_module_version": "1.2.0",
            "grid_template_areas": null,
            "object_position": null,
            "object_fit": null,
            "grid_auto_columns": null,
            "margin": null,
            "display": null,
            "left": null
          }
        },
        "2622644306f44ae79039e9eb43acf3bc": {
          "model_module": "@jupyter-widgets/controls",
          "model_name": "FloatProgressModel",
          "state": {
            "_view_name": "ProgressView",
            "style": "IPY_MODEL_96a3f78cb5c743d585a60db310463814",
            "_dom_classes": [],
            "description": "100%",
            "_model_name": "FloatProgressModel",
            "bar_style": "success",
            "max": 3662,
            "_view_module": "@jupyter-widgets/controls",
            "_model_module_version": "1.5.0",
            "value": 3662,
            "_view_count": null,
            "_view_module_version": "1.5.0",
            "orientation": "horizontal",
            "min": 0,
            "description_tooltip": null,
            "_model_module": "@jupyter-widgets/controls",
            "layout": "IPY_MODEL_a9627850960d4b7a8a9f89bd90c551e4"
          }
        },
        "dc63bdaf0e464610a9b9e94cec7794e2": {
          "model_module": "@jupyter-widgets/controls",
          "model_name": "HTMLModel",
          "state": {
            "_view_name": "HTMLView",
            "style": "IPY_MODEL_820df7071b3142f19c8ab3f6409e799a",
            "_dom_classes": [],
            "description": "",
            "_model_name": "HTMLModel",
            "placeholder": "​",
            "_view_module": "@jupyter-widgets/controls",
            "_model_module_version": "1.5.0",
            "value": " 3662/3662 [06:33&lt;00:00,  9.31it/s]",
            "_view_count": null,
            "_view_module_version": "1.5.0",
            "description_tooltip": null,
            "_model_module": "@jupyter-widgets/controls",
            "layout": "IPY_MODEL_a2922e7262424c70a8e36d341b8d0062"
          }
        },
        "96a3f78cb5c743d585a60db310463814": {
          "model_module": "@jupyter-widgets/controls",
          "model_name": "ProgressStyleModel",
          "state": {
            "_view_name": "StyleView",
            "_model_name": "ProgressStyleModel",
            "description_width": "initial",
            "_view_module": "@jupyter-widgets/base",
            "_model_module_version": "1.5.0",
            "_view_count": null,
            "_view_module_version": "1.2.0",
            "bar_color": null,
            "_model_module": "@jupyter-widgets/controls"
          }
        },
        "a9627850960d4b7a8a9f89bd90c551e4": {
          "model_module": "@jupyter-widgets/base",
          "model_name": "LayoutModel",
          "state": {
            "_view_name": "LayoutView",
            "grid_template_rows": null,
            "right": null,
            "justify_content": null,
            "_view_module": "@jupyter-widgets/base",
            "overflow": null,
            "_model_module_version": "1.2.0",
            "_view_count": null,
            "flex_flow": null,
            "width": null,
            "min_width": null,
            "border": null,
            "align_items": null,
            "bottom": null,
            "_model_module": "@jupyter-widgets/base",
            "top": null,
            "grid_column": null,
            "overflow_y": null,
            "overflow_x": null,
            "grid_auto_flow": null,
            "grid_area": null,
            "grid_template_columns": null,
            "flex": null,
            "_model_name": "LayoutModel",
            "justify_items": null,
            "grid_row": null,
            "max_height": null,
            "align_content": null,
            "visibility": null,
            "align_self": null,
            "height": null,
            "min_height": null,
            "padding": null,
            "grid_auto_rows": null,
            "grid_gap": null,
            "max_width": null,
            "order": null,
            "_view_module_version": "1.2.0",
            "grid_template_areas": null,
            "object_position": null,
            "object_fit": null,
            "grid_auto_columns": null,
            "margin": null,
            "display": null,
            "left": null
          }
        },
        "820df7071b3142f19c8ab3f6409e799a": {
          "model_module": "@jupyter-widgets/controls",
          "model_name": "DescriptionStyleModel",
          "state": {
            "_view_name": "StyleView",
            "_model_name": "DescriptionStyleModel",
            "description_width": "",
            "_view_module": "@jupyter-widgets/base",
            "_model_module_version": "1.5.0",
            "_view_count": null,
            "_view_module_version": "1.2.0",
            "_model_module": "@jupyter-widgets/controls"
          }
        },
        "a2922e7262424c70a8e36d341b8d0062": {
          "model_module": "@jupyter-widgets/base",
          "model_name": "LayoutModel",
          "state": {
            "_view_name": "LayoutView",
            "grid_template_rows": null,
            "right": null,
            "justify_content": null,
            "_view_module": "@jupyter-widgets/base",
            "overflow": null,
            "_model_module_version": "1.2.0",
            "_view_count": null,
            "flex_flow": null,
            "width": null,
            "min_width": null,
            "border": null,
            "align_items": null,
            "bottom": null,
            "_model_module": "@jupyter-widgets/base",
            "top": null,
            "grid_column": null,
            "overflow_y": null,
            "overflow_x": null,
            "grid_auto_flow": null,
            "grid_area": null,
            "grid_template_columns": null,
            "flex": null,
            "_model_name": "LayoutModel",
            "justify_items": null,
            "grid_row": null,
            "max_height": null,
            "align_content": null,
            "visibility": null,
            "align_self": null,
            "height": null,
            "min_height": null,
            "padding": null,
            "grid_auto_rows": null,
            "grid_gap": null,
            "max_width": null,
            "order": null,
            "_view_module_version": "1.2.0",
            "grid_template_areas": null,
            "object_position": null,
            "object_fit": null,
            "grid_auto_columns": null,
            "margin": null,
            "display": null,
            "left": null
          }
        },
        "a0bb6d4a5e5846e0988b175adf587a21": {
          "model_module": "@jupyter-widgets/controls",
          "model_name": "HBoxModel",
          "state": {
            "_view_name": "HBoxView",
            "_dom_classes": [],
            "_model_name": "HBoxModel",
            "_view_module": "@jupyter-widgets/controls",
            "_model_module_version": "1.5.0",
            "_view_count": null,
            "_view_module_version": "1.5.0",
            "box_style": "",
            "layout": "IPY_MODEL_f3c36144adb74c53a46a1522badc6672",
            "_model_module": "@jupyter-widgets/controls",
            "children": [
              "IPY_MODEL_b5220114541f4c27a9ad19cc528d3698",
              "IPY_MODEL_ffa0ecab89664d9197592d6ad25570e4"
            ]
          }
        },
        "f3c36144adb74c53a46a1522badc6672": {
          "model_module": "@jupyter-widgets/base",
          "model_name": "LayoutModel",
          "state": {
            "_view_name": "LayoutView",
            "grid_template_rows": null,
            "right": null,
            "justify_content": null,
            "_view_module": "@jupyter-widgets/base",
            "overflow": null,
            "_model_module_version": "1.2.0",
            "_view_count": null,
            "flex_flow": null,
            "width": null,
            "min_width": null,
            "border": null,
            "align_items": null,
            "bottom": null,
            "_model_module": "@jupyter-widgets/base",
            "top": null,
            "grid_column": null,
            "overflow_y": null,
            "overflow_x": null,
            "grid_auto_flow": null,
            "grid_area": null,
            "grid_template_columns": null,
            "flex": null,
            "_model_name": "LayoutModel",
            "justify_items": null,
            "grid_row": null,
            "max_height": null,
            "align_content": null,
            "visibility": null,
            "align_self": null,
            "height": null,
            "min_height": null,
            "padding": null,
            "grid_auto_rows": null,
            "grid_gap": null,
            "max_width": null,
            "order": null,
            "_view_module_version": "1.2.0",
            "grid_template_areas": null,
            "object_position": null,
            "object_fit": null,
            "grid_auto_columns": null,
            "margin": null,
            "display": null,
            "left": null
          }
        },
        "b5220114541f4c27a9ad19cc528d3698": {
          "model_module": "@jupyter-widgets/controls",
          "model_name": "FloatProgressModel",
          "state": {
            "_view_name": "ProgressView",
            "style": "IPY_MODEL_cd105e894bc54d609eb26e5d75a1217c",
            "_dom_classes": [],
            "description": "100%",
            "_model_name": "FloatProgressModel",
            "bar_style": "success",
            "max": 3,
            "_view_module": "@jupyter-widgets/controls",
            "_model_module_version": "1.5.0",
            "value": 3,
            "_view_count": null,
            "_view_module_version": "1.5.0",
            "orientation": "horizontal",
            "min": 0,
            "description_tooltip": null,
            "_model_module": "@jupyter-widgets/controls",
            "layout": "IPY_MODEL_7c66f17380b14c4d80eb7884223434a7"
          }
        },
        "ffa0ecab89664d9197592d6ad25570e4": {
          "model_module": "@jupyter-widgets/controls",
          "model_name": "HTMLModel",
          "state": {
            "_view_name": "HTMLView",
            "style": "IPY_MODEL_e4928b989175423994fa171073eae8c5",
            "_dom_classes": [],
            "description": "",
            "_model_name": "HTMLModel",
            "placeholder": "​",
            "_view_module": "@jupyter-widgets/controls",
            "_model_module_version": "1.5.0",
            "value": " 3/3 [09:13&lt;00:00, 184.64s/it]",
            "_view_count": null,
            "_view_module_version": "1.5.0",
            "description_tooltip": null,
            "_model_module": "@jupyter-widgets/controls",
            "layout": "IPY_MODEL_e87f12a84fd54b22a2ef935cfaa4d451"
          }
        },
        "cd105e894bc54d609eb26e5d75a1217c": {
          "model_module": "@jupyter-widgets/controls",
          "model_name": "ProgressStyleModel",
          "state": {
            "_view_name": "StyleView",
            "_model_name": "ProgressStyleModel",
            "description_width": "initial",
            "_view_module": "@jupyter-widgets/base",
            "_model_module_version": "1.5.0",
            "_view_count": null,
            "_view_module_version": "1.2.0",
            "bar_color": null,
            "_model_module": "@jupyter-widgets/controls"
          }
        },
        "7c66f17380b14c4d80eb7884223434a7": {
          "model_module": "@jupyter-widgets/base",
          "model_name": "LayoutModel",
          "state": {
            "_view_name": "LayoutView",
            "grid_template_rows": null,
            "right": null,
            "justify_content": null,
            "_view_module": "@jupyter-widgets/base",
            "overflow": null,
            "_model_module_version": "1.2.0",
            "_view_count": null,
            "flex_flow": null,
            "width": null,
            "min_width": null,
            "border": null,
            "align_items": null,
            "bottom": null,
            "_model_module": "@jupyter-widgets/base",
            "top": null,
            "grid_column": null,
            "overflow_y": null,
            "overflow_x": null,
            "grid_auto_flow": null,
            "grid_area": null,
            "grid_template_columns": null,
            "flex": null,
            "_model_name": "LayoutModel",
            "justify_items": null,
            "grid_row": null,
            "max_height": null,
            "align_content": null,
            "visibility": null,
            "align_self": null,
            "height": null,
            "min_height": null,
            "padding": null,
            "grid_auto_rows": null,
            "grid_gap": null,
            "max_width": null,
            "order": null,
            "_view_module_version": "1.2.0",
            "grid_template_areas": null,
            "object_position": null,
            "object_fit": null,
            "grid_auto_columns": null,
            "margin": null,
            "display": null,
            "left": null
          }
        },
        "e4928b989175423994fa171073eae8c5": {
          "model_module": "@jupyter-widgets/controls",
          "model_name": "DescriptionStyleModel",
          "state": {
            "_view_name": "StyleView",
            "_model_name": "DescriptionStyleModel",
            "description_width": "",
            "_view_module": "@jupyter-widgets/base",
            "_model_module_version": "1.5.0",
            "_view_count": null,
            "_view_module_version": "1.2.0",
            "_model_module": "@jupyter-widgets/controls"
          }
        },
        "e87f12a84fd54b22a2ef935cfaa4d451": {
          "model_module": "@jupyter-widgets/base",
          "model_name": "LayoutModel",
          "state": {
            "_view_name": "LayoutView",
            "grid_template_rows": null,
            "right": null,
            "justify_content": null,
            "_view_module": "@jupyter-widgets/base",
            "overflow": null,
            "_model_module_version": "1.2.0",
            "_view_count": null,
            "flex_flow": null,
            "width": null,
            "min_width": null,
            "border": null,
            "align_items": null,
            "bottom": null,
            "_model_module": "@jupyter-widgets/base",
            "top": null,
            "grid_column": null,
            "overflow_y": null,
            "overflow_x": null,
            "grid_auto_flow": null,
            "grid_area": null,
            "grid_template_columns": null,
            "flex": null,
            "_model_name": "LayoutModel",
            "justify_items": null,
            "grid_row": null,
            "max_height": null,
            "align_content": null,
            "visibility": null,
            "align_self": null,
            "height": null,
            "min_height": null,
            "padding": null,
            "grid_auto_rows": null,
            "grid_gap": null,
            "max_width": null,
            "order": null,
            "_view_module_version": "1.2.0",
            "grid_template_areas": null,
            "object_position": null,
            "object_fit": null,
            "grid_auto_columns": null,
            "margin": null,
            "display": null,
            "left": null
          }
        }
      }
    },
    "accelerator": "GPU"
  },
  "cells": [
    {
      "cell_type": "markdown",
      "metadata": {
        "id": "view-in-github",
        "colab_type": "text"
      },
      "source": [
        "<a href=\"https://colab.research.google.com/github/dbetm/DeepLearningLifeSciences/blob/main/Chapter08/Diagnose_Diabetic_Retinopathy_Progression.ipynb\" target=\"_parent\"><img src=\"https://colab.research.google.com/assets/colab-badge.svg\" alt=\"Open In Colab\"/></a>"
      ]
    },
    {
      "cell_type": "markdown",
      "metadata": {
        "id": "c_kxulAqjzkW"
      },
      "source": [
        "**Problem:** Diagnose diabetic retinopahty patient progression (classification over images of patient's fundus).\n",
        "\n",
        "Diabetic retinopathy is a condition in which diabetes damages the health of the eyes. It is a major cause of blindness.\n",
        "\n",
        "**Dataset:** [APTOS 2019 Blindness Detection](https://www.kaggle.com/c/aptos2019-blindness-detection/data)\n",
        "\n",
        "High-resolution retina images taken under a variety of imaging conditions.\n",
        "\n",
        "A clinician has rated the presence of diabetic retinopathy in each image on a scale of 0 to 4, according to the following scale:\n",
        "\n",
        "* 0 - No DR\n",
        "* 1 - Mild\n",
        "* 2 - Moderate\n",
        "* 3 - Severe\n",
        "* 4 - Proliferative DR\n",
        "\n",
        "**Dataset split:**\n",
        "- train images: 3662 images (65.5%)\n",
        "- test images: 1928 images (34.5%)\n",
        "\n",
        "9.52 GB\n",
        "\n",
        "\n",
        "**Important:** The book suggests another dataset -> [Kaggle competition - Diabetic Retinopathy Detection](https://www.kaggle.com/c/diabetic-retinopathy-detection/overview) but the data is very large to host on Colab."
      ]
    },
    {
      "cell_type": "markdown",
      "metadata": {
        "id": "_jFYH3jdvvfK"
      },
      "source": [
        "![retina.jpg](data:image/jpeg;base64,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)"
      ]
    },
    {
      "cell_type": "markdown",
      "metadata": {
        "id": "Oa7IZHfSmL3E"
      },
      "source": [
        "## Setup"
      ]
    },
    {
      "cell_type": "markdown",
      "metadata": {
        "id": "zjBLRKqyIaZZ"
      },
      "source": [
        "**Important**: Activate GPU (runtime type)."
      ]
    },
    {
      "cell_type": "markdown",
      "metadata": {
        "id": "4t1sqamatibM"
      },
      "source": [
        "### Kaggle\n",
        "\n",
        "You need to setup API CLI of Kaggle in order to get the dataset."
      ]
    },
    {
      "cell_type": "markdown",
      "metadata": {
        "id": "GP8SMjckmevH"
      },
      "source": [
        "Please follow the steps below to download and use kaggle data within Google Colab:\n",
        "\n",
        "1.   You need to create an account on [Kaggle](https://www.kaggle.com/) (if you don't have one yet).\n",
        "2.  Go to your profile > *Account* (tab) > *API* (section): *Create New API Token*, this will download a .json file (`kaggle.json`) on your computer or device with your API KEY (please don't share with any one).\n",
        "\n"
      ]
    },
    {
      "cell_type": "code",
      "metadata": {
        "id": "vLWrxT_rmUdZ"
      },
      "source": [
        "# Install CLI Kaggle\n",
        "!pip install -U -q kaggle==1.5.8"
      ],
      "execution_count": 1,
      "outputs": []
    },
    {
      "cell_type": "code",
      "metadata": {
        "id": "8ztTAqcnnfdv"
      },
      "source": [
        "from google.colab import files\n",
        "# Load your API KEY file\n",
        "files.upload() # please select your kaggle.json\n",
        "\n",
        "# Important: Please, clear the output, after completation."
      ],
      "execution_count": null,
      "outputs": []
    },
    {
      "cell_type": "code",
      "metadata": {
        "id": "wX63Lt-tn4WR"
      },
      "source": [
        "!mkdir -p ~/.kaggle\n",
        "!cp kaggle.json ~/.kaggle/\n",
        "!chmod 600 ~/.kaggle/kaggle.json"
      ],
      "execution_count": 3,
      "outputs": []
    },
    {
      "cell_type": "markdown",
      "metadata": {
        "id": "x2ET99z-veYc"
      },
      "source": [
        "### DeepChem"
      ]
    },
    {
      "cell_type": "code",
      "metadata": {
        "id": "FGTjnvtJvg-2",
        "colab": {
          "base_uri": "https://localhost:8080/",
          "height": 219
        },
        "outputId": "986314c6-3305-46ab-c2d1-8e1655a98822"
      },
      "source": [
        "!pip install --pre deepchem\n",
        "import deepchem as dc\n",
        "dc.__version__"
      ],
      "execution_count": 4,
      "outputs": [
        {
          "output_type": "stream",
          "text": [
            "Requirement already satisfied: deepchem in /usr/local/lib/python3.7/dist-packages (2.6.0.dev20210725040533)\n",
            "Requirement already satisfied: pandas in /usr/local/lib/python3.7/dist-packages (from deepchem) (1.1.5)\n",
            "Requirement already satisfied: numpy in /usr/local/lib/python3.7/dist-packages (from deepchem) (1.19.5)\n",
            "Requirement already satisfied: joblib in /usr/local/lib/python3.7/dist-packages (from deepchem) (1.0.1)\n",
            "Requirement already satisfied: scikit-learn in /usr/local/lib/python3.7/dist-packages (from deepchem) (0.22.2.post1)\n",
            "Requirement already satisfied: scipy in /usr/local/lib/python3.7/dist-packages (from deepchem) (1.4.1)\n",
            "Requirement already satisfied: pytz>=2017.2 in /usr/local/lib/python3.7/dist-packages (from pandas->deepchem) (2018.9)\n",
            "Requirement already satisfied: python-dateutil>=2.7.3 in /usr/local/lib/python3.7/dist-packages (from pandas->deepchem) (2.8.1)\n",
            "Requirement already satisfied: six>=1.5 in /usr/local/lib/python3.7/dist-packages (from python-dateutil>=2.7.3->pandas->deepchem) (1.15.0)\n"
          ],
          "name": "stdout"
        },
        {
          "output_type": "execute_result",
          "data": {
            "application/vnd.google.colaboratory.intrinsic+json": {
              "type": "string"
            },
            "text/plain": [
              "'2.6.0.dev'"
            ]
          },
          "metadata": {
            "tags": []
          },
          "execution_count": 4
        }
      ]
    },
    {
      "cell_type": "markdown",
      "metadata": {
        "id": "qu2qTDSlwQDr"
      },
      "source": [
        "## Dataset"
      ]
    },
    {
      "cell_type": "code",
      "metadata": {
        "id": "lsxyhuUK0z3-"
      },
      "source": [
        "# Download data from Kaggle (~3 minutes, Google internet speed)\n",
        "!mkdir dataset\n",
        "!kaggle competitions download aptos2019-blindness-detection -p dataset"
      ],
      "execution_count": null,
      "outputs": []
    },
    {
      "cell_type": "code",
      "metadata": {
        "id": "WB6wkHguq_b0"
      },
      "source": [
        "# Uncompress the dataset\n",
        "!unzip \"dataset/aptos2019-blindness-detection.zip\" -d \"dataset\""
      ],
      "execution_count": null,
      "outputs": []
    },
    {
      "cell_type": "code",
      "metadata": {
        "id": "tA27t4X5ZjPt"
      },
      "source": [
        "# Remove .zip file (dataset)\n",
        "!rm dataset/aptos2019-blindness-detection.zip"
      ],
      "execution_count": 7,
      "outputs": []
    },
    {
      "cell_type": "code",
      "metadata": {
        "id": "gCqk8yQ4onaH",
        "colab": {
          "base_uri": "https://localhost:8080/"
        },
        "outputId": "b9a84b4d-d266-45f6-d4a9-627386e76914"
      },
      "source": [
        "# Reading csv files for test and train dataset.\n",
        "# They are both contain names of the images (id_code).\n",
        "\n",
        "import pandas as pd\n",
        "\n",
        "test_data = pd.read_csv(r'dataset/test.csv')\n",
        "train_data = pd.read_csv(r'dataset/train.csv')\n",
        "\n",
        "print(train_data)"
      ],
      "execution_count": 8,
      "outputs": [
        {
          "output_type": "stream",
          "text": [
            "           id_code  diagnosis\n",
            "0     000c1434d8d7          2\n",
            "1     001639a390f0          4\n",
            "2     0024cdab0c1e          1\n",
            "3     002c21358ce6          0\n",
            "4     005b95c28852          0\n",
            "...            ...        ...\n",
            "3657  ffa47f6a7bf4          2\n",
            "3658  ffc04fed30e6          0\n",
            "3659  ffcf7b45f213          2\n",
            "3660  ffd97f8cd5aa          0\n",
            "3661  ffec9a18a3ce          2\n",
            "\n",
            "[3662 rows x 2 columns]\n"
          ],
          "name": "stdout"
        }
      ]
    },
    {
      "cell_type": "markdown",
      "metadata": {
        "id": "h3erWGJZQS2X"
      },
      "source": [
        "### Resizing images\n",
        "fx - width, fy - height) "
      ]
    },
    {
      "cell_type": "code",
      "metadata": {
        "id": "TnBWJXOyQjcR"
      },
      "source": [
        "import cv2"
      ],
      "execution_count": 9,
      "outputs": []
    },
    {
      "cell_type": "code",
      "metadata": {
        "id": "TtmSsJrLQeQh"
      },
      "source": [
        "def resize_image(image_path, img_size=(256, 256)):\n",
        "  image = cv2.imread(image_path)\n",
        "\n",
        "  image = cv2.resize(image, (int(img_size[0]), int(img_size[1])))\n",
        "\n",
        "  cv2.imwrite(image_path, image)\n"
      ],
      "execution_count": 10,
      "outputs": []
    },
    {
      "cell_type": "markdown",
      "metadata": {
        "id": "bioWz12Y3AWS"
      },
      "source": [
        "### Creating DeepChem dataset"
      ]
    },
    {
      "cell_type": "code",
      "metadata": {
        "id": "ijtXKlmfeNJT"
      },
      "source": [
        "import os\n",
        "\n",
        "import numpy as np\n",
        "\n",
        "data_dir = os.path.join('dataset', 'train_images')"
      ],
      "execution_count": 11,
      "outputs": []
    },
    {
      "cell_type": "code",
      "metadata": {
        "id": "WYBeCLCF3tvR"
      },
      "source": [
        "images_full_paths = ['{}/{}.png'.format(data_dir, id) for id in train_data['id_code']]\n",
        "data_mapping = dict(zip(*np.transpose(np.array(train_data))))\n",
        "labels = np.array(train_data['diagnosis']).reshape((-1, 1))"
      ],
      "execution_count": 12,
      "outputs": []
    },
    {
      "cell_type": "code",
      "metadata": {
        "id": "BGv30AQ_A_u2"
      },
      "source": [
        "print(images_full_paths[:20])\n",
        "print(labels[:20])"
      ],
      "execution_count": null,
      "outputs": []
    },
    {
      "cell_type": "code",
      "metadata": {
        "colab": {
          "base_uri": "https://localhost:8080/",
          "height": 67,
          "referenced_widgets": [
            "9f74e7a22fdd4a478586e52a22de7aa6",
            "264af4f38c444528abde049195fe3444",
            "2622644306f44ae79039e9eb43acf3bc",
            "dc63bdaf0e464610a9b9e94cec7794e2",
            "96a3f78cb5c743d585a60db310463814",
            "a9627850960d4b7a8a9f89bd90c551e4",
            "820df7071b3142f19c8ab3f6409e799a",
            "a2922e7262424c70a8e36d341b8d0062"
          ]
        },
        "id": "DM94AL9eRaQZ",
        "outputId": "9af11fda-9163-40f6-e1f1-66e7b7f09b66"
      },
      "source": [
        "# resize all images\n",
        "from tqdm.notebook import tqdm\n",
        "\n",
        "\n",
        "for image_path in tqdm(images_full_paths):\n",
        "  resize_image(image_path, img_size=(335, 256))"
      ],
      "execution_count": 14,
      "outputs": [
        {
          "output_type": "display_data",
          "data": {
            "application/vnd.jupyter.widget-view+json": {
              "model_id": "9f74e7a22fdd4a478586e52a22de7aa6",
              "version_minor": 0,
              "version_major": 2
            },
            "text/plain": [
              "HBox(children=(FloatProgress(value=0.0, max=3662.0), HTML(value='')))"
            ]
          },
          "metadata": {
            "tags": []
          }
        },
        {
          "output_type": "stream",
          "text": [
            "\n"
          ],
          "name": "stdout"
        }
      ]
    },
    {
      "cell_type": "code",
      "metadata": {
        "colab": {
          "base_uri": "https://localhost:8080/"
        },
        "id": "9f5afiG7BtoI",
        "outputId": "647f7804-a6a0-4407-9a03-bc13e3ab0d4a"
      },
      "source": [
        "# classes and num of instances per class\n",
        "classes, counts = np.unique(list(data_mapping.values()), return_counts=True)\n",
        "print(classes, counts) # unbalanced data per class, so we need to define weights"
      ],
      "execution_count": 15,
      "outputs": [
        {
          "output_type": "stream",
          "text": [
            "[0 1 2 3 4] [1805  370  999  193  295]\n"
          ],
          "name": "stdout"
        }
      ]
    },
    {
      "cell_type": "code",
      "metadata": {
        "colab": {
          "base_uri": "https://localhost:8080/"
        },
        "id": "6mwsjyHxCxmo",
        "outputId": "18025159-d0cf-4d56-f761-74e79bdd7e67"
      },
      "source": [
        "# We seek to make it up the classes with less data giving a larger weight\n",
        "weight_ratio = dict(zip(classes, np.max(counts) / counts.astype(float)))\n",
        "print('Weight ratios: {}'.format(weight_ratio))\n",
        "\n",
        "# Define weight for each label in labels array\n",
        "weights = np.array([weight_ratio[label[0]] for label in labels]).reshape((-1, 1))\n",
        "print(weights[:3])"
      ],
      "execution_count": 16,
      "outputs": [
        {
          "output_type": "stream",
          "text": [
            "Weight ratios: {0: 1.0, 1: 4.878378378378378, 2: 1.8068068068068068, 3: 9.352331606217616, 4: 6.11864406779661}\n",
            "[[1.80680681]\n",
            " [6.11864407]\n",
            " [4.87837838]]\n"
          ],
          "name": "stdout"
        }
      ]
    },
    {
      "cell_type": "code",
      "metadata": {
        "id": "N7A3xdZCFYNj"
      },
      "source": [
        "# Create DeepChem dataset\n",
        "dataset = dc.data.ImageDataset(X=images_full_paths, y=labels, w=weights)\n",
        "# Split\n",
        "splitter = dc.splits.RandomSplitter()\n",
        "train_set, valid_set, test_set = splitter.train_valid_test_split(\n",
        "  dataset=dataset,\n",
        "  frac_train=0.80,\n",
        "  frac_valid=0.1,\n",
        "  frac_test=0.1\n",
        ")"
      ],
      "execution_count": 18,
      "outputs": []
    },
    {
      "cell_type": "code",
      "metadata": {
        "colab": {
          "base_uri": "https://localhost:8080/"
        },
        "id": "8CcFE5CpIInH",
        "outputId": "e40403d1-61e8-4bee-d29d-c12d17608147"
      },
      "source": [
        "print(\"Train dataset - num instances: \", len(train_set))\n",
        "print(\"Valid dataset - num instances: \", len(valid_set))"
      ],
      "execution_count": 19,
      "outputs": [
        {
          "output_type": "stream",
          "text": [
            "Train dataset - num instances:  2929\n",
            "Valid dataset - num instances:  366\n"
          ],
          "name": "stdout"
        }
      ]
    },
    {
      "cell_type": "markdown",
      "metadata": {
        "id": "TCqLE72vJD9r"
      },
      "source": [
        "## Model\n",
        "We are going to use defined model (convolutional neural network) by [book's repository](https://github.com/deepchem/DeepLearningLifeSciences). "
      ]
    },
    {
      "cell_type": "code",
      "metadata": {
        "id": "6iVnzL6jJQf4"
      },
      "source": [
        "import requests\n",
        "\n",
        "url = 'https://raw.githubusercontent.com/dbetm/DeepLearningLifeSciences/main/08_Medicine/model.py'\n",
        "answer = requests.get(url)\n",
        "\n",
        "with open('model.py', 'w') as f:\n",
        "  f.write(answer.text)"
      ],
      "execution_count": 20,
      "outputs": []
    },
    {
      "cell_type": "code",
      "metadata": {
        "id": "SPVljHeNK0hV"
      },
      "source": [
        "from model import DRModel, DRAccuracy, ConfusionMatrix, QuadWeightedKappa"
      ],
      "execution_count": 21,
      "outputs": []
    },
    {
      "cell_type": "code",
      "metadata": {
        "id": "T9RSeV68Llk1"
      },
      "source": [
        "# Create model\n",
        "image_dims = (256, 335, 3)\n",
        "\n",
        "model = DRModel(\n",
        "  n_tasks=1,\n",
        "  image_dims=image_dims,\n",
        "  n_init_kernel=32,\n",
        "  n_classes=len(classes),\n",
        "  augment=False,\n",
        "  batch_size=64,\n",
        "  learning_rate=1e-4\n",
        ")"
      ],
      "execution_count": 22,
      "outputs": []
    },
    {
      "cell_type": "code",
      "metadata": {
        "id": "gkQkjLZQxa0J"
      },
      "source": [
        "# Metrics,\n",
        "metrics = [\n",
        "  # accuracy - percent of labels which are correct\n",
        "  dc.metrics.Metric(DRAccuracy, mode='classification', classification_handling_mode='direct'),\n",
        "  # this coefficient is used to measure inter-rater reliability for qualitative items.\n",
        "  # https://www.kaggle.com/aroraaman/quadratic-kappa-metric-explained-in-5-simple-steps\n",
        "  dc.metrics.Metric(QuadWeightedKappa, mode='classification', classification_handling_mode='direct')\n",
        "]"
      ],
      "execution_count": 23,
      "outputs": []
    },
    {
      "cell_type": "code",
      "metadata": {
        "colab": {
          "base_uri": "https://localhost:8080/",
          "height": 285,
          "referenced_widgets": [
            "a0bb6d4a5e5846e0988b175adf587a21",
            "f3c36144adb74c53a46a1522badc6672",
            "b5220114541f4c27a9ad19cc528d3698",
            "ffa0ecab89664d9197592d6ad25570e4",
            "cd105e894bc54d609eb26e5d75a1217c",
            "7c66f17380b14c4d80eb7884223434a7",
            "e4928b989175423994fa171073eae8c5",
            "e87f12a84fd54b22a2ef935cfaa4d451"
          ]
        },
        "id": "oMlVNITWwmdf",
        "outputId": "52f95ccc-345b-4fa4-ab67-f609327e3c8e"
      },
      "source": [
        "from tqdm.notebook import trange\n",
        "\n",
        "# fit (~10 minutes)\n",
        "num_classes = len(classes)\n",
        "num_epochs = 30\n",
        "\n",
        "for x in trange(num_epochs // 10):\n",
        "  model.fit(train_set, nb_epoch=10)\n",
        "  print('About to start train metrics evaluation')\n",
        "  print(model.evaluate(train_set, metrics, n_classes=num_classes))\n",
        "\n",
        "  print('About to start valid metrics evaluation')\n",
        "  print(model.evaluate(valid_set, metrics, n_classes=num_classes))\n"
      ],
      "execution_count": 30,
      "outputs": [
        {
          "output_type": "display_data",
          "data": {
            "application/vnd.jupyter.widget-view+json": {
              "model_id": "a0bb6d4a5e5846e0988b175adf587a21",
              "version_minor": 0,
              "version_major": 2
            },
            "text/plain": [
              "HBox(children=(FloatProgress(value=0.0, max=3.0), HTML(value='')))"
            ]
          },
          "metadata": {
            "tags": []
          }
        },
        {
          "output_type": "stream",
          "text": [
            "About to start train metrics evaluation\n",
            "{'DRAccuracy': 0.9300102424035507, 'QuadWeightedKappa': 0.9379595719817064}\n",
            "About to start valid metrics evaluation\n",
            "{'DRAccuracy': 0.7103825136612022, 'QuadWeightedKappa': 0.7148919697773445}\n",
            "About to start train metrics evaluation\n",
            "{'DRAccuracy': 0.9887333560942301, 'QuadWeightedKappa': 0.9906565329616677}\n",
            "About to start valid metrics evaluation\n",
            "{'DRAccuracy': 0.680327868852459, 'QuadWeightedKappa': 0.73247537565605}\n",
            "About to start train metrics evaluation\n",
            "{'DRAccuracy': 0.9931717309662, 'QuadWeightedKappa': 0.995966612252424}\n",
            "About to start valid metrics evaluation\n",
            "{'DRAccuracy': 0.7240437158469946, 'QuadWeightedKappa': 0.6868220451735094}\n",
            "\n"
          ],
          "name": "stdout"
        }
      ]
    },
    {
      "cell_type": "markdown",
      "metadata": {
        "id": "EPU3OJS3xJ2g"
      },
      "source": [
        "## Performance\n",
        "Evaluate with test and validation dataset."
      ]
    },
    {
      "cell_type": "markdown",
      "metadata": {
        "id": "dwmzJCNA2wdF"
      },
      "source": [
        "### Evaluation"
      ]
    },
    {
      "cell_type": "code",
      "metadata": {
        "colab": {
          "base_uri": "https://localhost:8080/"
        },
        "id": "3L6DPntS2yCb",
        "outputId": "a9b5ff12-caa8-483c-9704-7d181564e02c"
      },
      "source": [
        "print('About to start train metrics evaluation')\n",
        "print(model.evaluate(train_set, metrics, n_classes=num_classes))\n",
        "\n",
        "print('About to start valid metrics evaluation')\n",
        "print(model.evaluate(valid_set, metrics, n_classes=num_classes))\n",
        "\n",
        "print('About to start test metrics evaluation')\n",
        "print(model.evaluate(test_set, metrics, n_classes=num_classes))"
      ],
      "execution_count": 31,
      "outputs": [
        {
          "output_type": "stream",
          "text": [
            "About to start train metrics evaluation\n",
            "{'DRAccuracy': 0.9931717309662, 'QuadWeightedKappa': 0.995966612252424}\n",
            "About to start valid metrics evaluation\n",
            "{'DRAccuracy': 0.7240437158469946, 'QuadWeightedKappa': 0.6868220451735094}\n",
            "About to start test metrics evaluation\n",
            "{'DRAccuracy': 0.7057220708446866, 'QuadWeightedKappa': 0.6150543811372722}\n"
          ],
          "name": "stdout"
        }
      ]
    },
    {
      "cell_type": "markdown",
      "metadata": {
        "id": "fVZFry9gpUib"
      },
      "source": [
        "**Note:** In order to get a better result, you can train with more epochs and make tunning."
      ]
    }
  ]
}