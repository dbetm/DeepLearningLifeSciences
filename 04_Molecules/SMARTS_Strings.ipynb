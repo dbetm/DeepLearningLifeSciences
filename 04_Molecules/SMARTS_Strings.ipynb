{
  "nbformat": 4,
  "nbformat_minor": 0,
  "metadata": {
    "colab": {
      "name": "SMARTS Strings.ipynb",
      "provenance": [],
      "authorship_tag": "ABX9TyPAVW8NjWmttuE6oOCTEY52",
      "include_colab_link": true
    },
    "kernelspec": {
      "name": "python3",
      "display_name": "Python 3"
    },
    "language_info": {
      "name": "python"
    }
  },
  "cells": [
    {
      "cell_type": "markdown",
      "metadata": {
        "id": "view-in-github",
        "colab_type": "text"
      },
      "source": [
        "<a href=\"https://colab.research.google.com/github/dbetm/DeepLearningLifeSciences/blob/main/04_Molecules/SMARTS_Strings.ipynb\" target=\"_parent\"><img src=\"https://colab.research.google.com/assets/colab-badge.svg\" alt=\"Open In Colab\"/></a>"
      ]
    },
    {
      "cell_type": "markdown",
      "metadata": {
        "id": "6JPJsS3yl1DM"
      },
      "source": [
        "In chemiinformatics, we have challenges when we want to determine whether atoms in a molecule match a particular pattern.\n",
        "\n",
        "SMARTS is an extension of the SMILES (Simplified molecular-input line-entry system) language.\n",
        "\n",
        "One can think of SMARTS patterns as similar to regular\n",
        "expressions used for searching text."
      ]
    },
    {
      "cell_type": "code",
      "metadata": {
        "colab": {
          "base_uri": "https://localhost:8080/",
          "height": 619
        },
        "id": "QbKsRFHAlqzs",
        "outputId": "e5752b48-ced7-4d78-8eb5-f3423696f2eb"
      },
      "source": [
        "# Set up\n",
        "!pip install --pre deepchem\n",
        "import deepchem\n",
        "deepchem.__version__"
      ],
      "execution_count": null,
      "outputs": [
        {
          "output_type": "stream",
          "text": [
            "  % Total    % Received % Xferd  Average Speed   Time    Time     Time  Current\n",
            "                                 Dload  Upload   Total   Spent    Left  Speed\n",
            "100  3501  100  3501    0     0  18822      0 --:--:-- --:--:-- --:--:-- 18822\n"
          ],
          "name": "stdout"
        },
        {
          "output_type": "stream",
          "text": [
            "add /root/miniconda/lib/python3.7/site-packages to PYTHONPATH\n",
            "python version: 3.7.10\n",
            "fetching installer from https://repo.continuum.io/miniconda/Miniconda3-latest-Linux-x86_64.sh\n",
            "done\n",
            "installing miniconda to /root/miniconda\n",
            "done\n",
            "installing rdkit, openmm, pdbfixer\n",
            "added conda-forge to channels\n",
            "added omnia to channels\n",
            "done\n",
            "conda packages installation finished!\n"
          ],
          "name": "stderr"
        },
        {
          "output_type": "stream",
          "text": [
            "# conda environments:\n",
            "#\n",
            "base                  *  /root/miniconda\n",
            "\n",
            "Collecting deepchem\n",
            "\u001b[?25l  Downloading https://files.pythonhosted.org/packages/0f/c5/eeae4153d6465fe234febc1cf28aaf7af75ba9b2f574afb49a126be1399b/deepchem-2.6.0.dev20210609203819-py3-none-any.whl (564kB)\n",
            "\u001b[K     |████████████████████████████████| 573kB 3.8MB/s \n",
            "\u001b[?25hRequirement already satisfied: scikit-learn in /usr/local/lib/python3.7/dist-packages (from deepchem) (0.22.2.post1)\n",
            "Requirement already satisfied: scipy in /usr/local/lib/python3.7/dist-packages (from deepchem) (1.4.1)\n",
            "Requirement already satisfied: joblib in /usr/local/lib/python3.7/dist-packages (from deepchem) (1.0.1)\n",
            "Requirement already satisfied: numpy in /usr/local/lib/python3.7/dist-packages (from deepchem) (1.19.5)\n",
            "Requirement already satisfied: pandas in /usr/local/lib/python3.7/dist-packages (from deepchem) (1.1.5)\n",
            "Requirement already satisfied: python-dateutil>=2.7.3 in /usr/local/lib/python3.7/dist-packages (from pandas->deepchem) (2.8.1)\n",
            "Requirement already satisfied: pytz>=2017.2 in /usr/local/lib/python3.7/dist-packages (from pandas->deepchem) (2018.9)\n",
            "Requirement already satisfied: six>=1.5 in /usr/local/lib/python3.7/dist-packages (from python-dateutil>=2.7.3->pandas->deepchem) (1.15.0)\n",
            "Installing collected packages: deepchem\n",
            "Successfully installed deepchem-2.6.0.dev20210609203819\n"
          ],
          "name": "stdout"
        },
        {
          "output_type": "execute_result",
          "data": {
            "application/vnd.google.colaboratory.intrinsic+json": {
              "type": "string"
            },
            "text/plain": [
              "'2.6.0.dev'"
            ]
          },
          "metadata": {
            "tags": []
          },
          "execution_count": 1
        }
      ]
    },
    {
      "cell_type": "markdown",
      "metadata": {
        "id": "IKCd9RgnngIt"
      },
      "source": [
        "We'll work with the next molecules"
      ]
    },
    {
      "cell_type": "code",
      "metadata": {
        "colab": {
          "base_uri": "https://localhost:8080/",
          "height": 217
        },
        "id": "A6jo_KwMnFIQ",
        "outputId": "e09cb2e5-c9a6-45bb-8d5e-9d96186097d4"
      },
      "source": [
        "from rdkit import Chem\n",
        "from rdkit.Chem.Draw import MolsToGridImage\n",
        "\n",
        "# Create a list of molecules\n",
        "smiles = [\"CCCCC\",\"CCOCC\",\"CCNCC\",\"CCSCC\"]\n",
        "molecules = [Chem.MolFromSmiles(x) for x in smiles]\n",
        "\n",
        "MolsToGridImage(mols=molecules, molsPerRow=4)"
      ],
      "execution_count": null,
      "outputs": [
        {
          "output_type": "execute_result",
          "data": {
            "image/png": "[encoded data removed]",
            "text/plain": [
              "<PIL.PngImagePlugin.PngImageFile image mode=RGB size=800x200 at 0x7F1450318910>"
            ]
          },
          "metadata": {
            "tags": []
          },
          "execution_count": 7
        }
      ]
    },
    {
      "cell_type": "code",
      "metadata": {
        "colab": {
          "base_uri": "https://localhost:8080/",
          "height": 217
        },
        "id": "J-DXTiXtoAKJ",
        "outputId": "773aa276-b56b-4251-8fb2-1926aa3e919e"
      },
      "source": [
        "# Which SMILES strings match the SMARTS pattern \"CCC\"?\n",
        "query = Chem.MolFromSmarts('CCC')\n",
        "# Only get the first match per molecule\n",
        "matches = [molecule.GetSubstructMatch(query) for molecule in molecules]\n",
        "\n",
        "# Visualize the matches\n",
        "MolsToGridImage(mols=molecules, molsPerRow=4, highlightAtomLists=matches)"
      ],
      "execution_count": null,
      "outputs": [
        {
          "output_type": "execute_result",
          "data": {
            "image/png": "[encoded data removed]",
            "text/plain": [
              "<PIL.PngImagePlugin.PngImageFile image mode=RGB size=800x200 at 0x7F14504B9250>"
            ]
          },
          "metadata": {
            "tags": []
          },
          "execution_count": 5
        }
      ]
    },
    {
      "cell_type": "code",
      "metadata": {
        "colab": {
          "base_uri": "https://localhost:8080/",
          "height": 217
        },
        "id": "868CZFWCphWD",
        "outputId": "a2c784ee-2603-459a-b2dc-f7f249000e8b"
      },
      "source": [
        "# Which SMILES strings match the SMARTS pattern \"C*C\"? \n",
        "# It'll match an aliphatic carbon attached to any atom attached to another carbon.\n",
        "query = Chem.MolFromSmarts('C*C')\n",
        "# Only get the first match per molecule\n",
        "matches = [molecule.GetSubstructMatch(query) for molecule in molecules]\n",
        "\n",
        "# Visualize the matches\n",
        "MolsToGridImage(mols=molecules, molsPerRow=4, highlightAtomLists=matches)"
      ],
      "execution_count": null,
      "outputs": [
        {
          "output_type": "execute_result",
          "data": {
            "image/png": "[encoded data removed]",
            "text/plain": [
              "<PIL.PngImagePlugin.PngImageFile image mode=RGB size=800x200 at 0x7F14503141D0>"
            ]
          },
          "metadata": {
            "tags": []
          },
          "execution_count": 6
        }
      ]
    },
    {
      "cell_type": "markdown",
      "metadata": {
        "id": "zD8tnK7XqpKr"
      },
      "source": [
        "The string “C[C,O,N]C” will match carbon attached to carbon, oxygen, or nitrogen, attached to another carbon."
      ]
    },
    {
      "cell_type": "code",
      "metadata": {
        "colab": {
          "base_uri": "https://localhost:8080/",
          "height": 217
        },
        "id": "rL9NM2NOqore",
        "outputId": "ac56480a-c7a4-483b-e552-fec4b1119da8"
      },
      "source": [
        "query = Chem.MolFromSmarts('C[C,N,O]C')\n",
        "matches = [molecule.GetSubstructMatch(query) for molecule in molecules]\n",
        "\n",
        "# Visualize the matches\n",
        "MolsToGridImage(mols=molecules, molsPerRow=4, highlightAtomLists=matches)"
      ],
      "execution_count": null,
      "outputs": [
        {
          "output_type": "execute_result",
          "data": {
            "image/png": "[encoded data removed]",
            "text/plain": [
              "<PIL.PngImagePlugin.PngImageFile image mode=RGB size=800x200 at 0x7F1450318F50>"
            ]
          },
          "metadata": {
            "tags": []
          },
          "execution_count": 8
        }
      ]
    },
    {
      "cell_type": "markdown",
      "metadata": {
        "id": "NhInX2hvrGaR"
      },
      "source": [
        "There is a lot more to SMARTS."
      ]
    }
  ]
}