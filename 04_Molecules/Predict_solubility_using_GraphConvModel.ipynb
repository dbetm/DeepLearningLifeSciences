{
  "nbformat": 4,
  "nbformat_minor": 0,
  "metadata": {
    "colab": {
      "name": "Predict solubility using GraphConvModel.ipynb",
      "provenance": [],
      "collapsed_sections": [],
      "authorship_tag": "ABX9TyMbaCgodQnXBMpsRZ8SYUdD",
      "include_colab_link": true
    },
    "kernelspec": {
      "name": "python3",
      "display_name": "Python 3"
    },
    "language_info": {
      "name": "python"
    },
    "accelerator": "GPU"
  },
  "cells": [
    {
      "cell_type": "markdown",
      "metadata": {
        "id": "view-in-github",
        "colab_type": "text"
      },
      "source": [
        "<a href=\"https://colab.research.google.com/github/dbetm/DeepLearningLifeSciences/blob/main/04_Molecules/Predict_solubility_using_GraphConvModel.ipynb\" target=\"_parent\"><img src=\"https://colab.research.google.com/assets/colab-badge.svg\" alt=\"Open In Colab\"/></a>"
      ]
    },
    {
      "cell_type": "code",
      "metadata": {
        "id": "ZcuV80M8qRIZ"
      },
      "source": [
        "# SETUP DEEPCHEM\n",
        "!pip install --pre deepchem\n",
        "import deepchem\n",
        "deepchem.__version__"
      ],
      "execution_count": null,
      "outputs": []
    },
    {
      "cell_type": "code",
      "metadata": {
        "id": "CMTrdw2tqXnZ"
      },
      "source": [
        "import deepchem as dc"
      ],
      "execution_count": null,
      "outputs": []
    },
    {
      "cell_type": "markdown",
      "metadata": {
        "id": "s1Ahsq1yqEuk"
      },
      "source": [
        "## Loading dataset"
      ]
    },
    {
      "cell_type": "markdown",
      "metadata": {
        "id": "9pJMxtWIrLp3"
      },
      "source": [
        "The dataset contains info. about solubility, which is a measure of how easily a molecules dissolves in water.\n",
        "\n",
        "If it does not dissolve easily, getting enough of it into a patient’s bloodstream to have a therapeutic effect may be impossible.\n",
        "\n",
        "[Dataset delaney](https://github.com/deepchem/deepchem/blob/master/datasets/delaney-processed.csv)"
      ]
    },
    {
      "cell_type": "code",
      "metadata": {
        "id": "IBTbXSkCpmtL"
      },
      "source": [
        "tasks, datasets, transformers = dc.molnet.load_delaney(featurizer='GraphConv')\n",
        "train_dataset, valid_dataset, test_dataset = datasets"
      ],
      "execution_count": null,
      "outputs": []
    },
    {
      "cell_type": "markdown",
      "metadata": {
        "id": "DRUdgeBgtvS0"
      },
      "source": [
        "## Building the model"
      ]
    },
    {
      "cell_type": "markdown",
      "metadata": {
        "id": "J5ShM6T6vMTJ"
      },
      "source": [
        "GraphConvModel works like an ordinary CNNs, but instead using vectors of numbers for each pixel, in this case a graph convolutional network (GCN) begins with a vector of numbers for each node and/or edge. When the graph represents a molecule, those numbers could be high-level chemical properties of each atom, such as its element, charge, and hybridization state.\n",
        "\n",
        "GCNs have one important limitation: The calculation is based solely on the molecular graph. They receive no information about the molecule’s conformation, so they cannot hope to predict anything that is conformation-dependent. This makes them most suitable for small, mostly rigid molecules."
      ]
    },
    {
      "cell_type": "code",
      "metadata": {
        "id": "6YuWNfF_uMND"
      },
      "source": [
        "model = dc.models.GraphConvModel(n_tasks=1, mode='regression', dropout=0.2)"
      ],
      "execution_count": null,
      "outputs": []
    },
    {
      "cell_type": "markdown",
      "metadata": {
        "id": "2M3wju7HxAg9"
      },
      "source": [
        "## TRAINING AND MEASURING PERFORMANCE\n",
        "\n"
      ]
    },
    {
      "cell_type": "code",
      "metadata": {
        "id": "Fbr-zlLIxLkr"
      },
      "source": [
        "model.fit(train_dataset, nb_epoch=110)"
      ],
      "execution_count": null,
      "outputs": []
    },
    {
      "cell_type": "markdown",
      "metadata": {
        "id": "CDQhM65Mx0jF"
      },
      "source": [
        "### Metrics\n",
        "\n",
        "Pearson correlation coefficient (`r`): Measures the strength and direction of a linear relationship. For example, a perfectly linear relationship with a positive/negative trend has `r=1`/`r=-1`, while no linear relationship has `r=0`.\n",
        "\n",
        "`r^2`: The proportion of the variation in `y` is SSR (Sum of Squared Residuals) / TSS (Total Sum of Squares). \n",
        "`r^2 = 1-(SSR/TSS)`, so is the coefficient of determination to measure how close data are to fitted regression line. Closest to 1 is fittest. Unless `r^2=1`, there will always be some amount of variation in `y` that's unexplained by `x`."
      ]
    },
    {
      "cell_type": "code",
      "metadata": {
        "id": "fwOS2JAoxy_x",
        "colab": {
          "base_uri": "https://localhost:8080/"
        },
        "outputId": "11aa270f-fd67-4283-ee0e-e0328572ee60"
      },
      "source": [
        "# Metrics\n",
        "metric = dc.metrics.Metric(dc.metrics.pearson_r2_score)\n",
        "print(model.evaluate(train_dataset, [metric], transformers))\n",
        "print(model.evaluate(test_dataset, [metric], transformers))"
      ],
      "execution_count": null,
      "outputs": [
        {
          "output_type": "stream",
          "text": [
            "{'pearson_r2_score': 0.9112915522059409}\n",
            "{'pearson_r2_score': 0.6738927468941923}\n"
          ],
          "name": "stdout"
        }
      ]
    },
    {
      "cell_type": "markdown",
      "metadata": {
        "id": "oHUobx15j4zF"
      },
      "source": [
        "## TESTING"
      ]
    },
    {
      "cell_type": "code",
      "metadata": {
        "id": "Fjn233n4j59v"
      },
      "source": [
        "# molecules for testing, using SMILES (Simplified Molecular Input Line Entry System) format.\n",
        "smiles = [\n",
        "  'COC(C)(C)CCCC(C)CC=CC(C)=CC(=O)OC(C)C',\n",
        "  'CCOC(=O)CC',\n",
        "  'CSc1nc(NC(C)C)nc(NC(C)C)n1',\n",
        "  'CC(C#C)N(C)C(=O)Nc1ccc(Cl)cc1',\n",
        "  'Cc1cc2ccccc2cc1C'\n",
        "]"
      ],
      "execution_count": null,
      "outputs": []
    },
    {
      "cell_type": "markdown",
      "metadata": {
        "id": "izcKDztHpA5l"
      },
      "source": [
        "We need to use RDKIT to parse the SMILES strings, then use a DeepChem featurizer to convert them to the format expected by the graph convolution.\n"
      ]
    },
    {
      "cell_type": "code",
      "metadata": {
        "id": "OrLohGeio1Jm"
      },
      "source": [
        "from rdkit import Chem\n",
        "\n",
        "mols = [Chem.MolFromSmiles(s) for s in smiles]\n",
        "featurizer = dc.feat.ConvMolFeaturizer()\n",
        "x = featurizer.featurize(mols)"
      ],
      "execution_count": null,
      "outputs": []
    },
    {
      "cell_type": "code",
      "metadata": {
        "colab": {
          "base_uri": "https://localhost:8080/"
        },
        "id": "SU10yJ9jppH_",
        "outputId": "3d51edd0-f857-4c65-ecce-a3a442aa88b3"
      },
      "source": [
        "# Prediction\n",
        "predicted_solubility = model.predict_on_batch(x)\n",
        "print(predicted_solubility)"
      ],
      "execution_count": null,
      "outputs": [
        {
          "output_type": "stream",
          "text": [
            "[[-0.28259313]\n",
            " [ 1.3402852 ]\n",
            " [ 0.26678705]\n",
            " [-0.4907226 ]\n",
            " [-0.3866803 ]]\n"
          ],
          "name": "stdout"
        }
      ]
    },
    {
      "cell_type": "markdown",
      "metadata": {
        "id": "qzj8hjATrG6H"
      },
      "source": [
        "NOTE: The model is poor to predict on unseen data, we could improve the performance making tuning."
      ]
    }
  ]
}